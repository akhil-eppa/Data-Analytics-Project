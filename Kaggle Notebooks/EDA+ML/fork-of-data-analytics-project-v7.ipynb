{
 "cells": [
  {
   "cell_type": "code",
   "execution_count": 1,
   "metadata": {
    "_cell_guid": "b1076dfc-b9ad-4769-8c92-a6c4dae69d19",
    "_uuid": "8f2839f25d086af736a60e9eeb907d3b93b6e0e5",
    "execution": {
     "iopub.execute_input": "2020-10-26T14:58:21.347335Z",
     "iopub.status.busy": "2020-10-26T14:58:21.346501Z",
     "iopub.status.idle": "2020-10-26T14:58:23.397609Z",
     "shell.execute_reply": "2020-10-26T14:58:23.396357Z"
    },
    "papermill": {
     "duration": 2.118071,
     "end_time": "2020-10-26T14:58:23.397939",
     "exception": false,
     "start_time": "2020-10-26T14:58:21.279868",
     "status": "completed"
    },
    "tags": []
   },
   "outputs": [
    {
     "name": "stdout",
     "output_type": "stream",
     "text": [
      "/kaggle/input/competitive-data-science-predict-future-sales/items.csv\n",
      "/kaggle/input/competitive-data-science-predict-future-sales/sales_train.csv\n",
      "/kaggle/input/competitive-data-science-predict-future-sales/item_categories.csv\n",
      "/kaggle/input/competitive-data-science-predict-future-sales/test.csv\n",
      "/kaggle/input/competitive-data-science-predict-future-sales/shops.csv\n",
      "/kaggle/input/competitive-data-science-predict-future-sales/sample_submission.csv\n"
     ]
    }
   ],
   "source": [
    "# This Python 3 environment comes with many helpful analytics libraries installed\n",
    "# It is defined by the kaggle/python Docker image: https://github.com/kaggle/docker-python\n",
    "# For example, here's several helpful packages to load\n",
    "\n",
    "import numpy as np # linear algebra\n",
    "import pandas as pd # data processing, CSV file I/O (e.g. pd.read_csv)\n",
    "import statsmodels.api as sm\n",
    "\n",
    "#Plot the amount earned as revenue every month\n",
    "import plotly.offline as ply\n",
    "import plotly.graph_objs as go\n",
    "from plotly.tools import make_subplots\n",
    "import colorlover as cl\n",
    "\n",
    "\n",
    "import matplotlib.pyplot as plt\n",
    "import seaborn as sns\n",
    "\n",
    "# Input data files are available in the read-only \"../input/\" directory\n",
    "# For example, running this (by clicking run or pressing Shift+Enter) will list all files under the input directory\n",
    "\n",
    "import os\n",
    "for dirname, _, filenames in os.walk('/kaggle/input'):\n",
    "    for filename in filenames:\n",
    "        print(os.path.join(dirname, filename))\n",
    "\n",
    "# You can write up to 5GB to the current directory (/kaggle/working/) that gets preserved as output when you create a version using \"Save & Run All\" \n",
    "# You can also write temporary files to /kaggle/temp/, but they won't be saved outside of the current session"
   ]
  },
  {
   "cell_type": "code",
   "execution_count": 2,
   "metadata": {
    "execution": {
     "iopub.execute_input": "2020-10-26T14:58:23.521824Z",
     "iopub.status.busy": "2020-10-26T14:58:23.520757Z",
     "iopub.status.idle": "2020-10-26T14:58:23.524149Z",
     "shell.execute_reply": "2020-10-26T14:58:23.523486Z"
    },
    "papermill": {
     "duration": 0.067721,
     "end_time": "2020-10-26T14:58:23.524269",
     "exception": false,
     "start_time": "2020-10-26T14:58:23.456548",
     "status": "completed"
    },
    "tags": []
   },
   "outputs": [],
   "source": [
    "SMALL_SIZE = 10\n",
    "MEDIUM_SIZE = 11\n",
    "BIGGER_SIZE = 14\n",
    "BIGGEST_SIZE = 18\n",
    "\n",
    "plt.rc('font', size=SMALL_SIZE)          # controls default text sizes\n",
    "plt.rc('axes', titlesize=BIGGER_SIZE)     # fontsize of the axes title\n",
    "plt.rc('axes', labelsize=BIGGER_SIZE)    # fontsize of the x and y labels\n",
    "plt.rc('xtick', labelsize=MEDIUM_SIZE)    # fontsize of the tick labels\n",
    "plt.rc('ytick', labelsize=MEDIUM_SIZE)    # fontsize of the tick labels\n",
    "plt.rc('legend', fontsize=SMALL_SIZE)    # legend fontsize\n",
    "plt.rc('figure', titlesize=BIGGEST_SIZE)  # fontsize of the figure title"
   ]
  },
  {
   "cell_type": "code",
   "execution_count": 3,
   "metadata": {
    "_cell_guid": "79c7e3d0-c299-4dcb-8224-4455121ee9b0",
    "_uuid": "d629ff2d2480ee46fbb7e2d37f6b5fab8052498a",
    "execution": {
     "iopub.execute_input": "2020-10-26T14:58:23.644509Z",
     "iopub.status.busy": "2020-10-26T14:58:23.643724Z",
     "iopub.status.idle": "2020-10-26T14:58:27.516638Z",
     "shell.execute_reply": "2020-10-26T14:58:27.515694Z"
    },
    "papermill": {
     "duration": 3.936521,
     "end_time": "2020-10-26T14:58:27.516801",
     "exception": false,
     "start_time": "2020-10-26T14:58:23.580280",
     "status": "completed"
    },
    "tags": []
   },
   "outputs": [],
   "source": [
    "#Importing all the datasets\n",
    "\n",
    "train_data = pd.read_csv('../input/competitive-data-science-predict-future-sales/sales_train.csv')\n",
    "# Table on the Date Of Purchase,Shop ID, Item ID, Price and Quantity(Bought Or Returned)\n",
    "categories_data = pd.read_csv(\"../input/competitive-data-science-predict-future-sales/item_categories.csv\")\n",
    "# Table on Item Category Name corresponding to the Item Category ID\n",
    "items_data = pd.read_csv(\"../input/competitive-data-science-predict-future-sales/items.csv\")\n",
    "# Table Of Name Of the Item along with its ID along with the Item Category ID it is associated with\n",
    "shops_data = pd.read_csv(\"../input/competitive-data-science-predict-future-sales/shops.csv\")\n",
    "# Table Of Name Of The Shop along with its ID and setting the ID in the file as the ID pandas should use as well\n",
    "test_data = pd.read_csv(\"../input/competitive-data-science-predict-future-sales/test.csv\").set_index('ID')\n",
    "# Table Of Shop ID along with Item ID for prediction"
   ]
  },
  {
   "cell_type": "code",
   "execution_count": 4,
   "metadata": {
    "execution": {
     "iopub.execute_input": "2020-10-26T14:58:27.636983Z",
     "iopub.status.busy": "2020-10-26T14:58:27.635970Z",
     "iopub.status.idle": "2020-10-26T14:58:27.639797Z",
     "shell.execute_reply": "2020-10-26T14:58:27.640433Z"
    },
    "papermill": {
     "duration": 0.067475,
     "end_time": "2020-10-26T14:58:27.640619",
     "exception": false,
     "start_time": "2020-10-26T14:58:27.573144",
     "status": "completed"
    },
    "tags": []
   },
   "outputs": [
    {
     "name": "stdout",
     "output_type": "stream",
     "text": [
      "train: (2935849, 6) test: (214200, 2)\n",
      "items: (22170, 3) item_cats: (84, 2) shops: (60, 2)\n"
     ]
    }
   ],
   "source": [
    "#dimensions of datasets\n",
    "print('train:', train_data.shape, 'test:', test_data.shape)\n",
    "print('items:', items_data.shape, 'item_cats:', categories_data.shape, 'shops:', shops_data.shape)"
   ]
  },
  {
   "cell_type": "code",
   "execution_count": 5,
   "metadata": {
    "execution": {
     "iopub.execute_input": "2020-10-26T14:58:27.766481Z",
     "iopub.status.busy": "2020-10-26T14:58:27.765627Z",
     "iopub.status.idle": "2020-10-26T14:58:27.777593Z",
     "shell.execute_reply": "2020-10-26T14:58:27.777005Z"
    },
    "papermill": {
     "duration": 0.080984,
     "end_time": "2020-10-26T14:58:27.777734",
     "exception": false,
     "start_time": "2020-10-26T14:58:27.696750",
     "status": "completed"
    },
    "tags": []
   },
   "outputs": [
    {
     "data": {
      "text/html": [
       "<div>\n",
       "<style scoped>\n",
       "    .dataframe tbody tr th:only-of-type {\n",
       "        vertical-align: middle;\n",
       "    }\n",
       "\n",
       "    .dataframe tbody tr th {\n",
       "        vertical-align: top;\n",
       "    }\n",
       "\n",
       "    .dataframe thead th {\n",
       "        text-align: right;\n",
       "    }\n",
       "</style>\n",
       "<table border=\"1\" class=\"dataframe\">\n",
       "  <thead>\n",
       "    <tr style=\"text-align: right;\">\n",
       "      <th></th>\n",
       "      <th>date</th>\n",
       "      <th>date_block_num</th>\n",
       "      <th>shop_id</th>\n",
       "      <th>item_id</th>\n",
       "      <th>item_price</th>\n",
       "      <th>item_cnt_day</th>\n",
       "    </tr>\n",
       "  </thead>\n",
       "  <tbody>\n",
       "    <tr>\n",
       "      <th>0</th>\n",
       "      <td>02.01.2013</td>\n",
       "      <td>0</td>\n",
       "      <td>59</td>\n",
       "      <td>22154</td>\n",
       "      <td>999.00</td>\n",
       "      <td>1.0</td>\n",
       "    </tr>\n",
       "    <tr>\n",
       "      <th>1</th>\n",
       "      <td>03.01.2013</td>\n",
       "      <td>0</td>\n",
       "      <td>25</td>\n",
       "      <td>2552</td>\n",
       "      <td>899.00</td>\n",
       "      <td>1.0</td>\n",
       "    </tr>\n",
       "    <tr>\n",
       "      <th>2</th>\n",
       "      <td>05.01.2013</td>\n",
       "      <td>0</td>\n",
       "      <td>25</td>\n",
       "      <td>2552</td>\n",
       "      <td>899.00</td>\n",
       "      <td>-1.0</td>\n",
       "    </tr>\n",
       "    <tr>\n",
       "      <th>3</th>\n",
       "      <td>06.01.2013</td>\n",
       "      <td>0</td>\n",
       "      <td>25</td>\n",
       "      <td>2554</td>\n",
       "      <td>1709.05</td>\n",
       "      <td>1.0</td>\n",
       "    </tr>\n",
       "    <tr>\n",
       "      <th>4</th>\n",
       "      <td>15.01.2013</td>\n",
       "      <td>0</td>\n",
       "      <td>25</td>\n",
       "      <td>2555</td>\n",
       "      <td>1099.00</td>\n",
       "      <td>1.0</td>\n",
       "    </tr>\n",
       "  </tbody>\n",
       "</table>\n",
       "</div>"
      ],
      "text/plain": [
       "         date  date_block_num  shop_id  item_id  item_price  item_cnt_day\n",
       "0  02.01.2013               0       59    22154      999.00           1.0\n",
       "1  03.01.2013               0       25     2552      899.00           1.0\n",
       "2  05.01.2013               0       25     2552      899.00          -1.0\n",
       "3  06.01.2013               0       25     2554     1709.05           1.0\n",
       "4  15.01.2013               0       25     2555     1099.00           1.0"
      ]
     },
     "execution_count": 5,
     "metadata": {},
     "output_type": "execute_result"
    }
   ],
   "source": [
    "train_data.head()\n",
    "# date_block_num is a consecutive month number, used for convenience. January 2013 is 0, February 2013 is 1,..., \n",
    "# October 2015 is 33 and so on"
   ]
  },
  {
   "cell_type": "code",
   "execution_count": 6,
   "metadata": {
    "execution": {
     "iopub.execute_input": "2020-10-26T14:58:27.898030Z",
     "iopub.status.busy": "2020-10-26T14:58:27.897270Z",
     "iopub.status.idle": "2020-10-26T14:58:27.909340Z",
     "shell.execute_reply": "2020-10-26T14:58:27.908761Z"
    },
    "papermill": {
     "duration": 0.074685,
     "end_time": "2020-10-26T14:58:27.909470",
     "exception": false,
     "start_time": "2020-10-26T14:58:27.834785",
     "status": "completed"
    },
    "tags": []
   },
   "outputs": [
    {
     "data": {
      "text/plain": [
       "(0, 59)"
      ]
     },
     "execution_count": 6,
     "metadata": {},
     "output_type": "execute_result"
    }
   ],
   "source": [
    "(train_data[\"shop_id\"].min(), train_data[\"shop_id\"].max())"
   ]
  },
  {
   "cell_type": "code",
   "execution_count": 7,
   "metadata": {
    "execution": {
     "iopub.execute_input": "2020-10-26T14:58:28.034907Z",
     "iopub.status.busy": "2020-10-26T14:58:28.033803Z",
     "iopub.status.idle": "2020-10-26T14:58:28.038767Z",
     "shell.execute_reply": "2020-10-26T14:58:28.038003Z"
    },
    "papermill": {
     "duration": 0.071411,
     "end_time": "2020-10-26T14:58:28.038891",
     "exception": false,
     "start_time": "2020-10-26T14:58:27.967480",
     "status": "completed"
    },
    "tags": []
   },
   "outputs": [
    {
     "data": {
      "text/plain": [
       "(0, 83)"
      ]
     },
     "execution_count": 7,
     "metadata": {},
     "output_type": "execute_result"
    }
   ],
   "source": [
    "(categories_data[\"item_category_id\"].min(), categories_data[\"item_category_id\"].max())"
   ]
  },
  {
   "cell_type": "code",
   "execution_count": 8,
   "metadata": {
    "execution": {
     "iopub.execute_input": "2020-10-26T14:58:28.165343Z",
     "iopub.status.busy": "2020-10-26T14:58:28.164402Z",
     "iopub.status.idle": "2020-10-26T14:58:28.168854Z",
     "shell.execute_reply": "2020-10-26T14:58:28.168125Z"
    },
    "papermill": {
     "duration": 0.071953,
     "end_time": "2020-10-26T14:58:28.168980",
     "exception": false,
     "start_time": "2020-10-26T14:58:28.097027",
     "status": "completed"
    },
    "tags": []
   },
   "outputs": [
    {
     "data": {
      "text/html": [
       "<div>\n",
       "<style scoped>\n",
       "    .dataframe tbody tr th:only-of-type {\n",
       "        vertical-align: middle;\n",
       "    }\n",
       "\n",
       "    .dataframe tbody tr th {\n",
       "        vertical-align: top;\n",
       "    }\n",
       "\n",
       "    .dataframe thead th {\n",
       "        text-align: right;\n",
       "    }\n",
       "</style>\n",
       "<table border=\"1\" class=\"dataframe\">\n",
       "  <thead>\n",
       "    <tr style=\"text-align: right;\">\n",
       "      <th></th>\n",
       "      <th>shop_id</th>\n",
       "      <th>item_id</th>\n",
       "    </tr>\n",
       "    <tr>\n",
       "      <th>ID</th>\n",
       "      <th></th>\n",
       "      <th></th>\n",
       "    </tr>\n",
       "  </thead>\n",
       "  <tbody>\n",
       "    <tr>\n",
       "      <th>0</th>\n",
       "      <td>5</td>\n",
       "      <td>5037</td>\n",
       "    </tr>\n",
       "    <tr>\n",
       "      <th>1</th>\n",
       "      <td>5</td>\n",
       "      <td>5320</td>\n",
       "    </tr>\n",
       "    <tr>\n",
       "      <th>2</th>\n",
       "      <td>5</td>\n",
       "      <td>5233</td>\n",
       "    </tr>\n",
       "    <tr>\n",
       "      <th>3</th>\n",
       "      <td>5</td>\n",
       "      <td>5232</td>\n",
       "    </tr>\n",
       "    <tr>\n",
       "      <th>4</th>\n",
       "      <td>5</td>\n",
       "      <td>5268</td>\n",
       "    </tr>\n",
       "  </tbody>\n",
       "</table>\n",
       "</div>"
      ],
      "text/plain": [
       "    shop_id  item_id\n",
       "ID                  \n",
       "0         5     5037\n",
       "1         5     5320\n",
       "2         5     5233\n",
       "3         5     5232\n",
       "4         5     5268"
      ]
     },
     "execution_count": 8,
     "metadata": {},
     "output_type": "execute_result"
    }
   ],
   "source": [
    "test_data.head()"
   ]
  },
  {
   "cell_type": "code",
   "execution_count": 9,
   "metadata": {
    "execution": {
     "iopub.execute_input": "2020-10-26T14:58:28.299486Z",
     "iopub.status.busy": "2020-10-26T14:58:28.298324Z",
     "iopub.status.idle": "2020-10-26T14:58:28.302535Z",
     "shell.execute_reply": "2020-10-26T14:58:28.303112Z"
    },
    "papermill": {
     "duration": 0.0749,
     "end_time": "2020-10-26T14:58:28.303287",
     "exception": false,
     "start_time": "2020-10-26T14:58:28.228387",
     "status": "completed"
    },
    "tags": []
   },
   "outputs": [
    {
     "data": {
      "text/html": [
       "<div>\n",
       "<style scoped>\n",
       "    .dataframe tbody tr th:only-of-type {\n",
       "        vertical-align: middle;\n",
       "    }\n",
       "\n",
       "    .dataframe tbody tr th {\n",
       "        vertical-align: top;\n",
       "    }\n",
       "\n",
       "    .dataframe thead th {\n",
       "        text-align: right;\n",
       "    }\n",
       "</style>\n",
       "<table border=\"1\" class=\"dataframe\">\n",
       "  <thead>\n",
       "    <tr style=\"text-align: right;\">\n",
       "      <th></th>\n",
       "      <th>item_category_name</th>\n",
       "      <th>item_category_id</th>\n",
       "    </tr>\n",
       "  </thead>\n",
       "  <tbody>\n",
       "    <tr>\n",
       "      <th>0</th>\n",
       "      <td>PC - Гарнитуры/Наушники</td>\n",
       "      <td>0</td>\n",
       "    </tr>\n",
       "    <tr>\n",
       "      <th>1</th>\n",
       "      <td>Аксессуары - PS2</td>\n",
       "      <td>1</td>\n",
       "    </tr>\n",
       "    <tr>\n",
       "      <th>2</th>\n",
       "      <td>Аксессуары - PS3</td>\n",
       "      <td>2</td>\n",
       "    </tr>\n",
       "    <tr>\n",
       "      <th>3</th>\n",
       "      <td>Аксессуары - PS4</td>\n",
       "      <td>3</td>\n",
       "    </tr>\n",
       "    <tr>\n",
       "      <th>4</th>\n",
       "      <td>Аксессуары - PSP</td>\n",
       "      <td>4</td>\n",
       "    </tr>\n",
       "  </tbody>\n",
       "</table>\n",
       "</div>"
      ],
      "text/plain": [
       "        item_category_name  item_category_id\n",
       "0  PC - Гарнитуры/Наушники                 0\n",
       "1         Аксессуары - PS2                 1\n",
       "2         Аксессуары - PS3                 2\n",
       "3         Аксессуары - PS4                 3\n",
       "4         Аксессуары - PSP                 4"
      ]
     },
     "execution_count": 9,
     "metadata": {},
     "output_type": "execute_result"
    }
   ],
   "source": [
    "categories_data.head()"
   ]
  },
  {
   "cell_type": "code",
   "execution_count": 10,
   "metadata": {
    "execution": {
     "iopub.execute_input": "2020-10-26T14:58:28.434445Z",
     "iopub.status.busy": "2020-10-26T14:58:28.433367Z",
     "iopub.status.idle": "2020-10-26T14:58:28.437858Z",
     "shell.execute_reply": "2020-10-26T14:58:28.437117Z"
    },
    "papermill": {
     "duration": 0.074512,
     "end_time": "2020-10-26T14:58:28.437983",
     "exception": false,
     "start_time": "2020-10-26T14:58:28.363471",
     "status": "completed"
    },
    "tags": []
   },
   "outputs": [
    {
     "data": {
      "text/html": [
       "<div>\n",
       "<style scoped>\n",
       "    .dataframe tbody tr th:only-of-type {\n",
       "        vertical-align: middle;\n",
       "    }\n",
       "\n",
       "    .dataframe tbody tr th {\n",
       "        vertical-align: top;\n",
       "    }\n",
       "\n",
       "    .dataframe thead th {\n",
       "        text-align: right;\n",
       "    }\n",
       "</style>\n",
       "<table border=\"1\" class=\"dataframe\">\n",
       "  <thead>\n",
       "    <tr style=\"text-align: right;\">\n",
       "      <th></th>\n",
       "      <th>item_name</th>\n",
       "      <th>item_id</th>\n",
       "      <th>item_category_id</th>\n",
       "    </tr>\n",
       "  </thead>\n",
       "  <tbody>\n",
       "    <tr>\n",
       "      <th>0</th>\n",
       "      <td>! ВО ВЛАСТИ НАВАЖДЕНИЯ (ПЛАСТ.)         D</td>\n",
       "      <td>0</td>\n",
       "      <td>40</td>\n",
       "    </tr>\n",
       "    <tr>\n",
       "      <th>1</th>\n",
       "      <td>!ABBYY FineReader 12 Professional Edition Full...</td>\n",
       "      <td>1</td>\n",
       "      <td>76</td>\n",
       "    </tr>\n",
       "    <tr>\n",
       "      <th>2</th>\n",
       "      <td>***В ЛУЧАХ СЛАВЫ   (UNV)                    D</td>\n",
       "      <td>2</td>\n",
       "      <td>40</td>\n",
       "    </tr>\n",
       "    <tr>\n",
       "      <th>3</th>\n",
       "      <td>***ГОЛУБАЯ ВОЛНА  (Univ)                      D</td>\n",
       "      <td>3</td>\n",
       "      <td>40</td>\n",
       "    </tr>\n",
       "    <tr>\n",
       "      <th>4</th>\n",
       "      <td>***КОРОБКА (СТЕКЛО)                       D</td>\n",
       "      <td>4</td>\n",
       "      <td>40</td>\n",
       "    </tr>\n",
       "  </tbody>\n",
       "</table>\n",
       "</div>"
      ],
      "text/plain": [
       "                                           item_name  item_id  \\\n",
       "0          ! ВО ВЛАСТИ НАВАЖДЕНИЯ (ПЛАСТ.)         D        0   \n",
       "1  !ABBYY FineReader 12 Professional Edition Full...        1   \n",
       "2      ***В ЛУЧАХ СЛАВЫ   (UNV)                    D        2   \n",
       "3    ***ГОЛУБАЯ ВОЛНА  (Univ)                      D        3   \n",
       "4        ***КОРОБКА (СТЕКЛО)                       D        4   \n",
       "\n",
       "   item_category_id  \n",
       "0                40  \n",
       "1                76  \n",
       "2                40  \n",
       "3                40  \n",
       "4                40  "
      ]
     },
     "execution_count": 10,
     "metadata": {},
     "output_type": "execute_result"
    }
   ],
   "source": [
    "items_data.head()"
   ]
  },
  {
   "cell_type": "code",
   "execution_count": 11,
   "metadata": {
    "execution": {
     "iopub.execute_input": "2020-10-26T14:58:28.570232Z",
     "iopub.status.busy": "2020-10-26T14:58:28.568862Z",
     "iopub.status.idle": "2020-10-26T14:58:28.573714Z",
     "shell.execute_reply": "2020-10-26T14:58:28.574275Z"
    },
    "papermill": {
     "duration": 0.075649,
     "end_time": "2020-10-26T14:58:28.574439",
     "exception": false,
     "start_time": "2020-10-26T14:58:28.498790",
     "status": "completed"
    },
    "tags": []
   },
   "outputs": [
    {
     "data": {
      "text/html": [
       "<div>\n",
       "<style scoped>\n",
       "    .dataframe tbody tr th:only-of-type {\n",
       "        vertical-align: middle;\n",
       "    }\n",
       "\n",
       "    .dataframe tbody tr th {\n",
       "        vertical-align: top;\n",
       "    }\n",
       "\n",
       "    .dataframe thead th {\n",
       "        text-align: right;\n",
       "    }\n",
       "</style>\n",
       "<table border=\"1\" class=\"dataframe\">\n",
       "  <thead>\n",
       "    <tr style=\"text-align: right;\">\n",
       "      <th></th>\n",
       "      <th>shop_name</th>\n",
       "      <th>shop_id</th>\n",
       "    </tr>\n",
       "  </thead>\n",
       "  <tbody>\n",
       "    <tr>\n",
       "      <th>0</th>\n",
       "      <td>!Якутск Орджоникидзе, 56 фран</td>\n",
       "      <td>0</td>\n",
       "    </tr>\n",
       "    <tr>\n",
       "      <th>1</th>\n",
       "      <td>!Якутск ТЦ \"Центральный\" фран</td>\n",
       "      <td>1</td>\n",
       "    </tr>\n",
       "    <tr>\n",
       "      <th>2</th>\n",
       "      <td>Адыгея ТЦ \"Мега\"</td>\n",
       "      <td>2</td>\n",
       "    </tr>\n",
       "    <tr>\n",
       "      <th>3</th>\n",
       "      <td>Балашиха ТРК \"Октябрь-Киномир\"</td>\n",
       "      <td>3</td>\n",
       "    </tr>\n",
       "    <tr>\n",
       "      <th>4</th>\n",
       "      <td>Волжский ТЦ \"Волга Молл\"</td>\n",
       "      <td>4</td>\n",
       "    </tr>\n",
       "  </tbody>\n",
       "</table>\n",
       "</div>"
      ],
      "text/plain": [
       "                        shop_name  shop_id\n",
       "0   !Якутск Орджоникидзе, 56 фран        0\n",
       "1   !Якутск ТЦ \"Центральный\" фран        1\n",
       "2                Адыгея ТЦ \"Мега\"        2\n",
       "3  Балашиха ТРК \"Октябрь-Киномир\"        3\n",
       "4        Волжский ТЦ \"Волга Молл\"        4"
      ]
     },
     "execution_count": 11,
     "metadata": {},
     "output_type": "execute_result"
    }
   ],
   "source": [
    "shops_data.head()"
   ]
  },
  {
   "cell_type": "code",
   "execution_count": 12,
   "metadata": {
    "execution": {
     "iopub.execute_input": "2020-10-26T14:58:28.703260Z",
     "iopub.status.busy": "2020-10-26T14:58:28.702305Z",
     "iopub.status.idle": "2020-10-26T14:58:28.705823Z",
     "shell.execute_reply": "2020-10-26T14:58:28.705147Z"
    },
    "papermill": {
     "duration": 0.070082,
     "end_time": "2020-10-26T14:58:28.705946",
     "exception": false,
     "start_time": "2020-10-26T14:58:28.635864",
     "status": "completed"
    },
    "tags": []
   },
   "outputs": [],
   "source": [
    "#To suppress scientific notation in pandas, the below command is executed\n",
    "pd.options.display.float_format = '{:.5f}'.format"
   ]
  },
  {
   "cell_type": "code",
   "execution_count": 13,
   "metadata": {
    "execution": {
     "iopub.execute_input": "2020-10-26T14:58:28.835375Z",
     "iopub.status.busy": "2020-10-26T14:58:28.834554Z",
     "iopub.status.idle": "2020-10-26T14:58:28.944602Z",
     "shell.execute_reply": "2020-10-26T14:58:28.945376Z"
    },
    "papermill": {
     "duration": 0.17753,
     "end_time": "2020-10-26T14:58:28.945539",
     "exception": false,
     "start_time": "2020-10-26T14:58:28.768009",
     "status": "completed"
    },
    "tags": []
   },
   "outputs": [
    {
     "name": "stdout",
     "output_type": "stream",
     "text": [
      "count   2935849.00000\n",
      "mean        890.85323\n",
      "std        1729.79963\n",
      "min          -1.00000\n",
      "25%         249.00000\n",
      "50%         399.00000\n",
      "75%         999.00000\n",
      "max      307980.00000\n",
      "Name: item_price, dtype: float64\n"
     ]
    }
   ],
   "source": [
    "#Explore the price of all items in the training dataset\n",
    "#For example get max, min, avg and deviation\n",
    "print(train_data['item_price'].describe())\n",
    "# NOTE: This includes double calculation for the returned items as well"
   ]
  },
  {
   "cell_type": "code",
   "execution_count": 14,
   "metadata": {
    "execution": {
     "iopub.execute_input": "2020-10-26T14:58:29.078331Z",
     "iopub.status.busy": "2020-10-26T14:58:29.077515Z",
     "iopub.status.idle": "2020-10-26T14:58:29.159966Z",
     "shell.execute_reply": "2020-10-26T14:58:29.158998Z"
    },
    "papermill": {
     "duration": 0.151452,
     "end_time": "2020-10-26T14:58:29.160149",
     "exception": false,
     "start_time": "2020-10-26T14:58:29.008697",
     "status": "completed"
    },
    "tags": []
   },
   "outputs": [
    {
     "name": "stdout",
     "output_type": "stream",
     "text": [
      "count   2935849.00000\n",
      "mean          1.24264\n",
      "std           2.61883\n",
      "min         -22.00000\n",
      "25%           1.00000\n",
      "50%           1.00000\n",
      "75%           1.00000\n",
      "max        2169.00000\n",
      "Name: item_cnt_day, dtype: float64\n"
     ]
    }
   ],
   "source": [
    "#Explore the count of all items in the training dataset\n",
    "#For example get max, min, avg and deviation\n",
    "print(train_data['item_cnt_day'].describe())\n",
    "# NOTE: This is a proper count as returned quantity will appropriately get subracted"
   ]
  },
  {
   "cell_type": "code",
   "execution_count": 15,
   "metadata": {
    "execution": {
     "iopub.execute_input": "2020-10-26T14:58:29.293689Z",
     "iopub.status.busy": "2020-10-26T14:58:29.292768Z",
     "iopub.status.idle": "2020-10-26T14:58:29.355678Z",
     "shell.execute_reply": "2020-10-26T14:58:29.354752Z"
    },
    "papermill": {
     "duration": 0.131007,
     "end_time": "2020-10-26T14:58:29.355833",
     "exception": false,
     "start_time": "2020-10-26T14:58:29.224826",
     "status": "completed"
    },
    "tags": []
   },
   "outputs": [
    {
     "data": {
      "text/html": [
       "<div>\n",
       "<style scoped>\n",
       "    .dataframe tbody tr th:only-of-type {\n",
       "        vertical-align: middle;\n",
       "    }\n",
       "\n",
       "    .dataframe tbody tr th {\n",
       "        vertical-align: top;\n",
       "    }\n",
       "\n",
       "    .dataframe thead th {\n",
       "        text-align: right;\n",
       "    }\n",
       "</style>\n",
       "<table border=\"1\" class=\"dataframe\">\n",
       "  <thead>\n",
       "    <tr style=\"text-align: right;\">\n",
       "      <th></th>\n",
       "      <th>date</th>\n",
       "      <th>date_block_num</th>\n",
       "      <th>shop_id</th>\n",
       "      <th>item_id</th>\n",
       "      <th>item_price</th>\n",
       "      <th>item_cnt_day</th>\n",
       "    </tr>\n",
       "  </thead>\n",
       "  <tbody>\n",
       "    <tr>\n",
       "      <th>484683</th>\n",
       "      <td>15.05.2013</td>\n",
       "      <td>4</td>\n",
       "      <td>32</td>\n",
       "      <td>2973</td>\n",
       "      <td>-1.00000</td>\n",
       "      <td>1.00000</td>\n",
       "    </tr>\n",
       "  </tbody>\n",
       "</table>\n",
       "</div>"
      ],
      "text/plain": [
       "              date  date_block_num  shop_id  item_id  item_price  item_cnt_day\n",
       "484683  15.05.2013               4       32     2973    -1.00000       1.00000"
      ]
     },
     "execution_count": 15,
     "metadata": {},
     "output_type": "execute_result"
    }
   ],
   "source": [
    "negative_item_price_entries = train_data[train_data['item_price'] < 0]\n",
    "\n",
    "negative_item_cnt_day_entries = train_data[train_data['item_cnt_day'] < 0]\n",
    "negative_item_cnt_day_entries = negative_item_cnt_day_entries.reset_index()\n",
    "\n",
    "\n",
    "negative_item_price_entries"
   ]
  },
  {
   "cell_type": "code",
   "execution_count": 16,
   "metadata": {
    "execution": {
     "iopub.execute_input": "2020-10-26T14:58:29.492357Z",
     "iopub.status.busy": "2020-10-26T14:58:29.491390Z",
     "iopub.status.idle": "2020-10-26T14:58:29.521553Z",
     "shell.execute_reply": "2020-10-26T14:58:29.520843Z"
    },
    "papermill": {
     "duration": 0.100662,
     "end_time": "2020-10-26T14:58:29.521687",
     "exception": false,
     "start_time": "2020-10-26T14:58:29.421025",
     "status": "completed"
    },
    "tags": []
   },
   "outputs": [
    {
     "data": {
      "text/html": [
       "<div>\n",
       "<style scoped>\n",
       "    .dataframe tbody tr th:only-of-type {\n",
       "        vertical-align: middle;\n",
       "    }\n",
       "\n",
       "    .dataframe tbody tr th {\n",
       "        vertical-align: top;\n",
       "    }\n",
       "\n",
       "    .dataframe thead th {\n",
       "        text-align: right;\n",
       "    }\n",
       "</style>\n",
       "<table border=\"1\" class=\"dataframe\">\n",
       "  <thead>\n",
       "    <tr style=\"text-align: right;\">\n",
       "      <th></th>\n",
       "      <th>date</th>\n",
       "      <th>date_block_num</th>\n",
       "      <th>shop_id</th>\n",
       "      <th>item_id</th>\n",
       "      <th>item_price</th>\n",
       "      <th>item_cnt_day</th>\n",
       "    </tr>\n",
       "  </thead>\n",
       "  <tbody>\n",
       "    <tr>\n",
       "      <th>484682</th>\n",
       "      <td>23.05.2013</td>\n",
       "      <td>4</td>\n",
       "      <td>32</td>\n",
       "      <td>2973</td>\n",
       "      <td>1249.00000</td>\n",
       "      <td>1.00000</td>\n",
       "    </tr>\n",
       "    <tr>\n",
       "      <th>484684</th>\n",
       "      <td>06.05.2013</td>\n",
       "      <td>4</td>\n",
       "      <td>32</td>\n",
       "      <td>2973</td>\n",
       "      <td>2499.00000</td>\n",
       "      <td>1.00000</td>\n",
       "    </tr>\n",
       "  </tbody>\n",
       "</table>\n",
       "</div>"
      ],
      "text/plain": [
       "              date  date_block_num  shop_id  item_id  item_price  item_cnt_day\n",
       "484682  23.05.2013               4       32     2973  1249.00000       1.00000\n",
       "484684  06.05.2013               4       32     2973  2499.00000       1.00000"
      ]
     },
     "execution_count": 16,
     "metadata": {},
     "output_type": "execute_result"
    }
   ],
   "source": [
    "train_data.loc[(train_data.shop_id==32) & (train_data.item_id==2973) & (train_data.date_block_num==4) & (train_data.item_price > 0)]"
   ]
  },
  {
   "cell_type": "code",
   "execution_count": 17,
   "metadata": {
    "execution": {
     "iopub.execute_input": "2020-10-26T14:58:29.674348Z",
     "iopub.status.busy": "2020-10-26T14:58:29.673348Z",
     "iopub.status.idle": "2020-10-26T14:58:29.678334Z",
     "shell.execute_reply": "2020-10-26T14:58:29.677719Z"
    },
    "papermill": {
     "duration": 0.090655,
     "end_time": "2020-10-26T14:58:29.678456",
     "exception": false,
     "start_time": "2020-10-26T14:58:29.587801",
     "status": "completed"
    },
    "tags": []
   },
   "outputs": [
    {
     "data": {
      "text/html": [
       "<div>\n",
       "<style scoped>\n",
       "    .dataframe tbody tr th:only-of-type {\n",
       "        vertical-align: middle;\n",
       "    }\n",
       "\n",
       "    .dataframe tbody tr th {\n",
       "        vertical-align: top;\n",
       "    }\n",
       "\n",
       "    .dataframe thead th {\n",
       "        text-align: right;\n",
       "    }\n",
       "</style>\n",
       "<table border=\"1\" class=\"dataframe\">\n",
       "  <thead>\n",
       "    <tr style=\"text-align: right;\">\n",
       "      <th></th>\n",
       "      <th>index</th>\n",
       "      <th>date</th>\n",
       "      <th>date_block_num</th>\n",
       "      <th>shop_id</th>\n",
       "      <th>item_id</th>\n",
       "      <th>item_price</th>\n",
       "      <th>item_cnt_day</th>\n",
       "    </tr>\n",
       "  </thead>\n",
       "  <tbody>\n",
       "    <tr>\n",
       "      <th>0</th>\n",
       "      <td>2</td>\n",
       "      <td>05.01.2013</td>\n",
       "      <td>0</td>\n",
       "      <td>25</td>\n",
       "      <td>2552</td>\n",
       "      <td>899.00000</td>\n",
       "      <td>-1.00000</td>\n",
       "    </tr>\n",
       "    <tr>\n",
       "      <th>1</th>\n",
       "      <td>148</td>\n",
       "      <td>23.01.2013</td>\n",
       "      <td>0</td>\n",
       "      <td>25</td>\n",
       "      <td>2321</td>\n",
       "      <td>999.00000</td>\n",
       "      <td>-1.00000</td>\n",
       "    </tr>\n",
       "    <tr>\n",
       "      <th>2</th>\n",
       "      <td>175</td>\n",
       "      <td>07.01.2013</td>\n",
       "      <td>0</td>\n",
       "      <td>25</td>\n",
       "      <td>2199</td>\n",
       "      <td>1449.00000</td>\n",
       "      <td>-1.00000</td>\n",
       "    </tr>\n",
       "    <tr>\n",
       "      <th>3</th>\n",
       "      <td>807</td>\n",
       "      <td>02.01.2013</td>\n",
       "      <td>0</td>\n",
       "      <td>25</td>\n",
       "      <td>2330</td>\n",
       "      <td>599.00000</td>\n",
       "      <td>-1.00000</td>\n",
       "    </tr>\n",
       "    <tr>\n",
       "      <th>4</th>\n",
       "      <td>1041</td>\n",
       "      <td>13.01.2013</td>\n",
       "      <td>0</td>\n",
       "      <td>25</td>\n",
       "      <td>5034</td>\n",
       "      <td>1989.00000</td>\n",
       "      <td>-1.00000</td>\n",
       "    </tr>\n",
       "    <tr>\n",
       "      <th>...</th>\n",
       "      <td>...</td>\n",
       "      <td>...</td>\n",
       "      <td>...</td>\n",
       "      <td>...</td>\n",
       "      <td>...</td>\n",
       "      <td>...</td>\n",
       "      <td>...</td>\n",
       "    </tr>\n",
       "    <tr>\n",
       "      <th>7351</th>\n",
       "      <td>2934243</td>\n",
       "      <td>26.10.2015</td>\n",
       "      <td>33</td>\n",
       "      <td>25</td>\n",
       "      <td>3917</td>\n",
       "      <td>449.00000</td>\n",
       "      <td>-1.00000</td>\n",
       "    </tr>\n",
       "    <tr>\n",
       "      <th>7352</th>\n",
       "      <td>2934462</td>\n",
       "      <td>18.10.2015</td>\n",
       "      <td>33</td>\n",
       "      <td>25</td>\n",
       "      <td>4896</td>\n",
       "      <td>6398.00000</td>\n",
       "      <td>-1.00000</td>\n",
       "    </tr>\n",
       "    <tr>\n",
       "      <th>7353</th>\n",
       "      <td>2935263</td>\n",
       "      <td>05.10.2015</td>\n",
       "      <td>33</td>\n",
       "      <td>25</td>\n",
       "      <td>10039</td>\n",
       "      <td>249.00000</td>\n",
       "      <td>-1.00000</td>\n",
       "    </tr>\n",
       "    <tr>\n",
       "      <th>7354</th>\n",
       "      <td>2935643</td>\n",
       "      <td>16.10.2015</td>\n",
       "      <td>33</td>\n",
       "      <td>25</td>\n",
       "      <td>7893</td>\n",
       "      <td>2990.00000</td>\n",
       "      <td>-1.00000</td>\n",
       "    </tr>\n",
       "    <tr>\n",
       "      <th>7355</th>\n",
       "      <td>2935779</td>\n",
       "      <td>07.10.2015</td>\n",
       "      <td>33</td>\n",
       "      <td>25</td>\n",
       "      <td>7087</td>\n",
       "      <td>999.00000</td>\n",
       "      <td>-1.00000</td>\n",
       "    </tr>\n",
       "  </tbody>\n",
       "</table>\n",
       "<p>7356 rows × 7 columns</p>\n",
       "</div>"
      ],
      "text/plain": [
       "        index        date  date_block_num  shop_id  item_id  item_price  \\\n",
       "0           2  05.01.2013               0       25     2552   899.00000   \n",
       "1         148  23.01.2013               0       25     2321   999.00000   \n",
       "2         175  07.01.2013               0       25     2199  1449.00000   \n",
       "3         807  02.01.2013               0       25     2330   599.00000   \n",
       "4        1041  13.01.2013               0       25     5034  1989.00000   \n",
       "...       ...         ...             ...      ...      ...         ...   \n",
       "7351  2934243  26.10.2015              33       25     3917   449.00000   \n",
       "7352  2934462  18.10.2015              33       25     4896  6398.00000   \n",
       "7353  2935263  05.10.2015              33       25    10039   249.00000   \n",
       "7354  2935643  16.10.2015              33       25     7893  2990.00000   \n",
       "7355  2935779  07.10.2015              33       25     7087   999.00000   \n",
       "\n",
       "      item_cnt_day  \n",
       "0         -1.00000  \n",
       "1         -1.00000  \n",
       "2         -1.00000  \n",
       "3         -1.00000  \n",
       "4         -1.00000  \n",
       "...            ...  \n",
       "7351      -1.00000  \n",
       "7352      -1.00000  \n",
       "7353      -1.00000  \n",
       "7354      -1.00000  \n",
       "7355      -1.00000  \n",
       "\n",
       "[7356 rows x 7 columns]"
      ]
     },
     "execution_count": 17,
     "metadata": {},
     "output_type": "execute_result"
    }
   ],
   "source": [
    "negative_item_cnt_day_entries"
   ]
  },
  {
   "cell_type": "code",
   "execution_count": 18,
   "metadata": {
    "execution": {
     "iopub.execute_input": "2020-10-26T14:58:29.823053Z",
     "iopub.status.busy": "2020-10-26T14:58:29.821861Z",
     "iopub.status.idle": "2020-10-26T14:58:30.030510Z",
     "shell.execute_reply": "2020-10-26T14:58:30.029758Z"
    },
    "papermill": {
     "duration": 0.287063,
     "end_time": "2020-10-26T14:58:30.030639",
     "exception": false,
     "start_time": "2020-10-26T14:58:29.743576",
     "status": "completed"
    },
    "tags": []
   },
   "outputs": [
    {
     "name": "stdout",
     "output_type": "stream",
     "text": [
      "0\n"
     ]
    },
    {
     "ename": "ValueError",
     "evalue": "The truth value of a Series is ambiguous. Use a.empty, a.bool(), a.item(), a.any() or a.all().",
     "output_type": "error",
     "traceback": [
      "\u001b[0;31m---------------------------------------------------------------------------\u001b[0m",
      "\u001b[0;31mValueError\u001b[0m                                Traceback (most recent call last)",
      "\u001b[0;32m<ipython-input-18-bd6f7b2f79c4>\u001b[0m in \u001b[0;36m<module>\u001b[0;34m\u001b[0m\n\u001b[1;32m      9\u001b[0m     \u001b[0mITEM_PRICE\u001b[0m \u001b[0;34m=\u001b[0m \u001b[0mnegative_item_cnt_day_entries\u001b[0m\u001b[0;34m.\u001b[0m\u001b[0mloc\u001b[0m\u001b[0;34m[\u001b[0m\u001b[0mi\u001b[0m\u001b[0;34m,\u001b[0m \u001b[0;34m'item_price'\u001b[0m\u001b[0;34m]\u001b[0m\u001b[0;34m\u001b[0m\u001b[0;34m\u001b[0m\u001b[0m\n\u001b[1;32m     10\u001b[0m \u001b[0;34m\u001b[0m\u001b[0m\n\u001b[0;32m---> 11\u001b[0;31m     \u001b[0mpossible_item_count\u001b[0m \u001b[0;34m=\u001b[0m \u001b[0mtrain_data\u001b[0m\u001b[0;34m.\u001b[0m\u001b[0mloc\u001b[0m\u001b[0;34m[\u001b[0m\u001b[0;34m(\u001b[0m\u001b[0mtrain_data\u001b[0m\u001b[0;34m.\u001b[0m\u001b[0mitem_id\u001b[0m \u001b[0;34m==\u001b[0m \u001b[0mI_ID\u001b[0m\u001b[0;34m)\u001b[0m \u001b[0;32mand\u001b[0m \u001b[0;34m(\u001b[0m\u001b[0mtrain_data\u001b[0m\u001b[0;34m.\u001b[0m\u001b[0mitem_price\u001b[0m \u001b[0;34m==\u001b[0m \u001b[0mITEM_PRICE\u001b[0m\u001b[0;34m)\u001b[0m \u001b[0;32mand\u001b[0m \u001b[0;34m(\u001b[0m\u001b[0mtrain_data\u001b[0m\u001b[0;34m[\u001b[0m\u001b[0;34m'item_cnt_day'\u001b[0m\u001b[0;34m]\u001b[0m \u001b[0;34m>\u001b[0m \u001b[0;36m0\u001b[0m\u001b[0;34m)\u001b[0m\u001b[0;34m]\u001b[0m\u001b[0;34m.\u001b[0m\u001b[0mitem_cnt_day\u001b[0m\u001b[0;34m.\u001b[0m\u001b[0mmax\u001b[0m\u001b[0;34m(\u001b[0m\u001b[0;34m)\u001b[0m\u001b[0;34m\u001b[0m\u001b[0;34m\u001b[0m\u001b[0m\n\u001b[0m\u001b[1;32m     12\u001b[0m \u001b[0;31m#     print(possible_item_count)\u001b[0m\u001b[0;34m\u001b[0m\u001b[0;34m\u001b[0m\u001b[0;34m\u001b[0m\u001b[0m\n\u001b[1;32m     13\u001b[0m \u001b[0;34m\u001b[0m\u001b[0m\n",
      "\u001b[0;32m/opt/conda/lib/python3.7/site-packages/pandas/core/generic.py\u001b[0m in \u001b[0;36m__nonzero__\u001b[0;34m(self)\u001b[0m\n\u001b[1;32m   1325\u001b[0m     \u001b[0;32mdef\u001b[0m \u001b[0m__nonzero__\u001b[0m\u001b[0;34m(\u001b[0m\u001b[0mself\u001b[0m\u001b[0;34m)\u001b[0m\u001b[0;34m:\u001b[0m\u001b[0;34m\u001b[0m\u001b[0;34m\u001b[0m\u001b[0m\n\u001b[1;32m   1326\u001b[0m         raise ValueError(\n\u001b[0;32m-> 1327\u001b[0;31m             \u001b[0;34mf\"The truth value of a {type(self).__name__} is ambiguous. \"\u001b[0m\u001b[0;34m\u001b[0m\u001b[0;34m\u001b[0m\u001b[0m\n\u001b[0m\u001b[1;32m   1328\u001b[0m             \u001b[0;34m\"Use a.empty, a.bool(), a.item(), a.any() or a.all().\"\u001b[0m\u001b[0;34m\u001b[0m\u001b[0;34m\u001b[0m\u001b[0m\n\u001b[1;32m   1329\u001b[0m         )\n",
      "\u001b[0;31mValueError\u001b[0m: The truth value of a Series is ambiguous. Use a.empty, a.bool(), a.item(), a.any() or a.all()."
     ]
    }
   ],
   "source": [
    "temp_range = range(len(negative_item_cnt_day_entries))\n",
    "for i in temp_range:\n",
    "    # Notify once a set of 100 values have been updated\n",
    "    if i / 100 == int(i / 100):\n",
    "        print(i)\n",
    "\n",
    "    INDEX = negative_item_cnt_day_entries.loc[i, 'index']\n",
    "    I_ID = negative_item_cnt_day_entries.loc[i, 'item_id']\n",
    "    ITEM_PRICE = negative_item_cnt_day_entries.loc[i, 'item_price']\n",
    "    \n",
    "    possible_item_count = train_data.loc[(train_data.item_id == I_ID) and (train_data.item_price == ITEM_PRICE) and (train_data['item_cnt_day'] > 0)].item_cnt_day.max()\n",
    "#     print(possible_item_count)\n",
    "    \n",
    "    # If no suitable match was found\n",
    "    if possible_item_count < 0:\n",
    "        # Try finding a value with a more lenient condition\n",
    "        possible_item_count = train_data.loc[(train_data.item_id == I_ID) and (train_data['item_cnt_day'] > 0)].item_cnt_day.max()\n",
    "        \n",
    "        # If no suitable match is found, then set the value to 1\n",
    "        if possible_item_count < 0:\n",
    "            possible_item_count = 1.0\n",
    "        \n",
    "    train_data.loc[train_data.index == INDEX, 'item_cnt_day'] = possible_item_count"
   ]
  },
  {
   "cell_type": "code",
   "execution_count": 19,
   "metadata": {
    "execution": {
     "iopub.execute_input": "2020-10-26T14:58:30.174733Z",
     "iopub.status.busy": "2020-10-26T14:58:30.173923Z",
     "iopub.status.idle": "2020-10-26T14:58:30.190258Z",
     "shell.execute_reply": "2020-10-26T14:58:30.189579Z"
    },
    "papermill": {
     "duration": 0.093773,
     "end_time": "2020-10-26T14:58:30.190385",
     "exception": false,
     "start_time": "2020-10-26T14:58:30.096612",
     "status": "completed"
    },
    "tags": []
   },
   "outputs": [
    {
     "data": {
      "text/plain": [
       "index             7356\n",
       "date              7356\n",
       "date_block_num    7356\n",
       "shop_id           7356\n",
       "item_id           7356\n",
       "item_price        7356\n",
       "item_cnt_day      7356\n",
       "dtype: int64"
      ]
     },
     "execution_count": 19,
     "metadata": {},
     "output_type": "execute_result"
    }
   ],
   "source": [
    "negative_item_cnt_day_entries = train_data[train_data['item_cnt_day'] < 0]\n",
    "negative_item_cnt_day_entries = negative_item_cnt_day_entries.reset_index()\n",
    "\n",
    "negative_item_cnt_day_entries.count()"
   ]
  },
  {
   "cell_type": "code",
   "execution_count": 20,
   "metadata": {
    "execution": {
     "iopub.execute_input": "2020-10-26T14:58:30.349690Z",
     "iopub.status.busy": "2020-10-26T14:58:30.348784Z",
     "iopub.status.idle": "2020-10-26T14:58:30.353373Z",
     "shell.execute_reply": "2020-10-26T14:58:30.354005Z"
    },
    "papermill": {
     "duration": 0.091073,
     "end_time": "2020-10-26T14:58:30.354166",
     "exception": false,
     "start_time": "2020-10-26T14:58:30.263093",
     "status": "completed"
    },
    "tags": []
   },
   "outputs": [
    {
     "data": {
      "text/html": [
       "<div>\n",
       "<style scoped>\n",
       "    .dataframe tbody tr th:only-of-type {\n",
       "        vertical-align: middle;\n",
       "    }\n",
       "\n",
       "    .dataframe tbody tr th {\n",
       "        vertical-align: top;\n",
       "    }\n",
       "\n",
       "    .dataframe thead th {\n",
       "        text-align: right;\n",
       "    }\n",
       "</style>\n",
       "<table border=\"1\" class=\"dataframe\">\n",
       "  <thead>\n",
       "    <tr style=\"text-align: right;\">\n",
       "      <th></th>\n",
       "      <th>index</th>\n",
       "      <th>date</th>\n",
       "      <th>date_block_num</th>\n",
       "      <th>shop_id</th>\n",
       "      <th>item_id</th>\n",
       "      <th>item_price</th>\n",
       "      <th>item_cnt_day</th>\n",
       "    </tr>\n",
       "  </thead>\n",
       "  <tbody>\n",
       "    <tr>\n",
       "      <th>0</th>\n",
       "      <td>2</td>\n",
       "      <td>05.01.2013</td>\n",
       "      <td>0</td>\n",
       "      <td>25</td>\n",
       "      <td>2552</td>\n",
       "      <td>899.00000</td>\n",
       "      <td>-1.00000</td>\n",
       "    </tr>\n",
       "    <tr>\n",
       "      <th>1</th>\n",
       "      <td>148</td>\n",
       "      <td>23.01.2013</td>\n",
       "      <td>0</td>\n",
       "      <td>25</td>\n",
       "      <td>2321</td>\n",
       "      <td>999.00000</td>\n",
       "      <td>-1.00000</td>\n",
       "    </tr>\n",
       "    <tr>\n",
       "      <th>2</th>\n",
       "      <td>175</td>\n",
       "      <td>07.01.2013</td>\n",
       "      <td>0</td>\n",
       "      <td>25</td>\n",
       "      <td>2199</td>\n",
       "      <td>1449.00000</td>\n",
       "      <td>-1.00000</td>\n",
       "    </tr>\n",
       "    <tr>\n",
       "      <th>3</th>\n",
       "      <td>807</td>\n",
       "      <td>02.01.2013</td>\n",
       "      <td>0</td>\n",
       "      <td>25</td>\n",
       "      <td>2330</td>\n",
       "      <td>599.00000</td>\n",
       "      <td>-1.00000</td>\n",
       "    </tr>\n",
       "    <tr>\n",
       "      <th>4</th>\n",
       "      <td>1041</td>\n",
       "      <td>13.01.2013</td>\n",
       "      <td>0</td>\n",
       "      <td>25</td>\n",
       "      <td>5034</td>\n",
       "      <td>1989.00000</td>\n",
       "      <td>-1.00000</td>\n",
       "    </tr>\n",
       "    <tr>\n",
       "      <th>...</th>\n",
       "      <td>...</td>\n",
       "      <td>...</td>\n",
       "      <td>...</td>\n",
       "      <td>...</td>\n",
       "      <td>...</td>\n",
       "      <td>...</td>\n",
       "      <td>...</td>\n",
       "    </tr>\n",
       "    <tr>\n",
       "      <th>7351</th>\n",
       "      <td>2934243</td>\n",
       "      <td>26.10.2015</td>\n",
       "      <td>33</td>\n",
       "      <td>25</td>\n",
       "      <td>3917</td>\n",
       "      <td>449.00000</td>\n",
       "      <td>-1.00000</td>\n",
       "    </tr>\n",
       "    <tr>\n",
       "      <th>7352</th>\n",
       "      <td>2934462</td>\n",
       "      <td>18.10.2015</td>\n",
       "      <td>33</td>\n",
       "      <td>25</td>\n",
       "      <td>4896</td>\n",
       "      <td>6398.00000</td>\n",
       "      <td>-1.00000</td>\n",
       "    </tr>\n",
       "    <tr>\n",
       "      <th>7353</th>\n",
       "      <td>2935263</td>\n",
       "      <td>05.10.2015</td>\n",
       "      <td>33</td>\n",
       "      <td>25</td>\n",
       "      <td>10039</td>\n",
       "      <td>249.00000</td>\n",
       "      <td>-1.00000</td>\n",
       "    </tr>\n",
       "    <tr>\n",
       "      <th>7354</th>\n",
       "      <td>2935643</td>\n",
       "      <td>16.10.2015</td>\n",
       "      <td>33</td>\n",
       "      <td>25</td>\n",
       "      <td>7893</td>\n",
       "      <td>2990.00000</td>\n",
       "      <td>-1.00000</td>\n",
       "    </tr>\n",
       "    <tr>\n",
       "      <th>7355</th>\n",
       "      <td>2935779</td>\n",
       "      <td>07.10.2015</td>\n",
       "      <td>33</td>\n",
       "      <td>25</td>\n",
       "      <td>7087</td>\n",
       "      <td>999.00000</td>\n",
       "      <td>-1.00000</td>\n",
       "    </tr>\n",
       "  </tbody>\n",
       "</table>\n",
       "<p>7356 rows × 7 columns</p>\n",
       "</div>"
      ],
      "text/plain": [
       "        index        date  date_block_num  shop_id  item_id  item_price  \\\n",
       "0           2  05.01.2013               0       25     2552   899.00000   \n",
       "1         148  23.01.2013               0       25     2321   999.00000   \n",
       "2         175  07.01.2013               0       25     2199  1449.00000   \n",
       "3         807  02.01.2013               0       25     2330   599.00000   \n",
       "4        1041  13.01.2013               0       25     5034  1989.00000   \n",
       "...       ...         ...             ...      ...      ...         ...   \n",
       "7351  2934243  26.10.2015              33       25     3917   449.00000   \n",
       "7352  2934462  18.10.2015              33       25     4896  6398.00000   \n",
       "7353  2935263  05.10.2015              33       25    10039   249.00000   \n",
       "7354  2935643  16.10.2015              33       25     7893  2990.00000   \n",
       "7355  2935779  07.10.2015              33       25     7087   999.00000   \n",
       "\n",
       "      item_cnt_day  \n",
       "0         -1.00000  \n",
       "1         -1.00000  \n",
       "2         -1.00000  \n",
       "3         -1.00000  \n",
       "4         -1.00000  \n",
       "...            ...  \n",
       "7351      -1.00000  \n",
       "7352      -1.00000  \n",
       "7353      -1.00000  \n",
       "7354      -1.00000  \n",
       "7355      -1.00000  \n",
       "\n",
       "[7356 rows x 7 columns]"
      ]
     },
     "execution_count": 20,
     "metadata": {},
     "output_type": "execute_result"
    }
   ],
   "source": [
    "negative_item_cnt_day_entries"
   ]
  },
  {
   "cell_type": "code",
   "execution_count": 21,
   "metadata": {
    "execution": {
     "iopub.execute_input": "2020-10-26T14:58:30.498020Z",
     "iopub.status.busy": "2020-10-26T14:58:30.496936Z",
     "iopub.status.idle": "2020-10-26T14:58:30.501168Z",
     "shell.execute_reply": "2020-10-26T14:58:30.500448Z"
    },
    "papermill": {
     "duration": 0.079061,
     "end_time": "2020-10-26T14:58:30.501293",
     "exception": false,
     "start_time": "2020-10-26T14:58:30.422232",
     "status": "completed"
    },
    "tags": []
   },
   "outputs": [
    {
     "data": {
      "text/plain": [
       "date              05.01.2013\n",
       "date_block_num             0\n",
       "shop_id                   25\n",
       "item_id                 2552\n",
       "item_price         899.00000\n",
       "item_cnt_day        -1.00000\n",
       "Name: 2, dtype: object"
      ]
     },
     "execution_count": 21,
     "metadata": {},
     "output_type": "execute_result"
    }
   ],
   "source": [
    "train_data.iloc[2]"
   ]
  },
  {
   "cell_type": "code",
   "execution_count": 22,
   "metadata": {
    "execution": {
     "iopub.execute_input": "2020-10-26T14:58:30.649853Z",
     "iopub.status.busy": "2020-10-26T14:58:30.648681Z",
     "iopub.status.idle": "2020-10-26T14:58:30.722549Z",
     "shell.execute_reply": "2020-10-26T14:58:30.721939Z"
    },
    "papermill": {
     "duration": 0.15308,
     "end_time": "2020-10-26T14:58:30.722731",
     "exception": false,
     "start_time": "2020-10-26T14:58:30.569651",
     "status": "completed"
    },
    "tags": []
   },
   "outputs": [
    {
     "data": {
      "text/html": [
       "<div>\n",
       "<style scoped>\n",
       "    .dataframe tbody tr th:only-of-type {\n",
       "        vertical-align: middle;\n",
       "    }\n",
       "\n",
       "    .dataframe tbody tr th {\n",
       "        vertical-align: top;\n",
       "    }\n",
       "\n",
       "    .dataframe thead th {\n",
       "        text-align: right;\n",
       "    }\n",
       "</style>\n",
       "<table border=\"1\" class=\"dataframe\">\n",
       "  <thead>\n",
       "    <tr style=\"text-align: right;\">\n",
       "      <th></th>\n",
       "      <th>date</th>\n",
       "      <th>date_block_num</th>\n",
       "      <th>shop_id</th>\n",
       "      <th>item_id</th>\n",
       "      <th>item_price</th>\n",
       "      <th>item_cnt_day</th>\n",
       "    </tr>\n",
       "  </thead>\n",
       "  <tbody>\n",
       "    <tr>\n",
       "      <th>484682</th>\n",
       "      <td>23.05.2013</td>\n",
       "      <td>4</td>\n",
       "      <td>32</td>\n",
       "      <td>2973</td>\n",
       "      <td>1249.00000</td>\n",
       "      <td>1.00000</td>\n",
       "    </tr>\n",
       "    <tr>\n",
       "      <th>484683</th>\n",
       "      <td>15.05.2013</td>\n",
       "      <td>4</td>\n",
       "      <td>32</td>\n",
       "      <td>2973</td>\n",
       "      <td>1874.00000</td>\n",
       "      <td>1.00000</td>\n",
       "    </tr>\n",
       "    <tr>\n",
       "      <th>484684</th>\n",
       "      <td>06.05.2013</td>\n",
       "      <td>4</td>\n",
       "      <td>32</td>\n",
       "      <td>2973</td>\n",
       "      <td>2499.00000</td>\n",
       "      <td>1.00000</td>\n",
       "    </tr>\n",
       "  </tbody>\n",
       "</table>\n",
       "</div>"
      ],
      "text/plain": [
       "              date  date_block_num  shop_id  item_id  item_price  item_cnt_day\n",
       "484682  23.05.2013               4       32     2973  1249.00000       1.00000\n",
       "484683  15.05.2013               4       32     2973  1874.00000       1.00000\n",
       "484684  06.05.2013               4       32     2973  2499.00000       1.00000"
      ]
     },
     "execution_count": 22,
     "metadata": {},
     "output_type": "execute_result"
    }
   ],
   "source": [
    "mean = train_data[(train_data.shop_id==32) & (train_data.item_id==2973) & (train_data.date_block_num==4) & (train_data.item_price > 0)].item_price.mean()\n",
    "train_data.loc[train_data.item_price < 0, 'item_price'] = mean\n",
    "\n",
    "train_data.loc[(train_data.shop_id==32) & (train_data.item_id==2973) & (train_data.date_block_num==4) & (train_data.item_price > 0)]"
   ]
  },
  {
   "cell_type": "code",
   "execution_count": 23,
   "metadata": {
    "execution": {
     "iopub.execute_input": "2020-10-26T14:58:30.869217Z",
     "iopub.status.busy": "2020-10-26T14:58:30.868440Z",
     "iopub.status.idle": "2020-10-26T14:58:33.292278Z",
     "shell.execute_reply": "2020-10-26T14:58:33.291502Z"
    },
    "papermill": {
     "duration": 2.499574,
     "end_time": "2020-10-26T14:58:33.292399",
     "exception": false,
     "start_time": "2020-10-26T14:58:30.792825",
     "status": "completed"
    },
    "tags": []
   },
   "outputs": [],
   "source": [
    "#Merging datasets, can be used if required for visualization\n",
    "train_merged = pd.merge(train_data, items_data, on='item_id', how='inner')\n",
    "train_merged = pd.merge(train_merged, categories_data, on='item_category_id', how='inner')\n",
    "train_merged = pd.merge(train_merged, shops_data, on='shop_id', how='inner')\n",
    "# Inner join selects only those rows from both the tables which satisfy the join condition of ID"
   ]
  },
  {
   "cell_type": "code",
   "execution_count": 24,
   "metadata": {
    "execution": {
     "iopub.execute_input": "2020-10-26T14:58:33.452139Z",
     "iopub.status.busy": "2020-10-26T14:58:33.450980Z",
     "iopub.status.idle": "2020-10-26T14:58:33.455771Z",
     "shell.execute_reply": "2020-10-26T14:58:33.455103Z"
    },
    "papermill": {
     "duration": 0.092714,
     "end_time": "2020-10-26T14:58:33.455899",
     "exception": false,
     "start_time": "2020-10-26T14:58:33.363185",
     "status": "completed"
    },
    "tags": []
   },
   "outputs": [
    {
     "data": {
      "text/html": [
       "<div>\n",
       "<style scoped>\n",
       "    .dataframe tbody tr th:only-of-type {\n",
       "        vertical-align: middle;\n",
       "    }\n",
       "\n",
       "    .dataframe tbody tr th {\n",
       "        vertical-align: top;\n",
       "    }\n",
       "\n",
       "    .dataframe thead th {\n",
       "        text-align: right;\n",
       "    }\n",
       "</style>\n",
       "<table border=\"1\" class=\"dataframe\">\n",
       "  <thead>\n",
       "    <tr style=\"text-align: right;\">\n",
       "      <th></th>\n",
       "      <th>date</th>\n",
       "      <th>date_block_num</th>\n",
       "      <th>shop_id</th>\n",
       "      <th>item_id</th>\n",
       "      <th>item_price</th>\n",
       "      <th>item_cnt_day</th>\n",
       "      <th>item_name</th>\n",
       "      <th>item_category_id</th>\n",
       "      <th>item_category_name</th>\n",
       "      <th>shop_name</th>\n",
       "    </tr>\n",
       "  </thead>\n",
       "  <tbody>\n",
       "    <tr>\n",
       "      <th>0</th>\n",
       "      <td>02.01.2013</td>\n",
       "      <td>0</td>\n",
       "      <td>59</td>\n",
       "      <td>22154</td>\n",
       "      <td>999.00000</td>\n",
       "      <td>1.00000</td>\n",
       "      <td>ЯВЛЕНИЕ 2012 (BD)</td>\n",
       "      <td>37</td>\n",
       "      <td>Кино - Blu-Ray</td>\n",
       "      <td>Ярославль ТЦ \"Альтаир\"</td>\n",
       "    </tr>\n",
       "    <tr>\n",
       "      <th>1</th>\n",
       "      <td>26.04.2013</td>\n",
       "      <td>3</td>\n",
       "      <td>59</td>\n",
       "      <td>944</td>\n",
       "      <td>150.00000</td>\n",
       "      <td>1.00000</td>\n",
       "      <td>2012 (BD)</td>\n",
       "      <td>37</td>\n",
       "      <td>Кино - Blu-Ray</td>\n",
       "      <td>Ярославль ТЦ \"Альтаир\"</td>\n",
       "    </tr>\n",
       "    <tr>\n",
       "      <th>2</th>\n",
       "      <td>26.06.2013</td>\n",
       "      <td>5</td>\n",
       "      <td>59</td>\n",
       "      <td>944</td>\n",
       "      <td>199.50000</td>\n",
       "      <td>1.00000</td>\n",
       "      <td>2012 (BD)</td>\n",
       "      <td>37</td>\n",
       "      <td>Кино - Blu-Ray</td>\n",
       "      <td>Ярославль ТЦ \"Альтаир\"</td>\n",
       "    </tr>\n",
       "    <tr>\n",
       "      <th>3</th>\n",
       "      <td>20.07.2013</td>\n",
       "      <td>6</td>\n",
       "      <td>59</td>\n",
       "      <td>944</td>\n",
       "      <td>199.50000</td>\n",
       "      <td>1.00000</td>\n",
       "      <td>2012 (BD)</td>\n",
       "      <td>37</td>\n",
       "      <td>Кино - Blu-Ray</td>\n",
       "      <td>Ярославль ТЦ \"Альтаир\"</td>\n",
       "    </tr>\n",
       "    <tr>\n",
       "      <th>4</th>\n",
       "      <td>14.09.2013</td>\n",
       "      <td>8</td>\n",
       "      <td>59</td>\n",
       "      <td>944</td>\n",
       "      <td>299.00000</td>\n",
       "      <td>2.00000</td>\n",
       "      <td>2012 (BD)</td>\n",
       "      <td>37</td>\n",
       "      <td>Кино - Blu-Ray</td>\n",
       "      <td>Ярославль ТЦ \"Альтаир\"</td>\n",
       "    </tr>\n",
       "  </tbody>\n",
       "</table>\n",
       "</div>"
      ],
      "text/plain": [
       "         date  date_block_num  shop_id  item_id  item_price  item_cnt_day  \\\n",
       "0  02.01.2013               0       59    22154   999.00000       1.00000   \n",
       "1  26.04.2013               3       59      944   150.00000       1.00000   \n",
       "2  26.06.2013               5       59      944   199.50000       1.00000   \n",
       "3  20.07.2013               6       59      944   199.50000       1.00000   \n",
       "4  14.09.2013               8       59      944   299.00000       2.00000   \n",
       "\n",
       "           item_name  item_category_id item_category_name  \\\n",
       "0  ЯВЛЕНИЕ 2012 (BD)                37     Кино - Blu-Ray   \n",
       "1          2012 (BD)                37     Кино - Blu-Ray   \n",
       "2          2012 (BD)                37     Кино - Blu-Ray   \n",
       "3          2012 (BD)                37     Кино - Blu-Ray   \n",
       "4          2012 (BD)                37     Кино - Blu-Ray   \n",
       "\n",
       "                shop_name  \n",
       "0  Ярославль ТЦ \"Альтаир\"  \n",
       "1  Ярославль ТЦ \"Альтаир\"  \n",
       "2  Ярославль ТЦ \"Альтаир\"  \n",
       "3  Ярославль ТЦ \"Альтаир\"  \n",
       "4  Ярославль ТЦ \"Альтаир\"  "
      ]
     },
     "execution_count": 24,
     "metadata": {},
     "output_type": "execute_result"
    }
   ],
   "source": [
    "#Snippet of merged dataset\n",
    "train_merged.head()"
   ]
  },
  {
   "cell_type": "code",
   "execution_count": 25,
   "metadata": {
    "execution": {
     "iopub.execute_input": "2020-10-26T14:58:33.608152Z",
     "iopub.status.busy": "2020-10-26T14:58:33.607374Z",
     "iopub.status.idle": "2020-10-26T14:58:36.274040Z",
     "shell.execute_reply": "2020-10-26T14:58:36.273408Z"
    },
    "papermill": {
     "duration": 2.748399,
     "end_time": "2020-10-26T14:58:36.274191",
     "exception": false,
     "start_time": "2020-10-26T14:58:33.525792",
     "status": "completed"
    },
    "tags": []
   },
   "outputs": [],
   "source": [
    "#Extract and add some more features\n",
    "\n",
    "train_merged['total_sales'] = train_merged.item_price * train_merged.item_cnt_day\n",
    "train_merged['date'] = pd.to_datetime(train_merged.date)\n",
    "train_merged['Month'] = train_merged['date'].dt.month\n",
    "train_merged['Year'] = train_merged['date'].dt.year\n",
    "train_merged['day_of_week'] = train_merged['date'].dt.day_name()"
   ]
  },
  {
   "cell_type": "code",
   "execution_count": 26,
   "metadata": {
    "execution": {
     "iopub.execute_input": "2020-10-26T14:58:36.428076Z",
     "iopub.status.busy": "2020-10-26T14:58:36.426949Z",
     "iopub.status.idle": "2020-10-26T14:58:36.430873Z",
     "shell.execute_reply": "2020-10-26T14:58:36.431457Z"
    },
    "papermill": {
     "duration": 0.086608,
     "end_time": "2020-10-26T14:58:36.431631",
     "exception": false,
     "start_time": "2020-10-26T14:58:36.345023",
     "status": "completed"
    },
    "tags": []
   },
   "outputs": [
    {
     "name": "stdout",
     "output_type": "stream",
     "text": [
      "        date  date_block_num  shop_id  item_id  item_price  item_cnt_day  \\\n",
      "0 2013-02-01               0       59    22154   999.00000       1.00000   \n",
      "1 2013-04-26               3       59      944   150.00000       1.00000   \n",
      "2 2013-06-26               5       59      944   199.50000       1.00000   \n",
      "3 2013-07-20               6       59      944   199.50000       1.00000   \n",
      "4 2013-09-14               8       59      944   299.00000       2.00000   \n",
      "\n",
      "           item_name  item_category_id item_category_name  \\\n",
      "0  ЯВЛЕНИЕ 2012 (BD)                37     Кино - Blu-Ray   \n",
      "1          2012 (BD)                37     Кино - Blu-Ray   \n",
      "2          2012 (BD)                37     Кино - Blu-Ray   \n",
      "3          2012 (BD)                37     Кино - Blu-Ray   \n",
      "4          2012 (BD)                37     Кино - Blu-Ray   \n",
      "\n",
      "                shop_name  total_sales  Month  Year day_of_week  \n",
      "0  Ярославль ТЦ \"Альтаир\"    999.00000      2  2013      Friday  \n",
      "1  Ярославль ТЦ \"Альтаир\"    150.00000      4  2013      Friday  \n",
      "2  Ярославль ТЦ \"Альтаир\"    199.50000      6  2013   Wednesday  \n",
      "3  Ярославль ТЦ \"Альтаир\"    199.50000      7  2013    Saturday  \n",
      "4  Ярославль ТЦ \"Альтаир\"    598.00000      9  2013    Saturday  \n"
     ]
    }
   ],
   "source": [
    "#snippet of train_merged\n",
    "print(train_merged.head())"
   ]
  },
  {
   "cell_type": "code",
   "execution_count": 27,
   "metadata": {
    "execution": {
     "iopub.execute_input": "2020-10-26T14:58:36.582502Z",
     "iopub.status.busy": "2020-10-26T14:58:36.581754Z",
     "iopub.status.idle": "2020-10-26T14:58:37.515031Z",
     "shell.execute_reply": "2020-10-26T14:58:37.514369Z"
    },
    "papermill": {
     "duration": 1.011771,
     "end_time": "2020-10-26T14:58:37.515158",
     "exception": false,
     "start_time": "2020-10-26T14:58:36.503387",
     "status": "completed"
    },
    "tags": []
   },
   "outputs": [],
   "source": [
    "#drop entries with negative item count\n",
    "train_merged=train_merged[train_merged.item_cnt_day>=0]"
   ]
  },
  {
   "cell_type": "code",
   "execution_count": 28,
   "metadata": {
    "execution": {
     "iopub.execute_input": "2020-10-26T14:58:37.671603Z",
     "iopub.status.busy": "2020-10-26T14:58:37.670809Z",
     "iopub.status.idle": "2020-10-26T14:58:38.031702Z",
     "shell.execute_reply": "2020-10-26T14:58:38.032543Z"
    },
    "papermill": {
     "duration": 0.446671,
     "end_time": "2020-10-26T14:58:38.032779",
     "exception": false,
     "start_time": "2020-10-26T14:58:37.586108",
     "status": "completed"
    },
    "tags": []
   },
   "outputs": [
    {
     "data": {
      "text/html": [
       "        <script type=\"text/javascript\">\n",
       "        window.PlotlyConfig = {MathJaxConfig: 'local'};\n",
       "        if (window.MathJax) {MathJax.Hub.Config({SVG: {font: \"STIX-Web\"}});}\n",
       "        if (typeof require !== 'undefined') {\n",
       "        require.undef(\"plotly\");\n",
       "        requirejs.config({\n",
       "            paths: {\n",
       "                'plotly': ['https://cdn.plot.ly/plotly-latest.min']\n",
       "            }\n",
       "        });\n",
       "        require(['plotly'], function(Plotly) {\n",
       "            window._Plotly = Plotly;\n",
       "        });\n",
       "        }\n",
       "        </script>\n",
       "        "
      ]
     },
     "metadata": {},
     "output_type": "display_data"
    },
    {
     "data": {
      "application/vnd.plotly.v1+json": {
       "config": {
        "plotlyServerURL": "https://plot.ly"
       },
       "data": [
        {
         "line": {
          "color": "green",
          "width": 2
         },
         "mode": "lines",
         "type": "scatter",
         "x": [
          0,
          1,
          2,
          3,
          4,
          5,
          6,
          7,
          8,
          9,
          10,
          11,
          12,
          13,
          14,
          15,
          16,
          17,
          18,
          19,
          20,
          21,
          22,
          23,
          24,
          25,
          26,
          27,
          28,
          29,
          30,
          31,
          32,
          33
         ],
         "y": [
          92399092.71999975,
          90964491.0599998,
          105265370.12999931,
          69457125.8999997,
          65255040.759999275,
          79762492.7399983,
          69534521.42999977,
          74586987.80999973,
          119318001.67000045,
          107595839.89999963,
          138967584.30000553,
          208038796.45999923,
          98784444.04999937,
          107848061.65999953,
          109506627.41999787,
          80931788.16999987,
          91442112.71000066,
          82921342.28999928,
          76815436.5199998,
          89862277.04000029,
          115063721.3399981,
          112820841.96999949,
          152413432.46999854,
          232615420.91000023,
          119453366.25999935,
          86959680.2900004,
          86877052.88999978,
          90498952.4299958,
          88834943.01999834,
          65631299.18999956,
          59685691.84999969,
          61930865.24999973,
          93185040.90000123,
          84630164.05999976
         ]
        }
       ],
       "layout": {
        "template": {
         "data": {
          "bar": [
           {
            "error_x": {
             "color": "#2a3f5f"
            },
            "error_y": {
             "color": "#2a3f5f"
            },
            "marker": {
             "line": {
              "color": "#E5ECF6",
              "width": 0.5
             }
            },
            "type": "bar"
           }
          ],
          "barpolar": [
           {
            "marker": {
             "line": {
              "color": "#E5ECF6",
              "width": 0.5
             }
            },
            "type": "barpolar"
           }
          ],
          "carpet": [
           {
            "aaxis": {
             "endlinecolor": "#2a3f5f",
             "gridcolor": "white",
             "linecolor": "white",
             "minorgridcolor": "white",
             "startlinecolor": "#2a3f5f"
            },
            "baxis": {
             "endlinecolor": "#2a3f5f",
             "gridcolor": "white",
             "linecolor": "white",
             "minorgridcolor": "white",
             "startlinecolor": "#2a3f5f"
            },
            "type": "carpet"
           }
          ],
          "choropleth": [
           {
            "colorbar": {
             "outlinewidth": 0,
             "ticks": ""
            },
            "type": "choropleth"
           }
          ],
          "contour": [
           {
            "colorbar": {
             "outlinewidth": 0,
             "ticks": ""
            },
            "colorscale": [
             [
              0.0,
              "#0d0887"
             ],
             [
              0.1111111111111111,
              "#46039f"
             ],
             [
              0.2222222222222222,
              "#7201a8"
             ],
             [
              0.3333333333333333,
              "#9c179e"
             ],
             [
              0.4444444444444444,
              "#bd3786"
             ],
             [
              0.5555555555555556,
              "#d8576b"
             ],
             [
              0.6666666666666666,
              "#ed7953"
             ],
             [
              0.7777777777777778,
              "#fb9f3a"
             ],
             [
              0.8888888888888888,
              "#fdca26"
             ],
             [
              1.0,
              "#f0f921"
             ]
            ],
            "type": "contour"
           }
          ],
          "contourcarpet": [
           {
            "colorbar": {
             "outlinewidth": 0,
             "ticks": ""
            },
            "type": "contourcarpet"
           }
          ],
          "heatmap": [
           {
            "colorbar": {
             "outlinewidth": 0,
             "ticks": ""
            },
            "colorscale": [
             [
              0.0,
              "#0d0887"
             ],
             [
              0.1111111111111111,
              "#46039f"
             ],
             [
              0.2222222222222222,
              "#7201a8"
             ],
             [
              0.3333333333333333,
              "#9c179e"
             ],
             [
              0.4444444444444444,
              "#bd3786"
             ],
             [
              0.5555555555555556,
              "#d8576b"
             ],
             [
              0.6666666666666666,
              "#ed7953"
             ],
             [
              0.7777777777777778,
              "#fb9f3a"
             ],
             [
              0.8888888888888888,
              "#fdca26"
             ],
             [
              1.0,
              "#f0f921"
             ]
            ],
            "type": "heatmap"
           }
          ],
          "heatmapgl": [
           {
            "colorbar": {
             "outlinewidth": 0,
             "ticks": ""
            },
            "colorscale": [
             [
              0.0,
              "#0d0887"
             ],
             [
              0.1111111111111111,
              "#46039f"
             ],
             [
              0.2222222222222222,
              "#7201a8"
             ],
             [
              0.3333333333333333,
              "#9c179e"
             ],
             [
              0.4444444444444444,
              "#bd3786"
             ],
             [
              0.5555555555555556,
              "#d8576b"
             ],
             [
              0.6666666666666666,
              "#ed7953"
             ],
             [
              0.7777777777777778,
              "#fb9f3a"
             ],
             [
              0.8888888888888888,
              "#fdca26"
             ],
             [
              1.0,
              "#f0f921"
             ]
            ],
            "type": "heatmapgl"
           }
          ],
          "histogram": [
           {
            "marker": {
             "colorbar": {
              "outlinewidth": 0,
              "ticks": ""
             }
            },
            "type": "histogram"
           }
          ],
          "histogram2d": [
           {
            "colorbar": {
             "outlinewidth": 0,
             "ticks": ""
            },
            "colorscale": [
             [
              0.0,
              "#0d0887"
             ],
             [
              0.1111111111111111,
              "#46039f"
             ],
             [
              0.2222222222222222,
              "#7201a8"
             ],
             [
              0.3333333333333333,
              "#9c179e"
             ],
             [
              0.4444444444444444,
              "#bd3786"
             ],
             [
              0.5555555555555556,
              "#d8576b"
             ],
             [
              0.6666666666666666,
              "#ed7953"
             ],
             [
              0.7777777777777778,
              "#fb9f3a"
             ],
             [
              0.8888888888888888,
              "#fdca26"
             ],
             [
              1.0,
              "#f0f921"
             ]
            ],
            "type": "histogram2d"
           }
          ],
          "histogram2dcontour": [
           {
            "colorbar": {
             "outlinewidth": 0,
             "ticks": ""
            },
            "colorscale": [
             [
              0.0,
              "#0d0887"
             ],
             [
              0.1111111111111111,
              "#46039f"
             ],
             [
              0.2222222222222222,
              "#7201a8"
             ],
             [
              0.3333333333333333,
              "#9c179e"
             ],
             [
              0.4444444444444444,
              "#bd3786"
             ],
             [
              0.5555555555555556,
              "#d8576b"
             ],
             [
              0.6666666666666666,
              "#ed7953"
             ],
             [
              0.7777777777777778,
              "#fb9f3a"
             ],
             [
              0.8888888888888888,
              "#fdca26"
             ],
             [
              1.0,
              "#f0f921"
             ]
            ],
            "type": "histogram2dcontour"
           }
          ],
          "mesh3d": [
           {
            "colorbar": {
             "outlinewidth": 0,
             "ticks": ""
            },
            "type": "mesh3d"
           }
          ],
          "parcoords": [
           {
            "line": {
             "colorbar": {
              "outlinewidth": 0,
              "ticks": ""
             }
            },
            "type": "parcoords"
           }
          ],
          "pie": [
           {
            "automargin": true,
            "type": "pie"
           }
          ],
          "scatter": [
           {
            "marker": {
             "colorbar": {
              "outlinewidth": 0,
              "ticks": ""
             }
            },
            "type": "scatter"
           }
          ],
          "scatter3d": [
           {
            "line": {
             "colorbar": {
              "outlinewidth": 0,
              "ticks": ""
             }
            },
            "marker": {
             "colorbar": {
              "outlinewidth": 0,
              "ticks": ""
             }
            },
            "type": "scatter3d"
           }
          ],
          "scattercarpet": [
           {
            "marker": {
             "colorbar": {
              "outlinewidth": 0,
              "ticks": ""
             }
            },
            "type": "scattercarpet"
           }
          ],
          "scattergeo": [
           {
            "marker": {
             "colorbar": {
              "outlinewidth": 0,
              "ticks": ""
             }
            },
            "type": "scattergeo"
           }
          ],
          "scattergl": [
           {
            "marker": {
             "colorbar": {
              "outlinewidth": 0,
              "ticks": ""
             }
            },
            "type": "scattergl"
           }
          ],
          "scattermapbox": [
           {
            "marker": {
             "colorbar": {
              "outlinewidth": 0,
              "ticks": ""
             }
            },
            "type": "scattermapbox"
           }
          ],
          "scatterpolar": [
           {
            "marker": {
             "colorbar": {
              "outlinewidth": 0,
              "ticks": ""
             }
            },
            "type": "scatterpolar"
           }
          ],
          "scatterpolargl": [
           {
            "marker": {
             "colorbar": {
              "outlinewidth": 0,
              "ticks": ""
             }
            },
            "type": "scatterpolargl"
           }
          ],
          "scatterternary": [
           {
            "marker": {
             "colorbar": {
              "outlinewidth": 0,
              "ticks": ""
             }
            },
            "type": "scatterternary"
           }
          ],
          "surface": [
           {
            "colorbar": {
             "outlinewidth": 0,
             "ticks": ""
            },
            "colorscale": [
             [
              0.0,
              "#0d0887"
             ],
             [
              0.1111111111111111,
              "#46039f"
             ],
             [
              0.2222222222222222,
              "#7201a8"
             ],
             [
              0.3333333333333333,
              "#9c179e"
             ],
             [
              0.4444444444444444,
              "#bd3786"
             ],
             [
              0.5555555555555556,
              "#d8576b"
             ],
             [
              0.6666666666666666,
              "#ed7953"
             ],
             [
              0.7777777777777778,
              "#fb9f3a"
             ],
             [
              0.8888888888888888,
              "#fdca26"
             ],
             [
              1.0,
              "#f0f921"
             ]
            ],
            "type": "surface"
           }
          ],
          "table": [
           {
            "cells": {
             "fill": {
              "color": "#EBF0F8"
             },
             "line": {
              "color": "white"
             }
            },
            "header": {
             "fill": {
              "color": "#C8D4E3"
             },
             "line": {
              "color": "white"
             }
            },
            "type": "table"
           }
          ]
         },
         "layout": {
          "annotationdefaults": {
           "arrowcolor": "#2a3f5f",
           "arrowhead": 0,
           "arrowwidth": 1
          },
          "coloraxis": {
           "colorbar": {
            "outlinewidth": 0,
            "ticks": ""
           }
          },
          "colorscale": {
           "diverging": [
            [
             0,
             "#8e0152"
            ],
            [
             0.1,
             "#c51b7d"
            ],
            [
             0.2,
             "#de77ae"
            ],
            [
             0.3,
             "#f1b6da"
            ],
            [
             0.4,
             "#fde0ef"
            ],
            [
             0.5,
             "#f7f7f7"
            ],
            [
             0.6,
             "#e6f5d0"
            ],
            [
             0.7,
             "#b8e186"
            ],
            [
             0.8,
             "#7fbc41"
            ],
            [
             0.9,
             "#4d9221"
            ],
            [
             1,
             "#276419"
            ]
           ],
           "sequential": [
            [
             0.0,
             "#0d0887"
            ],
            [
             0.1111111111111111,
             "#46039f"
            ],
            [
             0.2222222222222222,
             "#7201a8"
            ],
            [
             0.3333333333333333,
             "#9c179e"
            ],
            [
             0.4444444444444444,
             "#bd3786"
            ],
            [
             0.5555555555555556,
             "#d8576b"
            ],
            [
             0.6666666666666666,
             "#ed7953"
            ],
            [
             0.7777777777777778,
             "#fb9f3a"
            ],
            [
             0.8888888888888888,
             "#fdca26"
            ],
            [
             1.0,
             "#f0f921"
            ]
           ],
           "sequentialminus": [
            [
             0.0,
             "#0d0887"
            ],
            [
             0.1111111111111111,
             "#46039f"
            ],
            [
             0.2222222222222222,
             "#7201a8"
            ],
            [
             0.3333333333333333,
             "#9c179e"
            ],
            [
             0.4444444444444444,
             "#bd3786"
            ],
            [
             0.5555555555555556,
             "#d8576b"
            ],
            [
             0.6666666666666666,
             "#ed7953"
            ],
            [
             0.7777777777777778,
             "#fb9f3a"
            ],
            [
             0.8888888888888888,
             "#fdca26"
            ],
            [
             1.0,
             "#f0f921"
            ]
           ]
          },
          "colorway": [
           "#636efa",
           "#EF553B",
           "#00cc96",
           "#ab63fa",
           "#FFA15A",
           "#19d3f3",
           "#FF6692",
           "#B6E880",
           "#FF97FF",
           "#FECB52"
          ],
          "font": {
           "color": "#2a3f5f"
          },
          "geo": {
           "bgcolor": "white",
           "lakecolor": "white",
           "landcolor": "#E5ECF6",
           "showlakes": true,
           "showland": true,
           "subunitcolor": "white"
          },
          "hoverlabel": {
           "align": "left"
          },
          "hovermode": "closest",
          "mapbox": {
           "style": "light"
          },
          "paper_bgcolor": "white",
          "plot_bgcolor": "#E5ECF6",
          "polar": {
           "angularaxis": {
            "gridcolor": "white",
            "linecolor": "white",
            "ticks": ""
           },
           "bgcolor": "#E5ECF6",
           "radialaxis": {
            "gridcolor": "white",
            "linecolor": "white",
            "ticks": ""
           }
          },
          "scene": {
           "xaxis": {
            "backgroundcolor": "#E5ECF6",
            "gridcolor": "white",
            "gridwidth": 2,
            "linecolor": "white",
            "showbackground": true,
            "ticks": "",
            "zerolinecolor": "white"
           },
           "yaxis": {
            "backgroundcolor": "#E5ECF6",
            "gridcolor": "white",
            "gridwidth": 2,
            "linecolor": "white",
            "showbackground": true,
            "ticks": "",
            "zerolinecolor": "white"
           },
           "zaxis": {
            "backgroundcolor": "#E5ECF6",
            "gridcolor": "white",
            "gridwidth": 2,
            "linecolor": "white",
            "showbackground": true,
            "ticks": "",
            "zerolinecolor": "white"
           }
          },
          "shapedefaults": {
           "line": {
            "color": "#2a3f5f"
           }
          },
          "ternary": {
           "aaxis": {
            "gridcolor": "white",
            "linecolor": "white",
            "ticks": ""
           },
           "baxis": {
            "gridcolor": "white",
            "linecolor": "white",
            "ticks": ""
           },
           "bgcolor": "#E5ECF6",
           "caxis": {
            "gridcolor": "white",
            "linecolor": "white",
            "ticks": ""
           }
          },
          "title": {
           "x": 0.05
          },
          "xaxis": {
           "automargin": true,
           "gridcolor": "white",
           "linecolor": "white",
           "ticks": "",
           "title": {
            "standoff": 15
           },
           "zerolinecolor": "white",
           "zerolinewidth": 2
          },
          "yaxis": {
           "automargin": true,
           "gridcolor": "white",
           "linecolor": "white",
           "ticks": "",
           "title": {
            "standoff": 15
           },
           "zerolinecolor": "white",
           "zerolinewidth": 2
          }
         }
        },
        "title": {
         "text": "Monthly Revenue"
        },
        "xaxis": {
         "title": {
          "text": "Month"
         }
        },
        "yaxis": {
         "title": {
          "text": "Total sales"
         }
        }
       }
      },
      "text/html": [
       "<div>                            <div id=\"4e6c9e00-a63e-47a5-989d-5c564ca481cb\" class=\"plotly-graph-div\" style=\"height:525px; width:100%;\"></div>            <script type=\"text/javascript\">                require([\"plotly\"], function(Plotly) {                    window.PLOTLYENV=window.PLOTLYENV || {};                                    if (document.getElementById(\"4e6c9e00-a63e-47a5-989d-5c564ca481cb\")) {                    Plotly.newPlot(                        \"4e6c9e00-a63e-47a5-989d-5c564ca481cb\",                        [{\"line\": {\"color\": \"green\", \"width\": 2}, \"mode\": \"lines\", \"type\": \"scatter\", \"x\": [0, 1, 2, 3, 4, 5, 6, 7, 8, 9, 10, 11, 12, 13, 14, 15, 16, 17, 18, 19, 20, 21, 22, 23, 24, 25, 26, 27, 28, 29, 30, 31, 32, 33], \"y\": [92399092.71999975, 90964491.0599998, 105265370.12999931, 69457125.8999997, 65255040.759999275, 79762492.7399983, 69534521.42999977, 74586987.80999973, 119318001.67000045, 107595839.89999963, 138967584.30000553, 208038796.45999923, 98784444.04999937, 107848061.65999953, 109506627.41999787, 80931788.16999987, 91442112.71000066, 82921342.28999928, 76815436.5199998, 89862277.04000029, 115063721.3399981, 112820841.96999949, 152413432.46999854, 232615420.91000023, 119453366.25999935, 86959680.2900004, 86877052.88999978, 90498952.4299958, 88834943.01999834, 65631299.18999956, 59685691.84999969, 61930865.24999973, 93185040.90000123, 84630164.05999976]}],                        {\"template\": {\"data\": {\"bar\": [{\"error_x\": {\"color\": \"#2a3f5f\"}, \"error_y\": {\"color\": \"#2a3f5f\"}, \"marker\": {\"line\": {\"color\": \"#E5ECF6\", \"width\": 0.5}}, \"type\": \"bar\"}], \"barpolar\": [{\"marker\": {\"line\": {\"color\": \"#E5ECF6\", \"width\": 0.5}}, \"type\": \"barpolar\"}], \"carpet\": [{\"aaxis\": {\"endlinecolor\": \"#2a3f5f\", \"gridcolor\": \"white\", \"linecolor\": \"white\", \"minorgridcolor\": \"white\", \"startlinecolor\": \"#2a3f5f\"}, \"baxis\": {\"endlinecolor\": \"#2a3f5f\", \"gridcolor\": \"white\", \"linecolor\": \"white\", \"minorgridcolor\": \"white\", \"startlinecolor\": \"#2a3f5f\"}, \"type\": \"carpet\"}], \"choropleth\": [{\"colorbar\": {\"outlinewidth\": 0, \"ticks\": \"\"}, \"type\": \"choropleth\"}], \"contour\": [{\"colorbar\": {\"outlinewidth\": 0, \"ticks\": \"\"}, \"colorscale\": [[0.0, \"#0d0887\"], [0.1111111111111111, \"#46039f\"], [0.2222222222222222, \"#7201a8\"], [0.3333333333333333, \"#9c179e\"], [0.4444444444444444, \"#bd3786\"], [0.5555555555555556, \"#d8576b\"], [0.6666666666666666, \"#ed7953\"], [0.7777777777777778, \"#fb9f3a\"], [0.8888888888888888, \"#fdca26\"], [1.0, \"#f0f921\"]], \"type\": \"contour\"}], \"contourcarpet\": [{\"colorbar\": {\"outlinewidth\": 0, \"ticks\": \"\"}, \"type\": \"contourcarpet\"}], \"heatmap\": [{\"colorbar\": {\"outlinewidth\": 0, \"ticks\": \"\"}, \"colorscale\": [[0.0, \"#0d0887\"], [0.1111111111111111, \"#46039f\"], [0.2222222222222222, \"#7201a8\"], [0.3333333333333333, \"#9c179e\"], [0.4444444444444444, \"#bd3786\"], [0.5555555555555556, \"#d8576b\"], [0.6666666666666666, \"#ed7953\"], [0.7777777777777778, \"#fb9f3a\"], [0.8888888888888888, \"#fdca26\"], [1.0, \"#f0f921\"]], \"type\": \"heatmap\"}], \"heatmapgl\": [{\"colorbar\": {\"outlinewidth\": 0, \"ticks\": \"\"}, \"colorscale\": [[0.0, \"#0d0887\"], [0.1111111111111111, \"#46039f\"], [0.2222222222222222, \"#7201a8\"], [0.3333333333333333, \"#9c179e\"], [0.4444444444444444, \"#bd3786\"], [0.5555555555555556, \"#d8576b\"], [0.6666666666666666, \"#ed7953\"], [0.7777777777777778, \"#fb9f3a\"], [0.8888888888888888, \"#fdca26\"], [1.0, \"#f0f921\"]], \"type\": \"heatmapgl\"}], \"histogram\": [{\"marker\": {\"colorbar\": {\"outlinewidth\": 0, \"ticks\": \"\"}}, \"type\": \"histogram\"}], \"histogram2d\": [{\"colorbar\": {\"outlinewidth\": 0, \"ticks\": \"\"}, \"colorscale\": [[0.0, \"#0d0887\"], [0.1111111111111111, \"#46039f\"], [0.2222222222222222, \"#7201a8\"], [0.3333333333333333, \"#9c179e\"], [0.4444444444444444, \"#bd3786\"], [0.5555555555555556, \"#d8576b\"], [0.6666666666666666, \"#ed7953\"], [0.7777777777777778, \"#fb9f3a\"], [0.8888888888888888, \"#fdca26\"], [1.0, \"#f0f921\"]], \"type\": \"histogram2d\"}], \"histogram2dcontour\": [{\"colorbar\": {\"outlinewidth\": 0, \"ticks\": \"\"}, \"colorscale\": [[0.0, \"#0d0887\"], [0.1111111111111111, \"#46039f\"], [0.2222222222222222, \"#7201a8\"], [0.3333333333333333, \"#9c179e\"], [0.4444444444444444, \"#bd3786\"], [0.5555555555555556, \"#d8576b\"], [0.6666666666666666, \"#ed7953\"], [0.7777777777777778, \"#fb9f3a\"], [0.8888888888888888, \"#fdca26\"], [1.0, \"#f0f921\"]], \"type\": \"histogram2dcontour\"}], \"mesh3d\": [{\"colorbar\": {\"outlinewidth\": 0, \"ticks\": \"\"}, \"type\": \"mesh3d\"}], \"parcoords\": [{\"line\": {\"colorbar\": {\"outlinewidth\": 0, \"ticks\": \"\"}}, \"type\": \"parcoords\"}], \"pie\": [{\"automargin\": true, \"type\": \"pie\"}], \"scatter\": [{\"marker\": {\"colorbar\": {\"outlinewidth\": 0, \"ticks\": \"\"}}, \"type\": \"scatter\"}], \"scatter3d\": [{\"line\": {\"colorbar\": {\"outlinewidth\": 0, \"ticks\": \"\"}}, \"marker\": {\"colorbar\": {\"outlinewidth\": 0, \"ticks\": \"\"}}, \"type\": \"scatter3d\"}], \"scattercarpet\": [{\"marker\": {\"colorbar\": {\"outlinewidth\": 0, \"ticks\": \"\"}}, \"type\": \"scattercarpet\"}], \"scattergeo\": [{\"marker\": {\"colorbar\": {\"outlinewidth\": 0, \"ticks\": \"\"}}, \"type\": \"scattergeo\"}], \"scattergl\": [{\"marker\": {\"colorbar\": {\"outlinewidth\": 0, \"ticks\": \"\"}}, \"type\": \"scattergl\"}], \"scattermapbox\": [{\"marker\": {\"colorbar\": {\"outlinewidth\": 0, \"ticks\": \"\"}}, \"type\": \"scattermapbox\"}], \"scatterpolar\": [{\"marker\": {\"colorbar\": {\"outlinewidth\": 0, \"ticks\": \"\"}}, \"type\": \"scatterpolar\"}], \"scatterpolargl\": [{\"marker\": {\"colorbar\": {\"outlinewidth\": 0, \"ticks\": \"\"}}, \"type\": \"scatterpolargl\"}], \"scatterternary\": [{\"marker\": {\"colorbar\": {\"outlinewidth\": 0, \"ticks\": \"\"}}, \"type\": \"scatterternary\"}], \"surface\": [{\"colorbar\": {\"outlinewidth\": 0, \"ticks\": \"\"}, \"colorscale\": [[0.0, \"#0d0887\"], [0.1111111111111111, \"#46039f\"], [0.2222222222222222, \"#7201a8\"], [0.3333333333333333, \"#9c179e\"], [0.4444444444444444, \"#bd3786\"], [0.5555555555555556, \"#d8576b\"], [0.6666666666666666, \"#ed7953\"], [0.7777777777777778, \"#fb9f3a\"], [0.8888888888888888, \"#fdca26\"], [1.0, \"#f0f921\"]], \"type\": \"surface\"}], \"table\": [{\"cells\": {\"fill\": {\"color\": \"#EBF0F8\"}, \"line\": {\"color\": \"white\"}}, \"header\": {\"fill\": {\"color\": \"#C8D4E3\"}, \"line\": {\"color\": \"white\"}}, \"type\": \"table\"}]}, \"layout\": {\"annotationdefaults\": {\"arrowcolor\": \"#2a3f5f\", \"arrowhead\": 0, \"arrowwidth\": 1}, \"coloraxis\": {\"colorbar\": {\"outlinewidth\": 0, \"ticks\": \"\"}}, \"colorscale\": {\"diverging\": [[0, \"#8e0152\"], [0.1, \"#c51b7d\"], [0.2, \"#de77ae\"], [0.3, \"#f1b6da\"], [0.4, \"#fde0ef\"], [0.5, \"#f7f7f7\"], [0.6, \"#e6f5d0\"], [0.7, \"#b8e186\"], [0.8, \"#7fbc41\"], [0.9, \"#4d9221\"], [1, \"#276419\"]], \"sequential\": [[0.0, \"#0d0887\"], [0.1111111111111111, \"#46039f\"], [0.2222222222222222, \"#7201a8\"], [0.3333333333333333, \"#9c179e\"], [0.4444444444444444, \"#bd3786\"], [0.5555555555555556, \"#d8576b\"], [0.6666666666666666, \"#ed7953\"], [0.7777777777777778, \"#fb9f3a\"], [0.8888888888888888, \"#fdca26\"], [1.0, \"#f0f921\"]], \"sequentialminus\": [[0.0, \"#0d0887\"], [0.1111111111111111, \"#46039f\"], [0.2222222222222222, \"#7201a8\"], [0.3333333333333333, \"#9c179e\"], [0.4444444444444444, \"#bd3786\"], [0.5555555555555556, \"#d8576b\"], [0.6666666666666666, \"#ed7953\"], [0.7777777777777778, \"#fb9f3a\"], [0.8888888888888888, \"#fdca26\"], [1.0, \"#f0f921\"]]}, \"colorway\": [\"#636efa\", \"#EF553B\", \"#00cc96\", \"#ab63fa\", \"#FFA15A\", \"#19d3f3\", \"#FF6692\", \"#B6E880\", \"#FF97FF\", \"#FECB52\"], \"font\": {\"color\": \"#2a3f5f\"}, \"geo\": {\"bgcolor\": \"white\", \"lakecolor\": \"white\", \"landcolor\": \"#E5ECF6\", \"showlakes\": true, \"showland\": true, \"subunitcolor\": \"white\"}, \"hoverlabel\": {\"align\": \"left\"}, \"hovermode\": \"closest\", \"mapbox\": {\"style\": \"light\"}, \"paper_bgcolor\": \"white\", \"plot_bgcolor\": \"#E5ECF6\", \"polar\": {\"angularaxis\": {\"gridcolor\": \"white\", \"linecolor\": \"white\", \"ticks\": \"\"}, \"bgcolor\": \"#E5ECF6\", \"radialaxis\": {\"gridcolor\": \"white\", \"linecolor\": \"white\", \"ticks\": \"\"}}, \"scene\": {\"xaxis\": {\"backgroundcolor\": \"#E5ECF6\", \"gridcolor\": \"white\", \"gridwidth\": 2, \"linecolor\": \"white\", \"showbackground\": true, \"ticks\": \"\", \"zerolinecolor\": \"white\"}, \"yaxis\": {\"backgroundcolor\": \"#E5ECF6\", \"gridcolor\": \"white\", \"gridwidth\": 2, \"linecolor\": \"white\", \"showbackground\": true, \"ticks\": \"\", \"zerolinecolor\": \"white\"}, \"zaxis\": {\"backgroundcolor\": \"#E5ECF6\", \"gridcolor\": \"white\", \"gridwidth\": 2, \"linecolor\": \"white\", \"showbackground\": true, \"ticks\": \"\", \"zerolinecolor\": \"white\"}}, \"shapedefaults\": {\"line\": {\"color\": \"#2a3f5f\"}}, \"ternary\": {\"aaxis\": {\"gridcolor\": \"white\", \"linecolor\": \"white\", \"ticks\": \"\"}, \"baxis\": {\"gridcolor\": \"white\", \"linecolor\": \"white\", \"ticks\": \"\"}, \"bgcolor\": \"#E5ECF6\", \"caxis\": {\"gridcolor\": \"white\", \"linecolor\": \"white\", \"ticks\": \"\"}}, \"title\": {\"x\": 0.05}, \"xaxis\": {\"automargin\": true, \"gridcolor\": \"white\", \"linecolor\": \"white\", \"ticks\": \"\", \"title\": {\"standoff\": 15}, \"zerolinecolor\": \"white\", \"zerolinewidth\": 2}, \"yaxis\": {\"automargin\": true, \"gridcolor\": \"white\", \"linecolor\": \"white\", \"ticks\": \"\", \"title\": {\"standoff\": 15}, \"zerolinecolor\": \"white\", \"zerolinewidth\": 2}}}, \"title\": {\"text\": \"Monthly Revenue\"}, \"xaxis\": {\"title\": {\"text\": \"Month\"}}, \"yaxis\": {\"title\": {\"text\": \"Total sales\"}}},                        {\"responsive\": true}                    ).then(function(){\n",
       "                            \n",
       "var gd = document.getElementById('4e6c9e00-a63e-47a5-989d-5c564ca481cb');\n",
       "var x = new MutationObserver(function (mutations, observer) {{\n",
       "        var display = window.getComputedStyle(gd).display;\n",
       "        if (!display || display === 'none') {{\n",
       "            console.log([gd, 'removed!']);\n",
       "            Plotly.purge(gd);\n",
       "            observer.disconnect();\n",
       "        }}\n",
       "}});\n",
       "\n",
       "// Listen for the removal of the full notebook cells\n",
       "var notebookContainer = gd.closest('#notebook-container');\n",
       "if (notebookContainer) {{\n",
       "    x.observe(notebookContainer, {childList: true});\n",
       "}}\n",
       "\n",
       "// Listen for the clearing of the current output cell\n",
       "var outputEl = gd.closest('.output');\n",
       "if (outputEl) {{\n",
       "    x.observe(outputEl, {childList: true});\n",
       "}}\n",
       "\n",
       "                        })                };                });            </script>        </div>"
      ]
     },
     "metadata": {},
     "output_type": "display_data"
    }
   ],
   "source": [
    "chosen_colors=cl.scales['5']['qual']['Paired']\n",
    "ply.init_notebook_mode(connected=True)\n",
    "temp_df = train_merged.groupby('date_block_num')[['total_sales']].sum().reset_index()\n",
    "temp_df.astype('float')\n",
    "\n",
    "fig = go.Figure()\n",
    "fig.add_trace(go.Scatter(x=temp_df.date_block_num, y=temp_df.total_sales,\n",
    "                    mode='lines',\n",
    "                    line= dict(color='green', width=2)))\n",
    "\n",
    "fig.update_layout(title='Monthly Revenue',\n",
    "                   xaxis_title='Month',\n",
    "                   yaxis_title='Total sales')\n",
    "\n",
    "fig.show()"
   ]
  },
  {
   "cell_type": "code",
   "execution_count": 29,
   "metadata": {
    "execution": {
     "iopub.execute_input": "2020-10-26T14:58:38.227758Z",
     "iopub.status.busy": "2020-10-26T14:58:38.226642Z",
     "iopub.status.idle": "2020-10-26T14:58:38.299791Z",
     "shell.execute_reply": "2020-10-26T14:58:38.300607Z"
    },
    "papermill": {
     "duration": 0.172654,
     "end_time": "2020-10-26T14:58:38.300836",
     "exception": false,
     "start_time": "2020-10-26T14:58:38.128182",
     "status": "completed"
    },
    "tags": []
   },
   "outputs": [
    {
     "data": {
      "application/vnd.plotly.v1+json": {
       "config": {
        "plotlyServerURL": "https://plot.ly"
       },
       "data": [
        {
         "line": {
          "color": "green",
          "width": 2
         },
         "mode": "lines",
         "type": "scatter",
         "x": [
          0,
          1,
          2,
          3,
          4,
          5,
          6,
          7,
          8,
          9,
          10,
          11,
          12,
          13,
          14,
          15,
          16,
          17,
          18,
          19,
          20,
          21,
          22,
          23,
          24,
          25,
          26,
          27,
          28,
          29,
          30,
          31,
          32,
          33
         ],
         "y": [
          131850.0,
          128382.0,
          147438.0,
          107439.0,
          107148.0,
          125583.0,
          117165.0,
          125586.0,
          133551.0,
          127815.0,
          130270.0,
          183670.0,
          117243.0,
          109975.0,
          115501.0,
          96744.0,
          97938.0,
          97623.0,
          91505.0,
          102910.0,
          99427.0,
          107623.0,
          118050.0,
          169055.0,
          111299.0,
          84419.0,
          82233.0,
          77948.0,
          72435.0,
          64237.0,
          63316.0,
          66196.0,
          72989.0,
          71184.0
         ]
        }
       ],
       "layout": {
        "template": {
         "data": {
          "bar": [
           {
            "error_x": {
             "color": "#2a3f5f"
            },
            "error_y": {
             "color": "#2a3f5f"
            },
            "marker": {
             "line": {
              "color": "#E5ECF6",
              "width": 0.5
             }
            },
            "type": "bar"
           }
          ],
          "barpolar": [
           {
            "marker": {
             "line": {
              "color": "#E5ECF6",
              "width": 0.5
             }
            },
            "type": "barpolar"
           }
          ],
          "carpet": [
           {
            "aaxis": {
             "endlinecolor": "#2a3f5f",
             "gridcolor": "white",
             "linecolor": "white",
             "minorgridcolor": "white",
             "startlinecolor": "#2a3f5f"
            },
            "baxis": {
             "endlinecolor": "#2a3f5f",
             "gridcolor": "white",
             "linecolor": "white",
             "minorgridcolor": "white",
             "startlinecolor": "#2a3f5f"
            },
            "type": "carpet"
           }
          ],
          "choropleth": [
           {
            "colorbar": {
             "outlinewidth": 0,
             "ticks": ""
            },
            "type": "choropleth"
           }
          ],
          "contour": [
           {
            "colorbar": {
             "outlinewidth": 0,
             "ticks": ""
            },
            "colorscale": [
             [
              0.0,
              "#0d0887"
             ],
             [
              0.1111111111111111,
              "#46039f"
             ],
             [
              0.2222222222222222,
              "#7201a8"
             ],
             [
              0.3333333333333333,
              "#9c179e"
             ],
             [
              0.4444444444444444,
              "#bd3786"
             ],
             [
              0.5555555555555556,
              "#d8576b"
             ],
             [
              0.6666666666666666,
              "#ed7953"
             ],
             [
              0.7777777777777778,
              "#fb9f3a"
             ],
             [
              0.8888888888888888,
              "#fdca26"
             ],
             [
              1.0,
              "#f0f921"
             ]
            ],
            "type": "contour"
           }
          ],
          "contourcarpet": [
           {
            "colorbar": {
             "outlinewidth": 0,
             "ticks": ""
            },
            "type": "contourcarpet"
           }
          ],
          "heatmap": [
           {
            "colorbar": {
             "outlinewidth": 0,
             "ticks": ""
            },
            "colorscale": [
             [
              0.0,
              "#0d0887"
             ],
             [
              0.1111111111111111,
              "#46039f"
             ],
             [
              0.2222222222222222,
              "#7201a8"
             ],
             [
              0.3333333333333333,
              "#9c179e"
             ],
             [
              0.4444444444444444,
              "#bd3786"
             ],
             [
              0.5555555555555556,
              "#d8576b"
             ],
             [
              0.6666666666666666,
              "#ed7953"
             ],
             [
              0.7777777777777778,
              "#fb9f3a"
             ],
             [
              0.8888888888888888,
              "#fdca26"
             ],
             [
              1.0,
              "#f0f921"
             ]
            ],
            "type": "heatmap"
           }
          ],
          "heatmapgl": [
           {
            "colorbar": {
             "outlinewidth": 0,
             "ticks": ""
            },
            "colorscale": [
             [
              0.0,
              "#0d0887"
             ],
             [
              0.1111111111111111,
              "#46039f"
             ],
             [
              0.2222222222222222,
              "#7201a8"
             ],
             [
              0.3333333333333333,
              "#9c179e"
             ],
             [
              0.4444444444444444,
              "#bd3786"
             ],
             [
              0.5555555555555556,
              "#d8576b"
             ],
             [
              0.6666666666666666,
              "#ed7953"
             ],
             [
              0.7777777777777778,
              "#fb9f3a"
             ],
             [
              0.8888888888888888,
              "#fdca26"
             ],
             [
              1.0,
              "#f0f921"
             ]
            ],
            "type": "heatmapgl"
           }
          ],
          "histogram": [
           {
            "marker": {
             "colorbar": {
              "outlinewidth": 0,
              "ticks": ""
             }
            },
            "type": "histogram"
           }
          ],
          "histogram2d": [
           {
            "colorbar": {
             "outlinewidth": 0,
             "ticks": ""
            },
            "colorscale": [
             [
              0.0,
              "#0d0887"
             ],
             [
              0.1111111111111111,
              "#46039f"
             ],
             [
              0.2222222222222222,
              "#7201a8"
             ],
             [
              0.3333333333333333,
              "#9c179e"
             ],
             [
              0.4444444444444444,
              "#bd3786"
             ],
             [
              0.5555555555555556,
              "#d8576b"
             ],
             [
              0.6666666666666666,
              "#ed7953"
             ],
             [
              0.7777777777777778,
              "#fb9f3a"
             ],
             [
              0.8888888888888888,
              "#fdca26"
             ],
             [
              1.0,
              "#f0f921"
             ]
            ],
            "type": "histogram2d"
           }
          ],
          "histogram2dcontour": [
           {
            "colorbar": {
             "outlinewidth": 0,
             "ticks": ""
            },
            "colorscale": [
             [
              0.0,
              "#0d0887"
             ],
             [
              0.1111111111111111,
              "#46039f"
             ],
             [
              0.2222222222222222,
              "#7201a8"
             ],
             [
              0.3333333333333333,
              "#9c179e"
             ],
             [
              0.4444444444444444,
              "#bd3786"
             ],
             [
              0.5555555555555556,
              "#d8576b"
             ],
             [
              0.6666666666666666,
              "#ed7953"
             ],
             [
              0.7777777777777778,
              "#fb9f3a"
             ],
             [
              0.8888888888888888,
              "#fdca26"
             ],
             [
              1.0,
              "#f0f921"
             ]
            ],
            "type": "histogram2dcontour"
           }
          ],
          "mesh3d": [
           {
            "colorbar": {
             "outlinewidth": 0,
             "ticks": ""
            },
            "type": "mesh3d"
           }
          ],
          "parcoords": [
           {
            "line": {
             "colorbar": {
              "outlinewidth": 0,
              "ticks": ""
             }
            },
            "type": "parcoords"
           }
          ],
          "pie": [
           {
            "automargin": true,
            "type": "pie"
           }
          ],
          "scatter": [
           {
            "marker": {
             "colorbar": {
              "outlinewidth": 0,
              "ticks": ""
             }
            },
            "type": "scatter"
           }
          ],
          "scatter3d": [
           {
            "line": {
             "colorbar": {
              "outlinewidth": 0,
              "ticks": ""
             }
            },
            "marker": {
             "colorbar": {
              "outlinewidth": 0,
              "ticks": ""
             }
            },
            "type": "scatter3d"
           }
          ],
          "scattercarpet": [
           {
            "marker": {
             "colorbar": {
              "outlinewidth": 0,
              "ticks": ""
             }
            },
            "type": "scattercarpet"
           }
          ],
          "scattergeo": [
           {
            "marker": {
             "colorbar": {
              "outlinewidth": 0,
              "ticks": ""
             }
            },
            "type": "scattergeo"
           }
          ],
          "scattergl": [
           {
            "marker": {
             "colorbar": {
              "outlinewidth": 0,
              "ticks": ""
             }
            },
            "type": "scattergl"
           }
          ],
          "scattermapbox": [
           {
            "marker": {
             "colorbar": {
              "outlinewidth": 0,
              "ticks": ""
             }
            },
            "type": "scattermapbox"
           }
          ],
          "scatterpolar": [
           {
            "marker": {
             "colorbar": {
              "outlinewidth": 0,
              "ticks": ""
             }
            },
            "type": "scatterpolar"
           }
          ],
          "scatterpolargl": [
           {
            "marker": {
             "colorbar": {
              "outlinewidth": 0,
              "ticks": ""
             }
            },
            "type": "scatterpolargl"
           }
          ],
          "scatterternary": [
           {
            "marker": {
             "colorbar": {
              "outlinewidth": 0,
              "ticks": ""
             }
            },
            "type": "scatterternary"
           }
          ],
          "surface": [
           {
            "colorbar": {
             "outlinewidth": 0,
             "ticks": ""
            },
            "colorscale": [
             [
              0.0,
              "#0d0887"
             ],
             [
              0.1111111111111111,
              "#46039f"
             ],
             [
              0.2222222222222222,
              "#7201a8"
             ],
             [
              0.3333333333333333,
              "#9c179e"
             ],
             [
              0.4444444444444444,
              "#bd3786"
             ],
             [
              0.5555555555555556,
              "#d8576b"
             ],
             [
              0.6666666666666666,
              "#ed7953"
             ],
             [
              0.7777777777777778,
              "#fb9f3a"
             ],
             [
              0.8888888888888888,
              "#fdca26"
             ],
             [
              1.0,
              "#f0f921"
             ]
            ],
            "type": "surface"
           }
          ],
          "table": [
           {
            "cells": {
             "fill": {
              "color": "#EBF0F8"
             },
             "line": {
              "color": "white"
             }
            },
            "header": {
             "fill": {
              "color": "#C8D4E3"
             },
             "line": {
              "color": "white"
             }
            },
            "type": "table"
           }
          ]
         },
         "layout": {
          "annotationdefaults": {
           "arrowcolor": "#2a3f5f",
           "arrowhead": 0,
           "arrowwidth": 1
          },
          "coloraxis": {
           "colorbar": {
            "outlinewidth": 0,
            "ticks": ""
           }
          },
          "colorscale": {
           "diverging": [
            [
             0,
             "#8e0152"
            ],
            [
             0.1,
             "#c51b7d"
            ],
            [
             0.2,
             "#de77ae"
            ],
            [
             0.3,
             "#f1b6da"
            ],
            [
             0.4,
             "#fde0ef"
            ],
            [
             0.5,
             "#f7f7f7"
            ],
            [
             0.6,
             "#e6f5d0"
            ],
            [
             0.7,
             "#b8e186"
            ],
            [
             0.8,
             "#7fbc41"
            ],
            [
             0.9,
             "#4d9221"
            ],
            [
             1,
             "#276419"
            ]
           ],
           "sequential": [
            [
             0.0,
             "#0d0887"
            ],
            [
             0.1111111111111111,
             "#46039f"
            ],
            [
             0.2222222222222222,
             "#7201a8"
            ],
            [
             0.3333333333333333,
             "#9c179e"
            ],
            [
             0.4444444444444444,
             "#bd3786"
            ],
            [
             0.5555555555555556,
             "#d8576b"
            ],
            [
             0.6666666666666666,
             "#ed7953"
            ],
            [
             0.7777777777777778,
             "#fb9f3a"
            ],
            [
             0.8888888888888888,
             "#fdca26"
            ],
            [
             1.0,
             "#f0f921"
            ]
           ],
           "sequentialminus": [
            [
             0.0,
             "#0d0887"
            ],
            [
             0.1111111111111111,
             "#46039f"
            ],
            [
             0.2222222222222222,
             "#7201a8"
            ],
            [
             0.3333333333333333,
             "#9c179e"
            ],
            [
             0.4444444444444444,
             "#bd3786"
            ],
            [
             0.5555555555555556,
             "#d8576b"
            ],
            [
             0.6666666666666666,
             "#ed7953"
            ],
            [
             0.7777777777777778,
             "#fb9f3a"
            ],
            [
             0.8888888888888888,
             "#fdca26"
            ],
            [
             1.0,
             "#f0f921"
            ]
           ]
          },
          "colorway": [
           "#636efa",
           "#EF553B",
           "#00cc96",
           "#ab63fa",
           "#FFA15A",
           "#19d3f3",
           "#FF6692",
           "#B6E880",
           "#FF97FF",
           "#FECB52"
          ],
          "font": {
           "color": "#2a3f5f"
          },
          "geo": {
           "bgcolor": "white",
           "lakecolor": "white",
           "landcolor": "#E5ECF6",
           "showlakes": true,
           "showland": true,
           "subunitcolor": "white"
          },
          "hoverlabel": {
           "align": "left"
          },
          "hovermode": "closest",
          "mapbox": {
           "style": "light"
          },
          "paper_bgcolor": "white",
          "plot_bgcolor": "#E5ECF6",
          "polar": {
           "angularaxis": {
            "gridcolor": "white",
            "linecolor": "white",
            "ticks": ""
           },
           "bgcolor": "#E5ECF6",
           "radialaxis": {
            "gridcolor": "white",
            "linecolor": "white",
            "ticks": ""
           }
          },
          "scene": {
           "xaxis": {
            "backgroundcolor": "#E5ECF6",
            "gridcolor": "white",
            "gridwidth": 2,
            "linecolor": "white",
            "showbackground": true,
            "ticks": "",
            "zerolinecolor": "white"
           },
           "yaxis": {
            "backgroundcolor": "#E5ECF6",
            "gridcolor": "white",
            "gridwidth": 2,
            "linecolor": "white",
            "showbackground": true,
            "ticks": "",
            "zerolinecolor": "white"
           },
           "zaxis": {
            "backgroundcolor": "#E5ECF6",
            "gridcolor": "white",
            "gridwidth": 2,
            "linecolor": "white",
            "showbackground": true,
            "ticks": "",
            "zerolinecolor": "white"
           }
          },
          "shapedefaults": {
           "line": {
            "color": "#2a3f5f"
           }
          },
          "ternary": {
           "aaxis": {
            "gridcolor": "white",
            "linecolor": "white",
            "ticks": ""
           },
           "baxis": {
            "gridcolor": "white",
            "linecolor": "white",
            "ticks": ""
           },
           "bgcolor": "#E5ECF6",
           "caxis": {
            "gridcolor": "white",
            "linecolor": "white",
            "ticks": ""
           }
          },
          "title": {
           "x": 0.05
          },
          "xaxis": {
           "automargin": true,
           "gridcolor": "white",
           "linecolor": "white",
           "ticks": "",
           "title": {
            "standoff": 15
           },
           "zerolinecolor": "white",
           "zerolinewidth": 2
          },
          "yaxis": {
           "automargin": true,
           "gridcolor": "white",
           "linecolor": "white",
           "ticks": "",
           "title": {
            "standoff": 15
           },
           "zerolinecolor": "white",
           "zerolinewidth": 2
          }
         }
        },
        "title": {
         "text": "Monthly Item Count"
        },
        "xaxis": {
         "title": {
          "text": "Month"
         }
        },
        "yaxis": {
         "title": {
          "text": "Item Count"
         }
        }
       }
      },
      "text/html": [
       "<div>                            <div id=\"b9aa9acc-18fe-4be4-aeff-ef33c9588a02\" class=\"plotly-graph-div\" style=\"height:525px; width:100%;\"></div>            <script type=\"text/javascript\">                require([\"plotly\"], function(Plotly) {                    window.PLOTLYENV=window.PLOTLYENV || {};                                    if (document.getElementById(\"b9aa9acc-18fe-4be4-aeff-ef33c9588a02\")) {                    Plotly.newPlot(                        \"b9aa9acc-18fe-4be4-aeff-ef33c9588a02\",                        [{\"line\": {\"color\": \"green\", \"width\": 2}, \"mode\": \"lines\", \"type\": \"scatter\", \"x\": [0, 1, 2, 3, 4, 5, 6, 7, 8, 9, 10, 11, 12, 13, 14, 15, 16, 17, 18, 19, 20, 21, 22, 23, 24, 25, 26, 27, 28, 29, 30, 31, 32, 33], \"y\": [131850.0, 128382.0, 147438.0, 107439.0, 107148.0, 125583.0, 117165.0, 125586.0, 133551.0, 127815.0, 130270.0, 183670.0, 117243.0, 109975.0, 115501.0, 96744.0, 97938.0, 97623.0, 91505.0, 102910.0, 99427.0, 107623.0, 118050.0, 169055.0, 111299.0, 84419.0, 82233.0, 77948.0, 72435.0, 64237.0, 63316.0, 66196.0, 72989.0, 71184.0]}],                        {\"template\": {\"data\": {\"bar\": [{\"error_x\": {\"color\": \"#2a3f5f\"}, \"error_y\": {\"color\": \"#2a3f5f\"}, \"marker\": {\"line\": {\"color\": \"#E5ECF6\", \"width\": 0.5}}, \"type\": \"bar\"}], \"barpolar\": [{\"marker\": {\"line\": {\"color\": \"#E5ECF6\", \"width\": 0.5}}, \"type\": \"barpolar\"}], \"carpet\": [{\"aaxis\": {\"endlinecolor\": \"#2a3f5f\", \"gridcolor\": \"white\", \"linecolor\": \"white\", \"minorgridcolor\": \"white\", \"startlinecolor\": \"#2a3f5f\"}, \"baxis\": {\"endlinecolor\": \"#2a3f5f\", \"gridcolor\": \"white\", \"linecolor\": \"white\", \"minorgridcolor\": \"white\", \"startlinecolor\": \"#2a3f5f\"}, \"type\": \"carpet\"}], \"choropleth\": [{\"colorbar\": {\"outlinewidth\": 0, \"ticks\": \"\"}, \"type\": \"choropleth\"}], \"contour\": [{\"colorbar\": {\"outlinewidth\": 0, \"ticks\": \"\"}, \"colorscale\": [[0.0, \"#0d0887\"], [0.1111111111111111, \"#46039f\"], [0.2222222222222222, \"#7201a8\"], [0.3333333333333333, \"#9c179e\"], [0.4444444444444444, \"#bd3786\"], [0.5555555555555556, \"#d8576b\"], [0.6666666666666666, \"#ed7953\"], [0.7777777777777778, \"#fb9f3a\"], [0.8888888888888888, \"#fdca26\"], [1.0, \"#f0f921\"]], \"type\": \"contour\"}], \"contourcarpet\": [{\"colorbar\": {\"outlinewidth\": 0, \"ticks\": \"\"}, \"type\": \"contourcarpet\"}], \"heatmap\": [{\"colorbar\": {\"outlinewidth\": 0, \"ticks\": \"\"}, \"colorscale\": [[0.0, \"#0d0887\"], [0.1111111111111111, \"#46039f\"], [0.2222222222222222, \"#7201a8\"], [0.3333333333333333, \"#9c179e\"], [0.4444444444444444, \"#bd3786\"], [0.5555555555555556, \"#d8576b\"], [0.6666666666666666, \"#ed7953\"], [0.7777777777777778, \"#fb9f3a\"], [0.8888888888888888, \"#fdca26\"], [1.0, \"#f0f921\"]], \"type\": \"heatmap\"}], \"heatmapgl\": [{\"colorbar\": {\"outlinewidth\": 0, \"ticks\": \"\"}, \"colorscale\": [[0.0, \"#0d0887\"], [0.1111111111111111, \"#46039f\"], [0.2222222222222222, \"#7201a8\"], [0.3333333333333333, \"#9c179e\"], [0.4444444444444444, \"#bd3786\"], [0.5555555555555556, \"#d8576b\"], [0.6666666666666666, \"#ed7953\"], [0.7777777777777778, \"#fb9f3a\"], [0.8888888888888888, \"#fdca26\"], [1.0, \"#f0f921\"]], \"type\": \"heatmapgl\"}], \"histogram\": [{\"marker\": {\"colorbar\": {\"outlinewidth\": 0, \"ticks\": \"\"}}, \"type\": \"histogram\"}], \"histogram2d\": [{\"colorbar\": {\"outlinewidth\": 0, \"ticks\": \"\"}, \"colorscale\": [[0.0, \"#0d0887\"], [0.1111111111111111, \"#46039f\"], [0.2222222222222222, \"#7201a8\"], [0.3333333333333333, \"#9c179e\"], [0.4444444444444444, \"#bd3786\"], [0.5555555555555556, \"#d8576b\"], [0.6666666666666666, \"#ed7953\"], [0.7777777777777778, \"#fb9f3a\"], [0.8888888888888888, \"#fdca26\"], [1.0, \"#f0f921\"]], \"type\": \"histogram2d\"}], \"histogram2dcontour\": [{\"colorbar\": {\"outlinewidth\": 0, \"ticks\": \"\"}, \"colorscale\": [[0.0, \"#0d0887\"], [0.1111111111111111, \"#46039f\"], [0.2222222222222222, \"#7201a8\"], [0.3333333333333333, \"#9c179e\"], [0.4444444444444444, \"#bd3786\"], [0.5555555555555556, \"#d8576b\"], [0.6666666666666666, \"#ed7953\"], [0.7777777777777778, \"#fb9f3a\"], [0.8888888888888888, \"#fdca26\"], [1.0, \"#f0f921\"]], \"type\": \"histogram2dcontour\"}], \"mesh3d\": [{\"colorbar\": {\"outlinewidth\": 0, \"ticks\": \"\"}, \"type\": \"mesh3d\"}], \"parcoords\": [{\"line\": {\"colorbar\": {\"outlinewidth\": 0, \"ticks\": \"\"}}, \"type\": \"parcoords\"}], \"pie\": [{\"automargin\": true, \"type\": \"pie\"}], \"scatter\": [{\"marker\": {\"colorbar\": {\"outlinewidth\": 0, \"ticks\": \"\"}}, \"type\": \"scatter\"}], \"scatter3d\": [{\"line\": {\"colorbar\": {\"outlinewidth\": 0, \"ticks\": \"\"}}, \"marker\": {\"colorbar\": {\"outlinewidth\": 0, \"ticks\": \"\"}}, \"type\": \"scatter3d\"}], \"scattercarpet\": [{\"marker\": {\"colorbar\": {\"outlinewidth\": 0, \"ticks\": \"\"}}, \"type\": \"scattercarpet\"}], \"scattergeo\": [{\"marker\": {\"colorbar\": {\"outlinewidth\": 0, \"ticks\": \"\"}}, \"type\": \"scattergeo\"}], \"scattergl\": [{\"marker\": {\"colorbar\": {\"outlinewidth\": 0, \"ticks\": \"\"}}, \"type\": \"scattergl\"}], \"scattermapbox\": [{\"marker\": {\"colorbar\": {\"outlinewidth\": 0, \"ticks\": \"\"}}, \"type\": \"scattermapbox\"}], \"scatterpolar\": [{\"marker\": {\"colorbar\": {\"outlinewidth\": 0, \"ticks\": \"\"}}, \"type\": \"scatterpolar\"}], \"scatterpolargl\": [{\"marker\": {\"colorbar\": {\"outlinewidth\": 0, \"ticks\": \"\"}}, \"type\": \"scatterpolargl\"}], \"scatterternary\": [{\"marker\": {\"colorbar\": {\"outlinewidth\": 0, \"ticks\": \"\"}}, \"type\": \"scatterternary\"}], \"surface\": [{\"colorbar\": {\"outlinewidth\": 0, \"ticks\": \"\"}, \"colorscale\": [[0.0, \"#0d0887\"], [0.1111111111111111, \"#46039f\"], [0.2222222222222222, \"#7201a8\"], [0.3333333333333333, \"#9c179e\"], [0.4444444444444444, \"#bd3786\"], [0.5555555555555556, \"#d8576b\"], [0.6666666666666666, \"#ed7953\"], [0.7777777777777778, \"#fb9f3a\"], [0.8888888888888888, \"#fdca26\"], [1.0, \"#f0f921\"]], \"type\": \"surface\"}], \"table\": [{\"cells\": {\"fill\": {\"color\": \"#EBF0F8\"}, \"line\": {\"color\": \"white\"}}, \"header\": {\"fill\": {\"color\": \"#C8D4E3\"}, \"line\": {\"color\": \"white\"}}, \"type\": \"table\"}]}, \"layout\": {\"annotationdefaults\": {\"arrowcolor\": \"#2a3f5f\", \"arrowhead\": 0, \"arrowwidth\": 1}, \"coloraxis\": {\"colorbar\": {\"outlinewidth\": 0, \"ticks\": \"\"}}, \"colorscale\": {\"diverging\": [[0, \"#8e0152\"], [0.1, \"#c51b7d\"], [0.2, \"#de77ae\"], [0.3, \"#f1b6da\"], [0.4, \"#fde0ef\"], [0.5, \"#f7f7f7\"], [0.6, \"#e6f5d0\"], [0.7, \"#b8e186\"], [0.8, \"#7fbc41\"], [0.9, \"#4d9221\"], [1, \"#276419\"]], \"sequential\": [[0.0, \"#0d0887\"], [0.1111111111111111, \"#46039f\"], [0.2222222222222222, \"#7201a8\"], [0.3333333333333333, \"#9c179e\"], [0.4444444444444444, \"#bd3786\"], [0.5555555555555556, \"#d8576b\"], [0.6666666666666666, \"#ed7953\"], [0.7777777777777778, \"#fb9f3a\"], [0.8888888888888888, \"#fdca26\"], [1.0, \"#f0f921\"]], \"sequentialminus\": [[0.0, \"#0d0887\"], [0.1111111111111111, \"#46039f\"], [0.2222222222222222, \"#7201a8\"], [0.3333333333333333, \"#9c179e\"], [0.4444444444444444, \"#bd3786\"], [0.5555555555555556, \"#d8576b\"], [0.6666666666666666, \"#ed7953\"], [0.7777777777777778, \"#fb9f3a\"], [0.8888888888888888, \"#fdca26\"], [1.0, \"#f0f921\"]]}, \"colorway\": [\"#636efa\", \"#EF553B\", \"#00cc96\", \"#ab63fa\", \"#FFA15A\", \"#19d3f3\", \"#FF6692\", \"#B6E880\", \"#FF97FF\", \"#FECB52\"], \"font\": {\"color\": \"#2a3f5f\"}, \"geo\": {\"bgcolor\": \"white\", \"lakecolor\": \"white\", \"landcolor\": \"#E5ECF6\", \"showlakes\": true, \"showland\": true, \"subunitcolor\": \"white\"}, \"hoverlabel\": {\"align\": \"left\"}, \"hovermode\": \"closest\", \"mapbox\": {\"style\": \"light\"}, \"paper_bgcolor\": \"white\", \"plot_bgcolor\": \"#E5ECF6\", \"polar\": {\"angularaxis\": {\"gridcolor\": \"white\", \"linecolor\": \"white\", \"ticks\": \"\"}, \"bgcolor\": \"#E5ECF6\", \"radialaxis\": {\"gridcolor\": \"white\", \"linecolor\": \"white\", \"ticks\": \"\"}}, \"scene\": {\"xaxis\": {\"backgroundcolor\": \"#E5ECF6\", \"gridcolor\": \"white\", \"gridwidth\": 2, \"linecolor\": \"white\", \"showbackground\": true, \"ticks\": \"\", \"zerolinecolor\": \"white\"}, \"yaxis\": {\"backgroundcolor\": \"#E5ECF6\", \"gridcolor\": \"white\", \"gridwidth\": 2, \"linecolor\": \"white\", \"showbackground\": true, \"ticks\": \"\", \"zerolinecolor\": \"white\"}, \"zaxis\": {\"backgroundcolor\": \"#E5ECF6\", \"gridcolor\": \"white\", \"gridwidth\": 2, \"linecolor\": \"white\", \"showbackground\": true, \"ticks\": \"\", \"zerolinecolor\": \"white\"}}, \"shapedefaults\": {\"line\": {\"color\": \"#2a3f5f\"}}, \"ternary\": {\"aaxis\": {\"gridcolor\": \"white\", \"linecolor\": \"white\", \"ticks\": \"\"}, \"baxis\": {\"gridcolor\": \"white\", \"linecolor\": \"white\", \"ticks\": \"\"}, \"bgcolor\": \"#E5ECF6\", \"caxis\": {\"gridcolor\": \"white\", \"linecolor\": \"white\", \"ticks\": \"\"}}, \"title\": {\"x\": 0.05}, \"xaxis\": {\"automargin\": true, \"gridcolor\": \"white\", \"linecolor\": \"white\", \"ticks\": \"\", \"title\": {\"standoff\": 15}, \"zerolinecolor\": \"white\", \"zerolinewidth\": 2}, \"yaxis\": {\"automargin\": true, \"gridcolor\": \"white\", \"linecolor\": \"white\", \"ticks\": \"\", \"title\": {\"standoff\": 15}, \"zerolinecolor\": \"white\", \"zerolinewidth\": 2}}}, \"title\": {\"text\": \"Monthly Item Count\"}, \"xaxis\": {\"title\": {\"text\": \"Month\"}}, \"yaxis\": {\"title\": {\"text\": \"Item Count\"}}},                        {\"responsive\": true}                    ).then(function(){\n",
       "                            \n",
       "var gd = document.getElementById('b9aa9acc-18fe-4be4-aeff-ef33c9588a02');\n",
       "var x = new MutationObserver(function (mutations, observer) {{\n",
       "        var display = window.getComputedStyle(gd).display;\n",
       "        if (!display || display === 'none') {{\n",
       "            console.log([gd, 'removed!']);\n",
       "            Plotly.purge(gd);\n",
       "            observer.disconnect();\n",
       "        }}\n",
       "}});\n",
       "\n",
       "// Listen for the removal of the full notebook cells\n",
       "var notebookContainer = gd.closest('#notebook-container');\n",
       "if (notebookContainer) {{\n",
       "    x.observe(notebookContainer, {childList: true});\n",
       "}}\n",
       "\n",
       "// Listen for the clearing of the current output cell\n",
       "var outputEl = gd.closest('.output');\n",
       "if (outputEl) {{\n",
       "    x.observe(outputEl, {childList: true});\n",
       "}}\n",
       "\n",
       "                        })                };                });            </script>        </div>"
      ]
     },
     "metadata": {},
     "output_type": "display_data"
    }
   ],
   "source": [
    "temp_df2 = train_merged.groupby('date_block_num')[['item_cnt_day']].sum().reset_index()\n",
    "temp_df2.astype('float')\n",
    "\n",
    "fig = go.Figure()\n",
    "fig.add_trace(go.Scatter(x=temp_df2.date_block_num, y=temp_df2.item_cnt_day,\n",
    "                    mode='lines',\n",
    "                    line= dict(color='green', width=2)))\n",
    "\n",
    "fig.update_layout(title='Monthly Item Count',\n",
    "                   xaxis_title='Month',\n",
    "                   yaxis_title='Item Count')\n",
    "\n",
    "fig.show()"
   ]
  },
  {
   "cell_type": "code",
   "execution_count": 30,
   "metadata": {
    "execution": {
     "iopub.execute_input": "2020-10-26T14:58:38.603177Z",
     "iopub.status.busy": "2020-10-26T14:58:38.602093Z",
     "iopub.status.idle": "2020-10-26T14:58:39.167775Z",
     "shell.execute_reply": "2020-10-26T14:58:39.166817Z"
    },
    "papermill": {
     "duration": 0.762358,
     "end_time": "2020-10-26T14:58:39.167941",
     "exception": false,
     "start_time": "2020-10-26T14:58:38.405583",
     "status": "completed"
    },
    "tags": []
   },
   "outputs": [
    {
     "data": {
      "image/png": "[encoded data removed]",
      "text/plain": [
       "<Figure size 720x360 with 1 Axes>"
      ]
     },
     "metadata": {
      "needs_background": "light"
     },
     "output_type": "display_data"
    }
   ],
   "source": [
    "temp_df3 = train_merged.groupby('day_of_week')[['total_sales']].sum().reset_index()\n",
    "fig = plt.figure(figsize = (10, 5))\n",
    "\n",
    "# creating the bar plot \n",
    "plt.bar(temp_df3['day_of_week'], temp_df3['total_sales'], color ='red',  \n",
    "        width = 0.4) \n",
    "  \n",
    "plt.xlabel(\"Day of week\") \n",
    "plt.ylabel(\"Revenue Generated\") \n",
    "plt.title(\"Sales on each day of the week\") \n",
    "plt.show()\n",
    "#Friday, Saturday, Sunday highest in terms of sales"
   ]
  },
  {
   "cell_type": "code",
   "execution_count": 31,
   "metadata": {
    "execution": {
     "iopub.execute_input": "2020-10-26T14:58:39.389052Z",
     "iopub.status.busy": "2020-10-26T14:58:39.387986Z",
     "iopub.status.idle": "2020-10-26T14:58:39.660224Z",
     "shell.execute_reply": "2020-10-26T14:58:39.659467Z"
    },
    "papermill": {
     "duration": 0.378752,
     "end_time": "2020-10-26T14:58:39.660378",
     "exception": false,
     "start_time": "2020-10-26T14:58:39.281626",
     "status": "completed"
    },
    "tags": []
   },
   "outputs": [
    {
     "data": {
      "image/png": "[encoded data removed]",
      "text/plain": [
       "<Figure size 720x360 with 1 Axes>"
      ]
     },
     "metadata": {
      "needs_background": "light"
     },
     "output_type": "display_data"
    }
   ],
   "source": [
    "temp_df4 = train_merged.groupby('Month')[['total_sales']].sum().reset_index()\n",
    "fig = plt.figure(figsize = (10, 5))\n",
    "\n",
    "# creating the bar plot \n",
    "plt.bar(temp_df4['Month'], temp_df4['total_sales'], color ='red',  \n",
    "        width = 0.4) \n",
    "  \n",
    "plt.xlabel(\"Month of year\") \n",
    "plt.ylabel(\"Revenue Generated\") \n",
    "plt.title(\"Sales for every month of the year\") \n",
    "plt.xticks([i for i in range(1, 13)])\n",
    "plt.show()\n",
    "#Most sales during december festive season"
   ]
  },
  {
   "cell_type": "code",
   "execution_count": 32,
   "metadata": {
    "execution": {
     "iopub.execute_input": "2020-10-26T14:58:39.886147Z",
     "iopub.status.busy": "2020-10-26T14:58:39.876766Z",
     "iopub.status.idle": "2020-10-26T14:58:40.833142Z",
     "shell.execute_reply": "2020-10-26T14:58:40.832427Z"
    },
    "papermill": {
     "duration": 1.068981,
     "end_time": "2020-10-26T14:58:40.833285",
     "exception": false,
     "start_time": "2020-10-26T14:58:39.764304",
     "status": "completed"
    },
    "tags": []
   },
   "outputs": [
    {
     "data": {
      "image/png": "[encoded data removed]",
      "text/plain": [
       "<Figure size 2160x1080 with 1 Axes>"
      ]
     },
     "metadata": {
      "needs_background": "light"
     },
     "output_type": "display_data"
    }
   ],
   "source": [
    "temp_df5 = train_merged.groupby('shop_id')[['total_sales']].sum().reset_index()\n",
    "fig = plt.figure(figsize = (30, 15))\n",
    "\n",
    "# creating the bar plot \n",
    "plt.bar(temp_df5['shop_id'], temp_df5['total_sales'], color ='red',  \n",
    "        width = 0.4) \n",
    "  \n",
    "plt.xlabel(\"Shop Id\") \n",
    "plt.ylabel(\"Revenue Generated\") \n",
    "plt.title(\"Revenue generated per shop\") \n",
    "plt.xticks([i for i in range(60)])\n",
    "plt.show()\n",
    "#Most sales during december festive season"
   ]
  },
  {
   "cell_type": "code",
   "execution_count": 33,
   "metadata": {
    "execution": {
     "iopub.execute_input": "2020-10-26T14:58:41.094770Z",
     "iopub.status.busy": "2020-10-26T14:58:41.093611Z",
     "iopub.status.idle": "2020-10-26T14:58:42.289366Z",
     "shell.execute_reply": "2020-10-26T14:58:42.289940Z"
    },
    "papermill": {
     "duration": 1.312234,
     "end_time": "2020-10-26T14:58:42.290113",
     "exception": false,
     "start_time": "2020-10-26T14:58:40.977879",
     "status": "completed"
    },
    "tags": []
   },
   "outputs": [
    {
     "data": {
      "image/png": "[encoded data removed]",
      "text/plain": [
       "<Figure size 2160x1080 with 1 Axes>"
      ]
     },
     "metadata": {
      "needs_background": "light"
     },
     "output_type": "display_data"
    }
   ],
   "source": [
    "temp_df6 = train_merged.groupby('item_category_id')[['item_cnt_day']].sum().reset_index()\n",
    "fig = plt.figure(figsize=(30,15))\n",
    "\n",
    "plt.bar(temp_df6['item_category_id'],temp_df6['item_cnt_day'], color='red',width=0.5)\n",
    "\n",
    "plt.xlabel(\"Item Category ID\")\n",
    "plt.ylabel(\"Total Number Of Items Sold\")\n",
    "plt.title(\"Comparison Between Sales Of Item Categories\")\n",
    "plt.xticks([i for i in range(84)])\n",
    "plt.show()\n",
    "# Maximum Sales in Item Category 40, followed by 30 and then 55"
   ]
  },
  {
   "cell_type": "code",
   "execution_count": 34,
   "metadata": {
    "execution": {
     "iopub.execute_input": "2020-10-26T14:58:42.500707Z",
     "iopub.status.busy": "2020-10-26T14:58:42.497608Z",
     "iopub.status.idle": "2020-10-26T14:58:49.924986Z",
     "shell.execute_reply": "2020-10-26T14:58:49.924368Z"
    },
    "papermill": {
     "duration": 7.539616,
     "end_time": "2020-10-26T14:58:49.925117",
     "exception": false,
     "start_time": "2020-10-26T14:58:42.385501",
     "status": "completed"
    },
    "tags": []
   },
   "outputs": [
    {
     "data": {
      "image/png": "[encoded data removed]",
      "text/plain": [
       "<Figure size 360x360 with 3 Axes>"
      ]
     },
     "metadata": {
      "needs_background": "light"
     },
     "output_type": "display_data"
    }
   ],
   "source": [
    "sns.jointplot(x=\"item_cnt_day\", y=\"item_price\", data=train_merged, height=5)\n",
    "plt.title(\"Outliers In Terms Of Count And Price\")\n",
    "plt.show()\n",
    "# Thus outliers are price greater than 50,000 and count greater than 500 and can cause significant\n",
    "# amount of noise in the computation for prediction"
   ]
  },
  {
   "cell_type": "code",
   "execution_count": 35,
   "metadata": {
    "execution": {
     "iopub.execute_input": "2020-10-26T14:58:50.354985Z",
     "iopub.status.busy": "2020-10-26T14:58:50.250867Z",
     "iopub.status.idle": "2020-10-26T14:58:52.202944Z",
     "shell.execute_reply": "2020-10-26T14:58:52.202130Z"
    },
    "papermill": {
     "duration": 2.180694,
     "end_time": "2020-10-26T14:58:52.203072",
     "exception": false,
     "start_time": "2020-10-26T14:58:50.022378",
     "status": "completed"
    },
    "tags": []
   },
   "outputs": [
    {
     "data": {
      "image/png": "[encoded data removed]",
      "text/plain": [
       "<Figure size 720x360 with 1 Axes>"
      ]
     },
     "metadata": {
      "needs_background": "light"
     },
     "output_type": "display_data"
    }
   ],
   "source": [
    "x=train_merged.groupby(['item_category_id']).count()\n",
    "x=x.sort_values(by='item_id',ascending=False) # Sort In Descending Order Of The Number Of Items \n",
    "x=x.iloc[0:10].reset_index() # Select The Top 10 for the graph\n",
    "\n",
    "plt.figure(figsize=(10,5))\n",
    "y= sns.barplot(x.item_category_id, x.item_id, color='red')\n",
    "plt.title(\"Number Of Items Per Category\")\n",
    "plt.ylabel('Total Number Of Items')\n",
    "plt.xlabel('Item Category ID')\n",
    "plt.show()\n",
    "#Thus total number of sales that were high for item_categories 40,30 and 55 were due to proportionately\n",
    "# high number of items in those categories"
   ]
  },
  {
   "cell_type": "code",
   "execution_count": 36,
   "metadata": {
    "execution": {
     "iopub.execute_input": "2020-10-26T14:58:52.413242Z",
     "iopub.status.busy": "2020-10-26T14:58:52.411951Z",
     "iopub.status.idle": "2020-10-26T14:58:52.636102Z",
     "shell.execute_reply": "2020-10-26T14:58:52.635415Z"
    },
    "papermill": {
     "duration": 0.337318,
     "end_time": "2020-10-26T14:58:52.636230",
     "exception": false,
     "start_time": "2020-10-26T14:58:52.298912",
     "status": "completed"
    },
    "tags": []
   },
   "outputs": [
    {
     "data": {
      "image/png": "[encoded data removed]",
      "text/plain": [
       "<Figure size 1152x432 with 1 Axes>"
      ]
     },
     "metadata": {
      "needs_background": "light"
     },
     "output_type": "display_data"
    }
   ],
   "source": [
    "plt.figure(figsize=(16,6))\n",
    "plt.plot(temp_df2.rolling(window=12,center=False).mean(),label='Rolling Mean');\n",
    "plt.plot(temp_df2.rolling(window=12,center=False).std(),label='Rolling sd');\n",
    "plt.legend();"
   ]
  },
  {
   "cell_type": "code",
   "execution_count": 37,
   "metadata": {
    "execution": {
     "iopub.execute_input": "2020-10-26T14:58:52.837812Z",
     "iopub.status.busy": "2020-10-26T14:58:52.836967Z",
     "iopub.status.idle": "2020-10-26T14:58:53.502205Z",
     "shell.execute_reply": "2020-10-26T14:58:53.501442Z"
    },
    "papermill": {
     "duration": 0.769479,
     "end_time": "2020-10-26T14:58:53.502329",
     "exception": false,
     "start_time": "2020-10-26T14:58:52.732850",
     "status": "completed"
    },
    "tags": []
   },
   "outputs": [
    {
     "data": {
      "image/png": "[encoded data removed]",
      "text/plain": [
       "<Figure size 432x288 with 4 Axes>"
      ]
     },
     "metadata": {
      "needs_background": "light"
     },
     "output_type": "display_data"
    }
   ],
   "source": [
    "import statsmodels.api as sm\n",
    "# multiplicative\n",
    "res = sm.tsa.seasonal_decompose(temp_df2.values,period=12,model=\"additive\")\n",
    "#plt.figure(figsize=(16,12))\n",
    "fig = res.plot()\n",
    "#fig.show()"
   ]
  },
  {
   "cell_type": "code",
   "execution_count": 38,
   "metadata": {
    "execution": {
     "iopub.execute_input": "2020-10-26T14:58:53.712710Z",
     "iopub.status.busy": "2020-10-26T14:58:53.711573Z",
     "iopub.status.idle": "2020-10-26T14:58:53.715927Z",
     "shell.execute_reply": "2020-10-26T14:58:53.716482Z"
    },
    "papermill": {
     "duration": 0.11665,
     "end_time": "2020-10-26T14:58:53.716656",
     "exception": false,
     "start_time": "2020-10-26T14:58:53.600006",
     "status": "completed"
    },
    "tags": []
   },
   "outputs": [
    {
     "data": {
      "text/html": [
       "<div>\n",
       "<style scoped>\n",
       "    .dataframe tbody tr th:only-of-type {\n",
       "        vertical-align: middle;\n",
       "    }\n",
       "\n",
       "    .dataframe tbody tr th {\n",
       "        vertical-align: top;\n",
       "    }\n",
       "\n",
       "    .dataframe thead th {\n",
       "        text-align: right;\n",
       "    }\n",
       "</style>\n",
       "<table border=\"1\" class=\"dataframe\">\n",
       "  <thead>\n",
       "    <tr style=\"text-align: right;\">\n",
       "      <th></th>\n",
       "      <th>date</th>\n",
       "      <th>date_block_num</th>\n",
       "      <th>shop_id</th>\n",
       "      <th>item_id</th>\n",
       "      <th>item_price</th>\n",
       "      <th>item_cnt_day</th>\n",
       "    </tr>\n",
       "  </thead>\n",
       "  <tbody>\n",
       "    <tr>\n",
       "      <th>0</th>\n",
       "      <td>02.01.2013</td>\n",
       "      <td>0</td>\n",
       "      <td>59</td>\n",
       "      <td>22154</td>\n",
       "      <td>999.00000</td>\n",
       "      <td>1.00000</td>\n",
       "    </tr>\n",
       "    <tr>\n",
       "      <th>1</th>\n",
       "      <td>03.01.2013</td>\n",
       "      <td>0</td>\n",
       "      <td>25</td>\n",
       "      <td>2552</td>\n",
       "      <td>899.00000</td>\n",
       "      <td>1.00000</td>\n",
       "    </tr>\n",
       "    <tr>\n",
       "      <th>2</th>\n",
       "      <td>05.01.2013</td>\n",
       "      <td>0</td>\n",
       "      <td>25</td>\n",
       "      <td>2552</td>\n",
       "      <td>899.00000</td>\n",
       "      <td>-1.00000</td>\n",
       "    </tr>\n",
       "    <tr>\n",
       "      <th>3</th>\n",
       "      <td>06.01.2013</td>\n",
       "      <td>0</td>\n",
       "      <td>25</td>\n",
       "      <td>2554</td>\n",
       "      <td>1709.05000</td>\n",
       "      <td>1.00000</td>\n",
       "    </tr>\n",
       "    <tr>\n",
       "      <th>4</th>\n",
       "      <td>15.01.2013</td>\n",
       "      <td>0</td>\n",
       "      <td>25</td>\n",
       "      <td>2555</td>\n",
       "      <td>1099.00000</td>\n",
       "      <td>1.00000</td>\n",
       "    </tr>\n",
       "  </tbody>\n",
       "</table>\n",
       "</div>"
      ],
      "text/plain": [
       "         date  date_block_num  shop_id  item_id  item_price  item_cnt_day\n",
       "0  02.01.2013               0       59    22154   999.00000       1.00000\n",
       "1  03.01.2013               0       25     2552   899.00000       1.00000\n",
       "2  05.01.2013               0       25     2552   899.00000      -1.00000\n",
       "3  06.01.2013               0       25     2554  1709.05000       1.00000\n",
       "4  15.01.2013               0       25     2555  1099.00000       1.00000"
      ]
     },
     "execution_count": 38,
     "metadata": {},
     "output_type": "execute_result"
    }
   ],
   "source": [
    "train_data.head()"
   ]
  },
  {
   "cell_type": "code",
   "execution_count": 39,
   "metadata": {
    "execution": {
     "iopub.execute_input": "2020-10-26T14:58:53.922647Z",
     "iopub.status.busy": "2020-10-26T14:58:53.921833Z",
     "iopub.status.idle": "2020-10-26T14:58:54.054229Z",
     "shell.execute_reply": "2020-10-26T14:58:54.054827Z"
    },
    "papermill": {
     "duration": 0.239542,
     "end_time": "2020-10-26T14:58:54.055001",
     "exception": false,
     "start_time": "2020-10-26T14:58:53.815459",
     "status": "completed"
    },
    "tags": []
   },
   "outputs": [],
   "source": [
    "#Drop entries with negative Item_cnt_day\n",
    "train_data=train_data[train_data['item_cnt_day']>0]"
   ]
  },
  {
   "cell_type": "code",
   "execution_count": 40,
   "metadata": {
    "execution": {
     "iopub.execute_input": "2020-10-26T14:58:54.267384Z",
     "iopub.status.busy": "2020-10-26T14:58:54.266275Z",
     "iopub.status.idle": "2020-10-26T14:58:54.271416Z",
     "shell.execute_reply": "2020-10-26T14:58:54.270701Z"
    },
    "papermill": {
     "duration": 0.11711,
     "end_time": "2020-10-26T14:58:54.271559",
     "exception": false,
     "start_time": "2020-10-26T14:58:54.154449",
     "status": "completed"
    },
    "tags": []
   },
   "outputs": [
    {
     "data": {
      "text/html": [
       "<div>\n",
       "<style scoped>\n",
       "    .dataframe tbody tr th:only-of-type {\n",
       "        vertical-align: middle;\n",
       "    }\n",
       "\n",
       "    .dataframe tbody tr th {\n",
       "        vertical-align: top;\n",
       "    }\n",
       "\n",
       "    .dataframe thead th {\n",
       "        text-align: right;\n",
       "    }\n",
       "</style>\n",
       "<table border=\"1\" class=\"dataframe\">\n",
       "  <thead>\n",
       "    <tr style=\"text-align: right;\">\n",
       "      <th></th>\n",
       "      <th>date</th>\n",
       "      <th>date_block_num</th>\n",
       "      <th>shop_id</th>\n",
       "      <th>item_id</th>\n",
       "      <th>item_price</th>\n",
       "      <th>item_cnt_day</th>\n",
       "    </tr>\n",
       "  </thead>\n",
       "  <tbody>\n",
       "    <tr>\n",
       "      <th>0</th>\n",
       "      <td>02.01.2013</td>\n",
       "      <td>0</td>\n",
       "      <td>59</td>\n",
       "      <td>22154</td>\n",
       "      <td>999.00000</td>\n",
       "      <td>1.00000</td>\n",
       "    </tr>\n",
       "    <tr>\n",
       "      <th>1</th>\n",
       "      <td>03.01.2013</td>\n",
       "      <td>0</td>\n",
       "      <td>25</td>\n",
       "      <td>2552</td>\n",
       "      <td>899.00000</td>\n",
       "      <td>1.00000</td>\n",
       "    </tr>\n",
       "    <tr>\n",
       "      <th>3</th>\n",
       "      <td>06.01.2013</td>\n",
       "      <td>0</td>\n",
       "      <td>25</td>\n",
       "      <td>2554</td>\n",
       "      <td>1709.05000</td>\n",
       "      <td>1.00000</td>\n",
       "    </tr>\n",
       "    <tr>\n",
       "      <th>4</th>\n",
       "      <td>15.01.2013</td>\n",
       "      <td>0</td>\n",
       "      <td>25</td>\n",
       "      <td>2555</td>\n",
       "      <td>1099.00000</td>\n",
       "      <td>1.00000</td>\n",
       "    </tr>\n",
       "    <tr>\n",
       "      <th>5</th>\n",
       "      <td>10.01.2013</td>\n",
       "      <td>0</td>\n",
       "      <td>25</td>\n",
       "      <td>2564</td>\n",
       "      <td>349.00000</td>\n",
       "      <td>1.00000</td>\n",
       "    </tr>\n",
       "  </tbody>\n",
       "</table>\n",
       "</div>"
      ],
      "text/plain": [
       "         date  date_block_num  shop_id  item_id  item_price  item_cnt_day\n",
       "0  02.01.2013               0       59    22154   999.00000       1.00000\n",
       "1  03.01.2013               0       25     2552   899.00000       1.00000\n",
       "3  06.01.2013               0       25     2554  1709.05000       1.00000\n",
       "4  15.01.2013               0       25     2555  1099.00000       1.00000\n",
       "5  10.01.2013               0       25     2564   349.00000       1.00000"
      ]
     },
     "execution_count": 40,
     "metadata": {},
     "output_type": "execute_result"
    }
   ],
   "source": [
    "train_data.head()"
   ]
  },
  {
   "cell_type": "code",
   "execution_count": 41,
   "metadata": {
    "execution": {
     "iopub.execute_input": "2020-10-26T14:58:54.480548Z",
     "iopub.status.busy": "2020-10-26T14:58:54.479751Z",
     "iopub.status.idle": "2020-10-26T14:58:55.755875Z",
     "shell.execute_reply": "2020-10-26T14:58:55.755069Z"
    },
    "papermill": {
     "duration": 1.384598,
     "end_time": "2020-10-26T14:58:55.756005",
     "exception": false,
     "start_time": "2020-10-26T14:58:54.371407",
     "status": "completed"
    },
    "tags": []
   },
   "outputs": [],
   "source": [
    "train_final= train_data.join(items_data, on='item_id',rsuffix='_')\n",
    "train_final = train_final.join(shops_data, on='shop_id', rsuffix='_')\n",
    "train_final = train_final.join(categories_data, on='item_category_id', rsuffix='_')"
   ]
  },
  {
   "cell_type": "code",
   "execution_count": 42,
   "metadata": {
    "execution": {
     "iopub.execute_input": "2020-10-26T14:58:55.975337Z",
     "iopub.status.busy": "2020-10-26T14:58:55.973984Z",
     "iopub.status.idle": "2020-10-26T14:58:56.765460Z",
     "shell.execute_reply": "2020-10-26T14:58:56.764532Z"
    },
    "papermill": {
     "duration": 0.909685,
     "end_time": "2020-10-26T14:58:56.765645",
     "exception": false,
     "start_time": "2020-10-26T14:58:55.855960",
     "status": "completed"
    },
    "tags": []
   },
   "outputs": [
    {
     "name": "stdout",
     "output_type": "stream",
     "text": [
      "<class 'pandas.core.frame.DataFrame'>\n",
      "Int64Index: 2928493 entries, 0 to 2935848\n",
      "Data columns (total 13 columns):\n",
      " #   Column              Dtype  \n",
      "---  ------              -----  \n",
      " 0   date                object \n",
      " 1   date_block_num      int16  \n",
      " 2   shop_id             int16  \n",
      " 3   item_id             int16  \n",
      " 4   item_price          float32\n",
      " 5   item_cnt_day        float32\n",
      " 6   item_name           object \n",
      " 7   item_id_            int16  \n",
      " 8   item_category_id    int16  \n",
      " 9   shop_name           object \n",
      " 10  shop_id_            int16  \n",
      " 11  item_category_name  object \n",
      " 12  item_category_id_   int16  \n",
      "dtypes: float32(2), int16(7), object(4)\n",
      "memory usage: 173.2+ MB\n",
      "None\n"
     ]
    }
   ],
   "source": [
    "#Since dataset consumes large amount of data, we reduce size of some datatypes by downcasting\n",
    "def downcast_dtypes(df):\n",
    "    float_cols = [c for c in df if df[c].dtype == \"float64\"]\n",
    "    int_cols = [c for c in df if df[c].dtype in [\"int64\", \"int32\"]]\n",
    "    df[float_cols] = df[float_cols].astype(np.float32)\n",
    "    df[int_cols] = df[int_cols].astype(np.int16)\n",
    "    return df\n",
    "\n",
    "train_final = downcast_dtypes(train_final)\n",
    "print(train_final.info())"
   ]
  },
  {
   "cell_type": "code",
   "execution_count": 43,
   "metadata": {
    "execution": {
     "iopub.execute_input": "2020-10-26T14:58:57.013396Z",
     "iopub.status.busy": "2020-10-26T14:58:57.012149Z",
     "iopub.status.idle": "2020-10-26T14:58:57.823998Z",
     "shell.execute_reply": "2020-10-26T14:58:57.823356Z"
    },
    "papermill": {
     "duration": 0.944248,
     "end_time": "2020-10-26T14:58:57.824135",
     "exception": false,
     "start_time": "2020-10-26T14:58:56.879887",
     "status": "completed"
    },
    "tags": []
   },
   "outputs": [
    {
     "name": "stdout",
     "output_type": "stream",
     "text": [
      "Data set size before leaking: 2928493\n",
      "Data set size after leaking: 1221498\n"
     ]
    }
   ],
   "source": [
    "test_shop_ids = test_data['shop_id'].unique()\n",
    "test_item_ids = test_data['item_id'].unique()\n",
    "# Only shops that exist in test set.\n",
    "leak_df = train_final[train_final['shop_id'].isin(test_shop_ids)]\n",
    "# Only items that exist in test set.\n",
    "leak_df = leak_df[leak_df['item_id'].isin(test_item_ids)]\n",
    "print('Data set size before leaking:', train_final.shape[0])\n",
    "print('Data set size after leaking:', leak_df.shape[0])\n",
    "train_final = leak_df"
   ]
  },
  {
   "cell_type": "code",
   "execution_count": 44,
   "metadata": {
    "execution": {
     "iopub.execute_input": "2020-10-26T14:58:58.046207Z",
     "iopub.status.busy": "2020-10-26T14:58:58.045402Z",
     "iopub.status.idle": "2020-10-26T14:58:58.085909Z",
     "shell.execute_reply": "2020-10-26T14:58:58.086475Z"
    },
    "papermill": {
     "duration": 0.158479,
     "end_time": "2020-10-26T14:58:58.086694",
     "exception": false,
     "start_time": "2020-10-26T14:58:57.928215",
     "status": "completed"
    },
    "tags": []
   },
   "outputs": [],
   "source": [
    "#Drop these string based columns, that are not required for training purposes\n",
    "train_final.drop(['item_name','shop_name','item_category_name','item_category_id'],axis=1,inplace=True)"
   ]
  },
  {
   "cell_type": "code",
   "execution_count": 45,
   "metadata": {
    "execution": {
     "iopub.execute_input": "2020-10-26T14:58:58.312411Z",
     "iopub.status.busy": "2020-10-26T14:58:58.311441Z",
     "iopub.status.idle": "2020-10-26T14:58:58.317383Z",
     "shell.execute_reply": "2020-10-26T14:58:58.316465Z"
    },
    "papermill": {
     "duration": 0.124936,
     "end_time": "2020-10-26T14:58:58.317516",
     "exception": false,
     "start_time": "2020-10-26T14:58:58.192580",
     "status": "completed"
    },
    "tags": []
   },
   "outputs": [
    {
     "data": {
      "text/html": [
       "<div>\n",
       "<style scoped>\n",
       "    .dataframe tbody tr th:only-of-type {\n",
       "        vertical-align: middle;\n",
       "    }\n",
       "\n",
       "    .dataframe tbody tr th {\n",
       "        vertical-align: top;\n",
       "    }\n",
       "\n",
       "    .dataframe thead th {\n",
       "        text-align: right;\n",
       "    }\n",
       "</style>\n",
       "<table border=\"1\" class=\"dataframe\">\n",
       "  <thead>\n",
       "    <tr style=\"text-align: right;\">\n",
       "      <th></th>\n",
       "      <th>date</th>\n",
       "      <th>date_block_num</th>\n",
       "      <th>shop_id</th>\n",
       "      <th>item_id</th>\n",
       "      <th>item_price</th>\n",
       "      <th>item_cnt_day</th>\n",
       "      <th>item_id_</th>\n",
       "      <th>shop_id_</th>\n",
       "      <th>item_category_id_</th>\n",
       "    </tr>\n",
       "  </thead>\n",
       "  <tbody>\n",
       "    <tr>\n",
       "      <th>0</th>\n",
       "      <td>02.01.2013</td>\n",
       "      <td>0</td>\n",
       "      <td>59</td>\n",
       "      <td>22154</td>\n",
       "      <td>999.00000</td>\n",
       "      <td>1.00000</td>\n",
       "      <td>22154</td>\n",
       "      <td>59</td>\n",
       "      <td>37</td>\n",
       "    </tr>\n",
       "    <tr>\n",
       "      <th>10</th>\n",
       "      <td>03.01.2013</td>\n",
       "      <td>0</td>\n",
       "      <td>25</td>\n",
       "      <td>2574</td>\n",
       "      <td>399.00000</td>\n",
       "      <td>2.00000</td>\n",
       "      <td>2574</td>\n",
       "      <td>25</td>\n",
       "      <td>55</td>\n",
       "    </tr>\n",
       "    <tr>\n",
       "      <th>11</th>\n",
       "      <td>05.01.2013</td>\n",
       "      <td>0</td>\n",
       "      <td>25</td>\n",
       "      <td>2574</td>\n",
       "      <td>399.00000</td>\n",
       "      <td>1.00000</td>\n",
       "      <td>2574</td>\n",
       "      <td>25</td>\n",
       "      <td>55</td>\n",
       "    </tr>\n",
       "    <tr>\n",
       "      <th>12</th>\n",
       "      <td>07.01.2013</td>\n",
       "      <td>0</td>\n",
       "      <td>25</td>\n",
       "      <td>2574</td>\n",
       "      <td>399.00000</td>\n",
       "      <td>1.00000</td>\n",
       "      <td>2574</td>\n",
       "      <td>25</td>\n",
       "      <td>55</td>\n",
       "    </tr>\n",
       "    <tr>\n",
       "      <th>13</th>\n",
       "      <td>08.01.2013</td>\n",
       "      <td>0</td>\n",
       "      <td>25</td>\n",
       "      <td>2574</td>\n",
       "      <td>399.00000</td>\n",
       "      <td>2.00000</td>\n",
       "      <td>2574</td>\n",
       "      <td>25</td>\n",
       "      <td>55</td>\n",
       "    </tr>\n",
       "  </tbody>\n",
       "</table>\n",
       "</div>"
      ],
      "text/plain": [
       "          date  date_block_num  shop_id  item_id  item_price  item_cnt_day  \\\n",
       "0   02.01.2013               0       59    22154   999.00000       1.00000   \n",
       "10  03.01.2013               0       25     2574   399.00000       2.00000   \n",
       "11  05.01.2013               0       25     2574   399.00000       1.00000   \n",
       "12  07.01.2013               0       25     2574   399.00000       1.00000   \n",
       "13  08.01.2013               0       25     2574   399.00000       2.00000   \n",
       "\n",
       "    item_id_  shop_id_  item_category_id_  \n",
       "0      22154        59                 37  \n",
       "10      2574        25                 55  \n",
       "11      2574        25                 55  \n",
       "12      2574        25                 55  \n",
       "13      2574        25                 55  "
      ]
     },
     "execution_count": 45,
     "metadata": {},
     "output_type": "execute_result"
    }
   ],
   "source": [
    "train_final.head()"
   ]
  },
  {
   "cell_type": "raw",
   "metadata": {
    "papermill": {
     "duration": 0.105164,
     "end_time": "2020-10-26T14:58:58.527876",
     "exception": false,
     "start_time": "2020-10-26T14:58:58.422712",
     "status": "completed"
    },
    "tags": []
   },
   "source": []
  },
  {
   "cell_type": "code",
   "execution_count": 46,
   "metadata": {
    "execution": {
     "iopub.execute_input": "2020-10-26T14:58:58.743640Z",
     "iopub.status.busy": "2020-10-26T14:58:58.742865Z",
     "iopub.status.idle": "2020-10-26T14:58:58.773728Z",
     "shell.execute_reply": "2020-10-26T14:58:58.772930Z"
    },
    "papermill": {
     "duration": 0.141139,
     "end_time": "2020-10-26T14:58:58.773856",
     "exception": false,
     "start_time": "2020-10-26T14:58:58.632717",
     "status": "completed"
    },
    "tags": []
   },
   "outputs": [],
   "source": [
    "#shop_id_ and shop_id are the same so we drop one of them\n",
    "#item_id_ and item_id are the same so we drop one of them\n",
    "train_final.drop(['shop_id_','item_id_'],axis=1,inplace=True)"
   ]
  },
  {
   "cell_type": "code",
   "execution_count": 47,
   "metadata": {
    "execution": {
     "iopub.execute_input": "2020-10-26T14:58:58.996543Z",
     "iopub.status.busy": "2020-10-26T14:58:58.995628Z",
     "iopub.status.idle": "2020-10-26T14:58:59.001815Z",
     "shell.execute_reply": "2020-10-26T14:58:59.000966Z"
    },
    "papermill": {
     "duration": 0.123384,
     "end_time": "2020-10-26T14:58:59.001954",
     "exception": false,
     "start_time": "2020-10-26T14:58:58.878570",
     "status": "completed"
    },
    "tags": []
   },
   "outputs": [
    {
     "data": {
      "text/html": [
       "<div>\n",
       "<style scoped>\n",
       "    .dataframe tbody tr th:only-of-type {\n",
       "        vertical-align: middle;\n",
       "    }\n",
       "\n",
       "    .dataframe tbody tr th {\n",
       "        vertical-align: top;\n",
       "    }\n",
       "\n",
       "    .dataframe thead th {\n",
       "        text-align: right;\n",
       "    }\n",
       "</style>\n",
       "<table border=\"1\" class=\"dataframe\">\n",
       "  <thead>\n",
       "    <tr style=\"text-align: right;\">\n",
       "      <th></th>\n",
       "      <th>date</th>\n",
       "      <th>date_block_num</th>\n",
       "      <th>shop_id</th>\n",
       "      <th>item_id</th>\n",
       "      <th>item_price</th>\n",
       "      <th>item_cnt_day</th>\n",
       "      <th>item_category_id_</th>\n",
       "    </tr>\n",
       "  </thead>\n",
       "  <tbody>\n",
       "    <tr>\n",
       "      <th>0</th>\n",
       "      <td>02.01.2013</td>\n",
       "      <td>0</td>\n",
       "      <td>59</td>\n",
       "      <td>22154</td>\n",
       "      <td>999.00000</td>\n",
       "      <td>1.00000</td>\n",
       "      <td>37</td>\n",
       "    </tr>\n",
       "    <tr>\n",
       "      <th>10</th>\n",
       "      <td>03.01.2013</td>\n",
       "      <td>0</td>\n",
       "      <td>25</td>\n",
       "      <td>2574</td>\n",
       "      <td>399.00000</td>\n",
       "      <td>2.00000</td>\n",
       "      <td>55</td>\n",
       "    </tr>\n",
       "    <tr>\n",
       "      <th>11</th>\n",
       "      <td>05.01.2013</td>\n",
       "      <td>0</td>\n",
       "      <td>25</td>\n",
       "      <td>2574</td>\n",
       "      <td>399.00000</td>\n",
       "      <td>1.00000</td>\n",
       "      <td>55</td>\n",
       "    </tr>\n",
       "    <tr>\n",
       "      <th>12</th>\n",
       "      <td>07.01.2013</td>\n",
       "      <td>0</td>\n",
       "      <td>25</td>\n",
       "      <td>2574</td>\n",
       "      <td>399.00000</td>\n",
       "      <td>1.00000</td>\n",
       "      <td>55</td>\n",
       "    </tr>\n",
       "    <tr>\n",
       "      <th>13</th>\n",
       "      <td>08.01.2013</td>\n",
       "      <td>0</td>\n",
       "      <td>25</td>\n",
       "      <td>2574</td>\n",
       "      <td>399.00000</td>\n",
       "      <td>2.00000</td>\n",
       "      <td>55</td>\n",
       "    </tr>\n",
       "  </tbody>\n",
       "</table>\n",
       "</div>"
      ],
      "text/plain": [
       "          date  date_block_num  shop_id  item_id  item_price  item_cnt_day  \\\n",
       "0   02.01.2013               0       59    22154   999.00000       1.00000   \n",
       "10  03.01.2013               0       25     2574   399.00000       2.00000   \n",
       "11  05.01.2013               0       25     2574   399.00000       1.00000   \n",
       "12  07.01.2013               0       25     2574   399.00000       1.00000   \n",
       "13  08.01.2013               0       25     2574   399.00000       2.00000   \n",
       "\n",
       "    item_category_id_  \n",
       "0                  37  \n",
       "10                 55  \n",
       "11                 55  \n",
       "12                 55  \n",
       "13                 55  "
      ]
     },
     "execution_count": 47,
     "metadata": {},
     "output_type": "execute_result"
    }
   ],
   "source": [
    "train_final.head()"
   ]
  },
  {
   "cell_type": "code",
   "execution_count": 48,
   "metadata": {
    "execution": {
     "iopub.execute_input": "2020-10-26T14:58:59.226619Z",
     "iopub.status.busy": "2020-10-26T14:58:59.225179Z",
     "iopub.status.idle": "2020-10-26T14:58:59.281639Z",
     "shell.execute_reply": "2020-10-26T14:58:59.280888Z"
    },
    "papermill": {
     "duration": 0.17009,
     "end_time": "2020-10-26T14:58:59.281780",
     "exception": false,
     "start_time": "2020-10-26T14:58:59.111690",
     "status": "completed"
    },
    "tags": []
   },
   "outputs": [],
   "source": [
    "#Drop rows where item price is less than zero\n",
    "train_final=train_final[train_final['item_price']>0]"
   ]
  },
  {
   "cell_type": "code",
   "execution_count": 49,
   "metadata": {
    "execution": {
     "iopub.execute_input": "2020-10-26T14:58:59.632808Z",
     "iopub.status.busy": "2020-10-26T14:58:59.631942Z",
     "iopub.status.idle": "2020-10-26T14:59:02.691231Z",
     "shell.execute_reply": "2020-10-26T14:59:02.690434Z"
    },
    "papermill": {
     "duration": 3.303521,
     "end_time": "2020-10-26T14:59:02.691362",
     "exception": false,
     "start_time": "2020-10-26T14:58:59.387841",
     "status": "completed"
    },
    "tags": []
   },
   "outputs": [],
   "source": [
    "#We group the data by the month block number, shop_id and item_id, so that predictions can be made based on that\n",
    "train_final = train_final.sort_values('date').groupby(['date_block_num', 'shop_id','item_id'], as_index=False)\n",
    "#getting aggregates as extra columns\n",
    "train_final = train_final.agg({'item_price':['sum', 'mean'], 'item_cnt_day':['sum', 'mean','count']})\n",
    "# Rename features.\n",
    "train_final.columns = ['date_block_num', 'shop_id', 'item_id', 'item_price', 'mitem_price', 'item_cnt', 'mitem_cnt', 'transactions']"
   ]
  },
  {
   "cell_type": "code",
   "execution_count": 50,
   "metadata": {
    "execution": {
     "iopub.execute_input": "2020-10-26T14:59:02.905280Z",
     "iopub.status.busy": "2020-10-26T14:59:02.904411Z",
     "iopub.status.idle": "2020-10-26T14:59:03.843825Z",
     "shell.execute_reply": "2020-10-26T14:59:03.843055Z"
    },
    "papermill": {
     "duration": 1.049132,
     "end_time": "2020-10-26T14:59:03.843951",
     "exception": false,
     "start_time": "2020-10-26T14:59:02.794819",
     "status": "completed"
    },
    "tags": []
   },
   "outputs": [],
   "source": [
    "train_final['year'] = train_final['date_block_num'].apply(lambda x: ((x//12) + 2013))\n",
    "train_final['month'] = train_final['date_block_num'].apply(lambda x: (x % 12))"
   ]
  },
  {
   "cell_type": "code",
   "execution_count": 51,
   "metadata": {
    "execution": {
     "iopub.execute_input": "2020-10-26T14:59:04.070347Z",
     "iopub.status.busy": "2020-10-26T14:59:04.069191Z",
     "iopub.status.idle": "2020-10-26T14:59:04.117464Z",
     "shell.execute_reply": "2020-10-26T14:59:04.118594Z"
    },
    "papermill": {
     "duration": 0.17028,
     "end_time": "2020-10-26T14:59:04.118874",
     "exception": false,
     "start_time": "2020-10-26T14:59:03.948594",
     "status": "completed"
    },
    "tags": []
   },
   "outputs": [],
   "source": [
    "#Keep only the data that satisfies the condition as the rest are outliers\n",
    "train_final = train_final.query('item_cnt >= 0 and item_cnt <= 1500 and item_price < 400000')"
   ]
  },
  {
   "cell_type": "code",
   "execution_count": 52,
   "metadata": {
    "execution": {
     "iopub.execute_input": "2020-10-26T14:59:04.352637Z",
     "iopub.status.busy": "2020-10-26T14:59:04.351532Z",
     "iopub.status.idle": "2020-10-26T14:59:04.483425Z",
     "shell.execute_reply": "2020-10-26T14:59:04.482779Z"
    },
    "papermill": {
     "duration": 0.255718,
     "end_time": "2020-10-26T14:59:04.483628",
     "exception": false,
     "start_time": "2020-10-26T14:59:04.227910",
     "status": "completed"
    },
    "tags": []
   },
   "outputs": [],
   "source": [
    "train_final['cnt_m'] = train_final.sort_values('date_block_num').groupby(['shop_id','item_id'])['item_cnt'].shift(-1)"
   ]
  },
  {
   "cell_type": "code",
   "execution_count": 53,
   "metadata": {
    "execution": {
     "iopub.execute_input": "2020-10-26T14:59:04.716992Z",
     "iopub.status.busy": "2020-10-26T14:59:04.715991Z",
     "iopub.status.idle": "2020-10-26T14:59:04.720803Z",
     "shell.execute_reply": "2020-10-26T14:59:04.720205Z"
    },
    "papermill": {
     "duration": 0.123726,
     "end_time": "2020-10-26T14:59:04.720933",
     "exception": false,
     "start_time": "2020-10-26T14:59:04.597207",
     "status": "completed"
    },
    "tags": []
   },
   "outputs": [
    {
     "data": {
      "text/html": [
       "<div>\n",
       "<style scoped>\n",
       "    .dataframe tbody tr th:only-of-type {\n",
       "        vertical-align: middle;\n",
       "    }\n",
       "\n",
       "    .dataframe tbody tr th {\n",
       "        vertical-align: top;\n",
       "    }\n",
       "\n",
       "    .dataframe thead th {\n",
       "        text-align: right;\n",
       "    }\n",
       "</style>\n",
       "<table border=\"1\" class=\"dataframe\">\n",
       "  <thead>\n",
       "    <tr style=\"text-align: right;\">\n",
       "      <th></th>\n",
       "      <th>date_block_num</th>\n",
       "      <th>shop_id</th>\n",
       "      <th>item_id</th>\n",
       "      <th>item_price</th>\n",
       "      <th>mitem_price</th>\n",
       "      <th>item_cnt</th>\n",
       "      <th>mitem_cnt</th>\n",
       "      <th>transactions</th>\n",
       "      <th>year</th>\n",
       "      <th>month</th>\n",
       "      <th>cnt_m</th>\n",
       "    </tr>\n",
       "  </thead>\n",
       "  <tbody>\n",
       "    <tr>\n",
       "      <th>0</th>\n",
       "      <td>0</td>\n",
       "      <td>2</td>\n",
       "      <td>33</td>\n",
       "      <td>499.00000</td>\n",
       "      <td>499.00000</td>\n",
       "      <td>1.00000</td>\n",
       "      <td>1.00000</td>\n",
       "      <td>1</td>\n",
       "      <td>2013</td>\n",
       "      <td>0</td>\n",
       "      <td>2.00000</td>\n",
       "    </tr>\n",
       "    <tr>\n",
       "      <th>1</th>\n",
       "      <td>0</td>\n",
       "      <td>2</td>\n",
       "      <td>482</td>\n",
       "      <td>3300.00000</td>\n",
       "      <td>3300.00000</td>\n",
       "      <td>1.00000</td>\n",
       "      <td>1.00000</td>\n",
       "      <td>1</td>\n",
       "      <td>2013</td>\n",
       "      <td>0</td>\n",
       "      <td>1.00000</td>\n",
       "    </tr>\n",
       "    <tr>\n",
       "      <th>2</th>\n",
       "      <td>0</td>\n",
       "      <td>2</td>\n",
       "      <td>491</td>\n",
       "      <td>600.00000</td>\n",
       "      <td>600.00000</td>\n",
       "      <td>1.00000</td>\n",
       "      <td>1.00000</td>\n",
       "      <td>1</td>\n",
       "      <td>2013</td>\n",
       "      <td>0</td>\n",
       "      <td>1.00000</td>\n",
       "    </tr>\n",
       "    <tr>\n",
       "      <th>3</th>\n",
       "      <td>0</td>\n",
       "      <td>2</td>\n",
       "      <td>839</td>\n",
       "      <td>3300.00000</td>\n",
       "      <td>3300.00000</td>\n",
       "      <td>1.00000</td>\n",
       "      <td>1.00000</td>\n",
       "      <td>1</td>\n",
       "      <td>2013</td>\n",
       "      <td>0</td>\n",
       "      <td>1.00000</td>\n",
       "    </tr>\n",
       "    <tr>\n",
       "      <th>4</th>\n",
       "      <td>0</td>\n",
       "      <td>2</td>\n",
       "      <td>1007</td>\n",
       "      <td>1347.00000</td>\n",
       "      <td>449.00000</td>\n",
       "      <td>3.00000</td>\n",
       "      <td>1.00000</td>\n",
       "      <td>3</td>\n",
       "      <td>2013</td>\n",
       "      <td>0</td>\n",
       "      <td>1.00000</td>\n",
       "    </tr>\n",
       "  </tbody>\n",
       "</table>\n",
       "</div>"
      ],
      "text/plain": [
       "   date_block_num  shop_id  item_id  item_price  mitem_price  item_cnt  \\\n",
       "0               0        2       33   499.00000    499.00000   1.00000   \n",
       "1               0        2      482  3300.00000   3300.00000   1.00000   \n",
       "2               0        2      491   600.00000    600.00000   1.00000   \n",
       "3               0        2      839  3300.00000   3300.00000   1.00000   \n",
       "4               0        2     1007  1347.00000    449.00000   3.00000   \n",
       "\n",
       "   mitem_cnt  transactions  year  month   cnt_m  \n",
       "0    1.00000             1  2013      0 2.00000  \n",
       "1    1.00000             1  2013      0 1.00000  \n",
       "2    1.00000             1  2013      0 1.00000  \n",
       "3    1.00000             1  2013      0 1.00000  \n",
       "4    1.00000             3  2013      0 1.00000  "
      ]
     },
     "execution_count": 53,
     "metadata": {},
     "output_type": "execute_result"
    }
   ],
   "source": [
    "train_final.head()"
   ]
  },
  {
   "cell_type": "code",
   "execution_count": 54,
   "metadata": {
    "execution": {
     "iopub.execute_input": "2020-10-26T14:59:04.941469Z",
     "iopub.status.busy": "2020-10-26T14:59:04.940538Z",
     "iopub.status.idle": "2020-10-26T14:59:26.700006Z",
     "shell.execute_reply": "2020-10-26T14:59:26.699225Z"
    },
    "papermill": {
     "duration": 21.873756,
     "end_time": "2020-10-26T14:59:26.700134",
     "exception": false,
     "start_time": "2020-10-26T14:59:04.826378",
     "status": "completed"
    },
    "tags": []
   },
   "outputs": [
    {
     "name": "stdout",
     "output_type": "stream",
     "text": [
      "21.755233764648438\n"
     ]
    }
   ],
   "source": [
    "#We need to have all combinations of date_block_num,shop_id,item_id\n",
    "#So we add the ones that are not already present\n",
    "#Then we fill them up with zeros\n",
    "import time\n",
    "ts = time.time()\n",
    "shop_ids = train_final['shop_id'].unique()\n",
    "item_ids = train_final['item_id'].unique()\n",
    "empty_df = []\n",
    "for i in range(34):\n",
    "    for shop in shop_ids:\n",
    "        for item in item_ids:\n",
    "            empty_df.append([i, shop, item])\n",
    "    \n",
    "empty_df = pd.DataFrame(empty_df, columns=['date_block_num','shop_id','item_id'])\n",
    "print(time.time()-ts)"
   ]
  },
  {
   "cell_type": "code",
   "execution_count": 55,
   "metadata": {
    "execution": {
     "iopub.execute_input": "2020-10-26T14:59:26.918083Z",
     "iopub.status.busy": "2020-10-26T14:59:26.917303Z",
     "iopub.status.idle": "2020-10-26T14:59:29.222843Z",
     "shell.execute_reply": "2020-10-26T14:59:29.222147Z"
    },
    "papermill": {
     "duration": 2.417712,
     "end_time": "2020-10-26T14:59:29.222971",
     "exception": false,
     "start_time": "2020-10-26T14:59:26.805259",
     "status": "completed"
    },
    "tags": []
   },
   "outputs": [],
   "source": [
    "train_final = pd.merge(empty_df, train_final, on=['date_block_num','shop_id','item_id'], how='left')\n",
    "train_final.fillna(0, inplace=True)"
   ]
  },
  {
   "cell_type": "code",
   "execution_count": 56,
   "metadata": {
    "execution": {
     "iopub.execute_input": "2020-10-26T14:59:29.448838Z",
     "iopub.status.busy": "2020-10-26T14:59:29.447267Z",
     "iopub.status.idle": "2020-10-26T14:59:30.205024Z",
     "shell.execute_reply": "2020-10-26T14:59:30.204349Z"
    },
    "papermill": {
     "duration": 0.874456,
     "end_time": "2020-10-26T14:59:30.205163",
     "exception": false,
     "start_time": "2020-10-26T14:59:29.330707",
     "status": "completed"
    },
    "tags": []
   },
   "outputs": [
    {
     "name": "stdout",
     "output_type": "stream",
     "text": [
      "Train set records: 5149872\n",
      "Validation set records: 1386504\n",
      "Test set records: 198072\n",
      "Percent of train_set: 76.47058823529412 %\n",
      "Percent of validation_set: 20.588235294117645 %\n",
      "Percent of test_set: 2.941176470588235 %\n"
     ]
    }
   ],
   "source": [
    "#Split the dataset into train, test and validation sets\n",
    "#date block no.s 0 to 25 -> train set\n",
    "#date block no.s 26 to 32 -> validation set\n",
    "#date block no 33 -> test set\n",
    "train_set = train_final.query('date_block_num >= 0 and date_block_num < 26').copy()\n",
    "validation_set = train_final.query('date_block_num >= 26 and date_block_num < 33').copy()\n",
    "test_set = train_final.query('date_block_num == 33').copy()\n",
    "\n",
    "print('Train set records:', train_set.shape[0])\n",
    "print('Validation set records:', validation_set.shape[0])\n",
    "print('Test set records:', test_set.shape[0])\n",
    "\n",
    "print('Percent of train_set:',(train_set.shape[0]/train_final.shape[0])*100,'%')\n",
    "print('Percent of validation_set:',(validation_set.shape[0]/train_final.shape[0])*100,'%')\n",
    "print('Percent of test_set:',(test_set.shape[0]/train_final.shape[0])*100,'%')"
   ]
  },
  {
   "cell_type": "code",
   "execution_count": 57,
   "metadata": {
    "execution": {
     "iopub.execute_input": "2020-10-26T14:59:30.431755Z",
     "iopub.status.busy": "2020-10-26T14:59:30.430874Z",
     "iopub.status.idle": "2020-10-26T14:59:30.804618Z",
     "shell.execute_reply": "2020-10-26T14:59:30.803997Z"
    },
    "papermill": {
     "duration": 0.491426,
     "end_time": "2020-10-26T14:59:30.804775",
     "exception": false,
     "start_time": "2020-10-26T14:59:30.313349",
     "status": "completed"
    },
    "tags": []
   },
   "outputs": [],
   "source": [
    "#dropping NA\n",
    "train_set.dropna(subset=['cnt_m'], inplace=True)\n",
    "validation_set.dropna(subset=['cnt_m'], inplace=True)"
   ]
  },
  {
   "cell_type": "code",
   "execution_count": 58,
   "metadata": {
    "execution": {
     "iopub.execute_input": "2020-10-26T14:59:31.090867Z",
     "iopub.status.busy": "2020-10-26T14:59:31.090009Z",
     "iopub.status.idle": "2020-10-26T14:59:31.183313Z",
     "shell.execute_reply": "2020-10-26T14:59:31.182479Z"
    },
    "papermill": {
     "duration": 0.272219,
     "end_time": "2020-10-26T14:59:31.183454",
     "exception": false,
     "start_time": "2020-10-26T14:59:30.911235",
     "status": "completed"
    },
    "tags": []
   },
   "outputs": [],
   "source": [
    "# Creating training set\n",
    "x_train = train_set.drop(['cnt_m','date_block_num'],axis=1)\n",
    "y_train = train_set['cnt_m'].astype(int)\n",
    "\n",
    "#Creating validation set\n",
    "x_val = validation_set.drop(['cnt_m','date_block_num'],axis=1)\n",
    "y_val = validation_set['cnt_m'].astype(int)"
   ]
  },
  {
   "cell_type": "code",
   "execution_count": 59,
   "metadata": {
    "execution": {
     "iopub.execute_input": "2020-10-26T14:59:31.409289Z",
     "iopub.status.busy": "2020-10-26T14:59:31.408459Z",
     "iopub.status.idle": "2020-10-26T14:59:32.224480Z",
     "shell.execute_reply": "2020-10-26T14:59:32.223839Z"
    },
    "papermill": {
     "duration": 0.932262,
     "end_time": "2020-10-26T14:59:32.224627",
     "exception": false,
     "start_time": "2020-10-26T14:59:31.292365",
     "status": "completed"
    },
    "tags": []
   },
   "outputs": [],
   "source": [
    "latest_records = pd.concat([train_set, validation_set]).drop_duplicates(subset=['shop_id', 'item_id'], keep='last')\n",
    "x_test = pd.merge(test_data, latest_records, on=['shop_id', 'item_id'], how='left', suffixes=['', '_'])\n",
    "x_test['year'] = 2015\n",
    "x_test['month'] = 9\n",
    "x_test.drop('cnt_m', axis=1, inplace=True)\n",
    "x_test = x_test[x_train.columns]"
   ]
  },
  {
   "cell_type": "code",
   "execution_count": 60,
   "metadata": {
    "execution": {
     "iopub.execute_input": "2020-10-26T14:59:32.450940Z",
     "iopub.status.busy": "2020-10-26T14:59:32.450124Z",
     "iopub.status.idle": "2020-10-26T14:59:59.180886Z",
     "shell.execute_reply": "2020-10-26T14:59:59.181528Z"
    },
    "papermill": {
     "duration": 26.847442,
     "end_time": "2020-10-26T14:59:59.181732",
     "exception": false,
     "start_time": "2020-10-26T14:59:32.334290",
     "status": "completed"
    },
    "tags": []
   },
   "outputs": [],
   "source": [
    "\n",
    "sets = [x_train, x_val, x_test]\n",
    "for dataset in sets:\n",
    "    for shop_id in dataset['shop_id'].unique():\n",
    "        for column in dataset.columns:\n",
    "            shop_median = dataset[(dataset['shop_id'] == shop_id)][column].median()\n",
    "            dataset.loc[(dataset[column].isnull()) & (dataset['shop_id'] == shop_id), column] = shop_median"
   ]
  },
  {
   "cell_type": "code",
   "execution_count": 61,
   "metadata": {
    "execution": {
     "iopub.execute_input": "2020-10-26T14:59:59.404156Z",
     "iopub.status.busy": "2020-10-26T14:59:59.402990Z",
     "iopub.status.idle": "2020-10-26T14:59:59.421493Z",
     "shell.execute_reply": "2020-10-26T14:59:59.420655Z"
    },
    "papermill": {
     "duration": 0.131724,
     "end_time": "2020-10-26T14:59:59.421623",
     "exception": false,
     "start_time": "2020-10-26T14:59:59.289899",
     "status": "completed"
    },
    "tags": []
   },
   "outputs": [],
   "source": [
    "#Fill the remaining missing values in test set with the mean\n",
    "x_test.fillna(x_test.mean(), inplace=True)"
   ]
  },
  {
   "cell_type": "code",
   "execution_count": 62,
   "metadata": {
    "execution": {
     "iopub.execute_input": "2020-10-26T14:59:59.646452Z",
     "iopub.status.busy": "2020-10-26T14:59:59.645701Z",
     "iopub.status.idle": "2020-10-26T15:00:00.051813Z",
     "shell.execute_reply": "2020-10-26T15:00:00.051043Z"
    },
    "papermill": {
     "duration": 0.521735,
     "end_time": "2020-10-26T15:00:00.051989",
     "exception": false,
     "start_time": "2020-10-26T14:59:59.530254",
     "status": "completed"
    },
    "tags": []
   },
   "outputs": [],
   "source": [
    "from sklearn.linear_model import LinearRegression\n",
    "from sklearn.tree import DecisionTreeRegressor\n",
    "from sklearn.ensemble import RandomForestRegressor\n",
    "from scipy import stats"
   ]
  },
  {
   "cell_type": "code",
   "execution_count": 63,
   "metadata": {
    "execution": {
     "iopub.execute_input": "2020-10-26T15:00:00.274958Z",
     "iopub.status.busy": "2020-10-26T15:00:00.274186Z",
     "iopub.status.idle": "2020-10-26T15:00:00.276862Z",
     "shell.execute_reply": "2020-10-26T15:00:00.277465Z"
    },
    "papermill": {
     "duration": 0.11769,
     "end_time": "2020-10-26T15:00:00.277632",
     "exception": false,
     "start_time": "2020-10-26T15:00:00.159942",
     "status": "completed"
    },
    "tags": []
   },
   "outputs": [],
   "source": [
    "#base model is m1->Linear Regression\n",
    "#Another model is m2->Random Forest Regression\n",
    "m1 = LinearRegression()\n",
    "m2 = RandomForestRegressor(n_estimators=10)"
   ]
  },
  {
   "cell_type": "code",
   "execution_count": 64,
   "metadata": {
    "execution": {
     "iopub.execute_input": "2020-10-26T15:00:00.501060Z",
     "iopub.status.busy": "2020-10-26T15:00:00.500289Z",
     "iopub.status.idle": "2020-10-26T15:00:01.794330Z",
     "shell.execute_reply": "2020-10-26T15:00:01.794983Z"
    },
    "papermill": {
     "duration": 1.409752,
     "end_time": "2020-10-26T15:00:01.795187",
     "exception": false,
     "start_time": "2020-10-26T15:00:00.385435",
     "status": "completed"
    },
    "tags": []
   },
   "outputs": [
    {
     "data": {
      "text/plain": [
       "LinearRegression()"
      ]
     },
     "execution_count": 64,
     "metadata": {},
     "output_type": "execute_result"
    }
   ],
   "source": [
    "m1.fit(x_train,y_train)"
   ]
  },
  {
   "cell_type": "code",
   "execution_count": 65,
   "metadata": {
    "execution": {
     "iopub.execute_input": "2020-10-26T15:00:02.035593Z",
     "iopub.status.busy": "2020-10-26T15:00:02.034772Z",
     "iopub.status.idle": "2020-10-26T15:01:07.320718Z",
     "shell.execute_reply": "2020-10-26T15:01:07.321331Z"
    },
    "papermill": {
     "duration": 65.407262,
     "end_time": "2020-10-26T15:01:07.321527",
     "exception": false,
     "start_time": "2020-10-26T15:00:01.914265",
     "status": "completed"
    },
    "tags": []
   },
   "outputs": [
    {
     "data": {
      "text/plain": [
       "RandomForestRegressor(n_estimators=10)"
      ]
     },
     "execution_count": 65,
     "metadata": {},
     "output_type": "execute_result"
    }
   ],
   "source": [
    "m2.fit(x_train,y_train)"
   ]
  },
  {
   "cell_type": "code",
   "execution_count": 66,
   "metadata": {
    "execution": {
     "iopub.execute_input": "2020-10-26T15:01:07.555833Z",
     "iopub.status.busy": "2020-10-26T15:01:07.555036Z",
     "iopub.status.idle": "2020-10-26T15:01:10.796492Z",
     "shell.execute_reply": "2020-10-26T15:01:10.795700Z"
    },
    "papermill": {
     "duration": 3.363765,
     "end_time": "2020-10-26T15:01:10.796615",
     "exception": false,
     "start_time": "2020-10-26T15:01:07.432850",
     "status": "completed"
    },
    "tags": []
   },
   "outputs": [],
   "source": [
    "train_pred1=m1.predict(x_train)\n",
    "train_pred2=m2.predict(x_train)"
   ]
  },
  {
   "cell_type": "code",
   "execution_count": 67,
   "metadata": {
    "execution": {
     "iopub.execute_input": "2020-10-26T15:01:11.030929Z",
     "iopub.status.busy": "2020-10-26T15:01:11.030105Z",
     "iopub.status.idle": "2020-10-26T15:01:11.100741Z",
     "shell.execute_reply": "2020-10-26T15:01:11.099933Z"
    },
    "papermill": {
     "duration": 0.195839,
     "end_time": "2020-10-26T15:01:11.100875",
     "exception": false,
     "start_time": "2020-10-26T15:01:10.905036",
     "status": "completed"
    },
    "tags": []
   },
   "outputs": [
    {
     "name": "stdout",
     "output_type": "stream",
     "text": [
      "Linear Regression RMSE error on training set: 1.7199570838681204\n",
      "Random Forest Regression RMSE error on training set: 0.6357835102394742\n"
     ]
    }
   ],
   "source": [
    "from sklearn.metrics import mean_squared_error\n",
    "print('Linear Regression RMSE error on training set:',np.sqrt(mean_squared_error(y_train, train_pred1)))\n",
    "print('Random Forest Regression RMSE error on training set:',np.sqrt(mean_squared_error(y_train, train_pred2)))"
   ]
  },
  {
   "cell_type": "code",
   "execution_count": 68,
   "metadata": {
    "execution": {
     "iopub.execute_input": "2020-10-26T15:01:11.328703Z",
     "iopub.status.busy": "2020-10-26T15:01:11.327904Z",
     "iopub.status.idle": "2020-10-26T15:01:12.209370Z",
     "shell.execute_reply": "2020-10-26T15:01:12.208538Z"
    },
    "papermill": {
     "duration": 0.998207,
     "end_time": "2020-10-26T15:01:12.209501",
     "exception": false,
     "start_time": "2020-10-26T15:01:11.211294",
     "status": "completed"
    },
    "tags": []
   },
   "outputs": [],
   "source": [
    "val_pred1=m1.predict(x_val)\n",
    "val_pred2=m2.predict(x_val)"
   ]
  },
  {
   "cell_type": "code",
   "execution_count": 69,
   "metadata": {
    "execution": {
     "iopub.execute_input": "2020-10-26T15:01:12.447319Z",
     "iopub.status.busy": "2020-10-26T15:01:12.446498Z",
     "iopub.status.idle": "2020-10-26T15:01:12.466944Z",
     "shell.execute_reply": "2020-10-26T15:01:12.466274Z"
    },
    "papermill": {
     "duration": 0.143521,
     "end_time": "2020-10-26T15:01:12.467084",
     "exception": false,
     "start_time": "2020-10-26T15:01:12.323563",
     "status": "completed"
    },
    "tags": []
   },
   "outputs": [
    {
     "name": "stdout",
     "output_type": "stream",
     "text": [
      "Linear Regression RMSE error on validation set: 1.6969401682988619\n",
      "Random Forest Regression RMSE error on validation set: 1.4216734539186175\n"
     ]
    }
   ],
   "source": [
    "print('Linear Regression RMSE error on validation set:',np.sqrt(mean_squared_error(y_val, val_pred1)))\n",
    "print('Random Forest Regression RMSE error on validation set:',np.sqrt(mean_squared_error(y_val, val_pred2)))"
   ]
  },
  {
   "cell_type": "code",
   "execution_count": 70,
   "metadata": {
    "execution": {
     "iopub.execute_input": "2020-10-26T15:01:12.698235Z",
     "iopub.status.busy": "2020-10-26T15:01:12.697395Z",
     "iopub.status.idle": "2020-10-26T15:01:12.836091Z",
     "shell.execute_reply": "2020-10-26T15:01:12.835304Z"
    },
    "papermill": {
     "duration": 0.25764,
     "end_time": "2020-10-26T15:01:12.836229",
     "exception": false,
     "start_time": "2020-10-26T15:01:12.578589",
     "status": "completed"
    },
    "tags": []
   },
   "outputs": [],
   "source": [
    "#predictions on test set\n",
    "test_pred1=m1.predict(x_test)\n",
    "test_pred2=m2.predict(x_test)"
   ]
  },
  {
   "cell_type": "code",
   "execution_count": 71,
   "metadata": {
    "execution": {
     "iopub.execute_input": "2020-10-26T15:01:13.068299Z",
     "iopub.status.busy": "2020-10-26T15:01:13.067456Z",
     "iopub.status.idle": "2020-10-26T15:02:01.160510Z",
     "shell.execute_reply": "2020-10-26T15:02:01.161509Z"
    },
    "papermill": {
     "duration": 48.212112,
     "end_time": "2020-10-26T15:02:01.161759",
     "exception": false,
     "start_time": "2020-10-26T15:01:12.949647",
     "status": "completed"
    },
    "tags": []
   },
   "outputs": [
    {
     "name": "stdout",
     "output_type": "stream",
     "text": [
      "[15:01:19] WARNING: ../src/gbm/gbtree.cc:139: Tree method is automatically selected to be 'approx' for faster speed. To use old behavior (exact greedy algorithm on single machine), set tree_method to 'exact'.\n",
      "XGBoost RMSE error on training set: 2.2246722594417996\n"
     ]
    }
   ],
   "source": [
    "from xgboost import XGBRegressor\n",
    "from xgboost import plot_importance\n",
    "\n",
    "model = XGBRegressor(max_depth=8,min_child_weight=300,n_estimators=10,eta=0.3)\n",
    "model.fit(x_train,y_train)\n",
    "#1)max_depth is for the depth of the tree. Increasing this value will make the model more complex and more likely to overfit\n",
    "#2)min_child_weight is the minimum sum of instance weight needed in a child. If the tree partition step results in a leaf node with the \n",
    "#sum of instance weight less than min_child_weight, then the building process will give up further partitioning\n",
    "#4) eta is nothing but default learning rate\n",
    "train_xgb_pred=model.predict(x_train)\n",
    "print('XGBoost RMSE error on training set:',np.sqrt(mean_squared_error(y_train, train_xgb_pred)))"
   ]
  },
  {
   "cell_type": "code",
   "execution_count": 72,
   "metadata": {
    "execution": {
     "iopub.execute_input": "2020-10-26T15:02:01.394544Z",
     "iopub.status.busy": "2020-10-26T15:02:01.393721Z",
     "iopub.status.idle": "2020-10-26T15:02:02.128730Z",
     "shell.execute_reply": "2020-10-26T15:02:02.129460Z"
    },
    "papermill": {
     "duration": 0.852827,
     "end_time": "2020-10-26T15:02:02.129652",
     "exception": false,
     "start_time": "2020-10-26T15:02:01.276825",
     "status": "completed"
    },
    "tags": []
   },
   "outputs": [
    {
     "name": "stdout",
     "output_type": "stream",
     "text": [
      "XGBoost RMSE error on validation set: 1.5324831705610868\n"
     ]
    }
   ],
   "source": [
    "val_xgb_pred=model.predict(x_val)\n",
    "print('XGBoost RMSE error on validation set:',np.sqrt(mean_squared_error(y_val, val_xgb_pred)))"
   ]
  },
  {
   "cell_type": "code",
   "execution_count": 73,
   "metadata": {
    "execution": {
     "iopub.execute_input": "2020-10-26T15:02:02.395217Z",
     "iopub.status.busy": "2020-10-26T15:02:02.394422Z",
     "iopub.status.idle": "2020-10-26T15:02:02.490530Z",
     "shell.execute_reply": "2020-10-26T15:02:02.491300Z"
    },
    "papermill": {
     "duration": 0.22304,
     "end_time": "2020-10-26T15:02:02.491514",
     "exception": false,
     "start_time": "2020-10-26T15:02:02.268474",
     "status": "completed"
    },
    "tags": []
   },
   "outputs": [],
   "source": [
    "#predictions on test set\n",
    "test_xgb_pred=model.predict(x_test)"
   ]
  },
  {
   "cell_type": "code",
   "execution_count": null,
   "metadata": {
    "papermill": {
     "duration": 0.12288,
     "end_time": "2020-10-26T15:02:02.749514",
     "exception": false,
     "start_time": "2020-10-26T15:02:02.626634",
     "status": "completed"
    },
    "tags": []
   },
   "outputs": [],
   "source": []
  }
 ],
 "metadata": {
  "kernelspec": {
   "display_name": "Python 3",
   "language": "python",
   "name": "python3"
  },
  "language_info": {
   "codemirror_mode": {
    "name": "ipython",
    "version": 3
   },
   "file_extension": ".py",
   "mimetype": "text/x-python",
   "name": "python",
   "nbconvert_exporter": "python",
   "pygments_lexer": "ipython3",
   "version": "3.7.6"
  },
  "papermill": {
   "duration": 227.124892,
   "end_time": "2020-10-26T15:02:02.970389",
   "environment_variables": {},
   "exception": null,
   "input_path": "__notebook__.ipynb",
   "output_path": "__notebook__.ipynb",
   "parameters": {},
   "start_time": "2020-10-26T14:58:15.845497",
   "version": "2.1.0"
  }
 },
 "nbformat": 4,
 "nbformat_minor": 4
}
